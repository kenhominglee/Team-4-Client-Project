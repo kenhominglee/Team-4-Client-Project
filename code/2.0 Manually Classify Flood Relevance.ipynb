{
 "cells": [
  {
   "cell_type": "markdown",
   "metadata": {},
   "source": [
    "## Project 4: Flood Relevance DataFrame\n",
    "\n",
    "Run data: 4/13/2019"
   ]
  },
  {
   "cell_type": "markdown",
   "metadata": {},
   "source": [
    "This notebook is to import the dataset of 1000 posts and export the dataset with completed classified values on the column, flood_relevance.  The resulted dataset will be saved as a csv form."
   ]
  },
  {
   "cell_type": "code",
   "execution_count": 1,
   "metadata": {},
   "outputs": [],
   "source": [
    "import pandas as pd\n",
    "import numpy as np"
   ]
  },
  {
   "cell_type": "code",
   "execution_count": 2,
   "metadata": {},
   "outputs": [
    {
     "data": {
      "text/html": [
       "<div>\n",
       "<style scoped>\n",
       "    .dataframe tbody tr th:only-of-type {\n",
       "        vertical-align: middle;\n",
       "    }\n",
       "\n",
       "    .dataframe tbody tr th {\n",
       "        vertical-align: top;\n",
       "    }\n",
       "\n",
       "    .dataframe thead th {\n",
       "        text-align: right;\n",
       "    }\n",
       "</style>\n",
       "<table border=\"1\" class=\"dataframe\">\n",
       "  <thead>\n",
       "    <tr style=\"text-align: right;\">\n",
       "      <th></th>\n",
       "      <th>content</th>\n",
       "      <th>description</th>\n",
       "      <th>publishedAt</th>\n",
       "      <th>title</th>\n",
       "      <th>source_name</th>\n",
       "      <th>flood_relevance</th>\n",
       "    </tr>\n",
       "  </thead>\n",
       "  <tbody>\n",
       "    <tr>\n",
       "      <th>0</th>\n",
       "      <td>Chat with us in Facebook Messenger. Find out w...</td>\n",
       "      <td>A pair of environmental reports reveal the wor...</td>\n",
       "      <td>2019-01-16T22:52:24Z</td>\n",
       "      <td>Melting ice could flood Brooklyn Bridge</td>\n",
       "      <td>CNN</td>\n",
       "      <td>0</td>\n",
       "    </tr>\n",
       "    <tr>\n",
       "      <th>1</th>\n",
       "      <td>The aid group said it had seen hundreds of cas...</td>\n",
       "      <td>With vast areas submerged by contaminated wate...</td>\n",
       "      <td>2019-03-27T15:49:20Z</td>\n",
       "      <td>Cholera Outbreak Raises New Danger in Flood-Ra...</td>\n",
       "      <td>The New York Times</td>\n",
       "      <td>0</td>\n",
       "    </tr>\n",
       "    <tr>\n",
       "      <th>2</th>\n",
       "      <td>Finding settings that amplify an operas drama ...</td>\n",
       "      <td>From left: Kristine Flood, Wanda Ferrerias, Ma...</td>\n",
       "      <td>2018-12-04T17:05:05Z</td>\n",
       "      <td>After Struggling With Homelessness, a Chorus S...</td>\n",
       "      <td>The New York Times</td>\n",
       "      <td>0</td>\n",
       "    </tr>\n",
       "    <tr>\n",
       "      <th>3</th>\n",
       "      <td>The amount the ground can soak up is limited, ...</td>\n",
       "      <td>Flooding in the town of Hamburg, Iowa, on Marc...</td>\n",
       "      <td>2019-04-08T20:58:04Z</td>\n",
       "      <td>Powerful Storm Threatens More Misery in Flood-...</td>\n",
       "      <td>The New York Times</td>\n",
       "      <td>0</td>\n",
       "    </tr>\n",
       "    <tr>\n",
       "      <th>4</th>\n",
       "      <td>Many of the levees, usually earthen and topped...</td>\n",
       "      <td>Hundreds of miles of levees in the Midwest hav...</td>\n",
       "      <td>2019-03-31T09:00:10Z</td>\n",
       "      <td>‘Breaches Everywhere’: Midwest Levees Burst, a...</td>\n",
       "      <td>The New York Times</td>\n",
       "      <td>0</td>\n",
       "    </tr>\n",
       "  </tbody>\n",
       "</table>\n",
       "</div>"
      ],
      "text/plain": [
       "                                             content  \\\n",
       "0  Chat with us in Facebook Messenger. Find out w...   \n",
       "1  The aid group said it had seen hundreds of cas...   \n",
       "2  Finding settings that amplify an operas drama ...   \n",
       "3  The amount the ground can soak up is limited, ...   \n",
       "4  Many of the levees, usually earthen and topped...   \n",
       "\n",
       "                                         description           publishedAt  \\\n",
       "0  A pair of environmental reports reveal the wor...  2019-01-16T22:52:24Z   \n",
       "1  With vast areas submerged by contaminated wate...  2019-03-27T15:49:20Z   \n",
       "2  From left: Kristine Flood, Wanda Ferrerias, Ma...  2018-12-04T17:05:05Z   \n",
       "3  Flooding in the town of Hamburg, Iowa, on Marc...  2019-04-08T20:58:04Z   \n",
       "4  Hundreds of miles of levees in the Midwest hav...  2019-03-31T09:00:10Z   \n",
       "\n",
       "                                               title         source_name  \\\n",
       "0            Melting ice could flood Brooklyn Bridge                 CNN   \n",
       "1  Cholera Outbreak Raises New Danger in Flood-Ra...  The New York Times   \n",
       "2  After Struggling With Homelessness, a Chorus S...  The New York Times   \n",
       "3  Powerful Storm Threatens More Misery in Flood-...  The New York Times   \n",
       "4  ‘Breaches Everywhere’: Midwest Levees Burst, a...  The New York Times   \n",
       "\n",
       "   flood_relevance  \n",
       "0                0  \n",
       "1                0  \n",
       "2                0  \n",
       "3                0  \n",
       "4                0  "
      ]
     },
     "execution_count": 2,
     "metadata": {},
     "output_type": "execute_result"
    }
   ],
   "source": [
    "# import raw dataset into DataFrame \n",
    "df = pd.read_csv('../datasets/floods.csv')\n",
    "\n",
    "df.head()"
   ]
  },
  {
   "cell_type": "code",
   "execution_count": 3,
   "metadata": {},
   "outputs": [
    {
     "data": {
      "text/plain": [
       "(1000, 6)"
      ]
     },
     "execution_count": 3,
     "metadata": {},
     "output_type": "execute_result"
    }
   ],
   "source": [
    "# Check how many observations and columns\n",
    "df.shape"
   ]
  },
  {
   "cell_type": "code",
   "execution_count": 4,
   "metadata": {},
   "outputs": [
    {
     "data": {
      "text/plain": [
       "Index(['content', 'description', 'publishedAt', 'title', 'source_name',\n",
       "       'flood_relevance'],\n",
       "      dtype='object')"
      ]
     },
     "execution_count": 4,
     "metadata": {},
     "output_type": "execute_result"
    }
   ],
   "source": [
    "# Print all column names from the DataFrame\n",
    "df.columns"
   ]
  },
  {
   "cell_type": "code",
   "execution_count": 5,
   "metadata": {},
   "outputs": [],
   "source": [
    "# Create a function to read content, description, and title at once for each article\n",
    "def read_this(k):\n",
    "    print(df.iloc[k]['content'])\n",
    "    print(df.iloc[k]['description'])\n",
    "    print(df.iloc[k]['title'])"
   ]
  },
  {
   "cell_type": "code",
   "execution_count": 6,
   "metadata": {},
   "outputs": [
    {
     "name": "stdout",
     "output_type": "stream",
     "text": [
      "Several people in her community did lose everything, and are sleeping in a local church, relying on donations to eat, she said.\r\n",
      "Its complete chaos here, she said. We are really scared, we dont know how to defend ourselves. These wild animals are totally free now, they could attack us. We dont know if theyre hungry, what their reaction will be if we see them.\r\n",
      "She dismissed the governments explanation for why officials did not enter the favela, saying that the mayor himself had been there this year, making promises to improve their lives. Others echoed her on social media, poking fun at the city officials excuse that the neighborhood was too dangerous to enter.\r\n",
      "Only if the criminals are on boats, a Facebook user named Vinícius Melo Abade wrote beneath a post on the floods.\r\n",
      "Only if the crocodiles themselves are armed, wrote another user, Aline Taylor\r\n",
      "Ricardo Freitas, a local biologist who has been studying crocodilians in Rio de Janeiro State for 17 years, was not surprised by the existence of a caiman farm inside a favela. People illegally breed caimans across the city to sell to restaurants, he said.\r\n",
      "He also suggested that criminals sometimes use the animals to scare kidnapping victims, though there is no evidence that was the case in Favela da Rola.\r\n",
      "Mr. Freitas, who dedicates some of his time to rescuing caimans, said that the creatures do not prey on people, but could eat pets. He said there are around 8,000 broad-snouted caimans, the most common species in Rio, in the citys western zone.\r\n",
      "It sounds like movie stuff, he said. But its a surreal reality in Rio de Janeiro.\n",
      "A bus crushed by a fallen tree in a flooded area in Rio de Janeiro. Floods knocked down the walls of a caiman farm, and local residents saw the creatures roaming in the streets.\n",
      "Flood Freed Gators in Rio Neighborhood. Officials Said It Was Too Dangerous to Help.\n"
     ]
    }
   ],
   "source": [
    "# Change value k and read the associated article manually\n",
    "k = 150\n",
    "read_this(k)"
   ]
  },
  {
   "cell_type": "code",
   "execution_count": 6,
   "metadata": {},
   "outputs": [
    {
     "data": {
      "text/html": [
       "<div>\n",
       "<style scoped>\n",
       "    .dataframe tbody tr th:only-of-type {\n",
       "        vertical-align: middle;\n",
       "    }\n",
       "\n",
       "    .dataframe tbody tr th {\n",
       "        vertical-align: top;\n",
       "    }\n",
       "\n",
       "    .dataframe thead th {\n",
       "        text-align: right;\n",
       "    }\n",
       "</style>\n",
       "<table border=\"1\" class=\"dataframe\">\n",
       "  <thead>\n",
       "    <tr style=\"text-align: right;\">\n",
       "      <th></th>\n",
       "      <th>content</th>\n",
       "      <th>description</th>\n",
       "      <th>publishedAt</th>\n",
       "      <th>title</th>\n",
       "      <th>source_name</th>\n",
       "      <th>flood_relevance</th>\n",
       "    </tr>\n",
       "  </thead>\n",
       "  <tbody>\n",
       "    <tr>\n",
       "      <th>0</th>\n",
       "      <td>Chat with us in Facebook Messenger. Find out w...</td>\n",
       "      <td>A pair of environmental reports reveal the wor...</td>\n",
       "      <td>2019-01-16T22:52:24Z</td>\n",
       "      <td>Melting ice could flood Brooklyn Bridge</td>\n",
       "      <td>CNN</td>\n",
       "      <td>0</td>\n",
       "    </tr>\n",
       "    <tr>\n",
       "      <th>1</th>\n",
       "      <td>The aid group said it had seen hundreds of cas...</td>\n",
       "      <td>With vast areas submerged by contaminated wate...</td>\n",
       "      <td>2019-03-27T15:49:20Z</td>\n",
       "      <td>Cholera Outbreak Raises New Danger in Flood-Ra...</td>\n",
       "      <td>The New York Times</td>\n",
       "      <td>0</td>\n",
       "    </tr>\n",
       "    <tr>\n",
       "      <th>2</th>\n",
       "      <td>Finding settings that amplify an operas drama ...</td>\n",
       "      <td>From left: Kristine Flood, Wanda Ferrerias, Ma...</td>\n",
       "      <td>2018-12-04T17:05:05Z</td>\n",
       "      <td>After Struggling With Homelessness, a Chorus S...</td>\n",
       "      <td>The New York Times</td>\n",
       "      <td>0</td>\n",
       "    </tr>\n",
       "    <tr>\n",
       "      <th>3</th>\n",
       "      <td>The amount the ground can soak up is limited, ...</td>\n",
       "      <td>Flooding in the town of Hamburg, Iowa, on Marc...</td>\n",
       "      <td>2019-04-08T20:58:04Z</td>\n",
       "      <td>Powerful Storm Threatens More Misery in Flood-...</td>\n",
       "      <td>The New York Times</td>\n",
       "      <td>0</td>\n",
       "    </tr>\n",
       "    <tr>\n",
       "      <th>4</th>\n",
       "      <td>Many of the levees, usually earthen and topped...</td>\n",
       "      <td>Hundreds of miles of levees in the Midwest hav...</td>\n",
       "      <td>2019-03-31T09:00:10Z</td>\n",
       "      <td>‘Breaches Everywhere’: Midwest Levees Burst, a...</td>\n",
       "      <td>The New York Times</td>\n",
       "      <td>0</td>\n",
       "    </tr>\n",
       "  </tbody>\n",
       "</table>\n",
       "</div>"
      ],
      "text/plain": [
       "                                             content  \\\n",
       "0  Chat with us in Facebook Messenger. Find out w...   \n",
       "1  The aid group said it had seen hundreds of cas...   \n",
       "2  Finding settings that amplify an operas drama ...   \n",
       "3  The amount the ground can soak up is limited, ...   \n",
       "4  Many of the levees, usually earthen and topped...   \n",
       "\n",
       "                                         description           publishedAt  \\\n",
       "0  A pair of environmental reports reveal the wor...  2019-01-16T22:52:24Z   \n",
       "1  With vast areas submerged by contaminated wate...  2019-03-27T15:49:20Z   \n",
       "2  From left: Kristine Flood, Wanda Ferrerias, Ma...  2018-12-04T17:05:05Z   \n",
       "3  Flooding in the town of Hamburg, Iowa, on Marc...  2019-04-08T20:58:04Z   \n",
       "4  Hundreds of miles of levees in the Midwest hav...  2019-03-31T09:00:10Z   \n",
       "\n",
       "                                               title         source_name  \\\n",
       "0            Melting ice could flood Brooklyn Bridge                 CNN   \n",
       "1  Cholera Outbreak Raises New Danger in Flood-Ra...  The New York Times   \n",
       "2  After Struggling With Homelessness, a Chorus S...  The New York Times   \n",
       "3  Powerful Storm Threatens More Misery in Flood-...  The New York Times   \n",
       "4  ‘Breaches Everywhere’: Midwest Levees Burst, a...  The New York Times   \n",
       "\n",
       "   flood_relevance  \n",
       "0                0  \n",
       "1                0  \n",
       "2                0  \n",
       "3                0  \n",
       "4                0  "
      ]
     },
     "execution_count": 6,
     "metadata": {},
     "output_type": "execute_result"
    }
   ],
   "source": [
    "# Display first 5 rows of the DataFrame\n",
    "df.head()"
   ]
  },
  {
   "cell_type": "code",
   "execution_count": 8,
   "metadata": {},
   "outputs": [],
   "source": [
    "# import dataset that contains only two columns, ken_index and ken_flood_relevance\n",
    "df_flood_relevance = pd.read_csv('../datasets/arts_flood_relevance_Ken.csv')"
   ]
  },
  {
   "cell_type": "code",
   "execution_count": 8,
   "metadata": {},
   "outputs": [],
   "source": [
    "# df_flood_relevance.columns"
   ]
  },
  {
   "cell_type": "code",
   "execution_count": 10,
   "metadata": {},
   "outputs": [],
   "source": [
    "df_flood_relevance.drop(columns=['Unnamed: 2', 'Unnamed: 3',\n",
    "       'Unnamed: 4'], inplace=True)"
   ]
  },
  {
   "cell_type": "code",
   "execution_count": 11,
   "metadata": {
    "scrolled": true
   },
   "outputs": [
    {
     "data": {
      "text/html": [
       "<div>\n",
       "<style scoped>\n",
       "    .dataframe tbody tr th:only-of-type {\n",
       "        vertical-align: middle;\n",
       "    }\n",
       "\n",
       "    .dataframe tbody tr th {\n",
       "        vertical-align: top;\n",
       "    }\n",
       "\n",
       "    .dataframe thead th {\n",
       "        text-align: right;\n",
       "    }\n",
       "</style>\n",
       "<table border=\"1\" class=\"dataframe\">\n",
       "  <thead>\n",
       "    <tr style=\"text-align: right;\">\n",
       "      <th></th>\n",
       "      <th>ken_index</th>\n",
       "      <th>ken_flood_relevance</th>\n",
       "    </tr>\n",
       "  </thead>\n",
       "  <tbody>\n",
       "    <tr>\n",
       "      <th>0</th>\n",
       "      <td>0</td>\n",
       "      <td>0</td>\n",
       "    </tr>\n",
       "    <tr>\n",
       "      <th>1</th>\n",
       "      <td>1</td>\n",
       "      <td>0</td>\n",
       "    </tr>\n",
       "    <tr>\n",
       "      <th>2</th>\n",
       "      <td>2</td>\n",
       "      <td>0</td>\n",
       "    </tr>\n",
       "    <tr>\n",
       "      <th>3</th>\n",
       "      <td>3</td>\n",
       "      <td>1</td>\n",
       "    </tr>\n",
       "    <tr>\n",
       "      <th>4</th>\n",
       "      <td>4</td>\n",
       "      <td>0</td>\n",
       "    </tr>\n",
       "  </tbody>\n",
       "</table>\n",
       "</div>"
      ],
      "text/plain": [
       "   ken_index  ken_flood_relevance\n",
       "0          0                    0\n",
       "1          1                    0\n",
       "2          2                    0\n",
       "3          3                    1\n",
       "4          4                    0"
      ]
     },
     "execution_count": 11,
     "metadata": {},
     "output_type": "execute_result"
    }
   ],
   "source": [
    "df_flood_relevance.head()"
   ]
  },
  {
   "cell_type": "code",
   "execution_count": 12,
   "metadata": {},
   "outputs": [
    {
     "data": {
      "text/plain": [
       "(1000, 2)"
      ]
     },
     "execution_count": 12,
     "metadata": {},
     "output_type": "execute_result"
    }
   ],
   "source": [
    "df_flood_relevance.shape"
   ]
  },
  {
   "cell_type": "code",
   "execution_count": 13,
   "metadata": {},
   "outputs": [
    {
     "data": {
      "text/plain": [
       "ken_index              0\n",
       "ken_flood_relevance    0\n",
       "dtype: int64"
      ]
     },
     "execution_count": 13,
     "metadata": {},
     "output_type": "execute_result"
    }
   ],
   "source": [
    "df_flood_relevance.isnull().sum()"
   ]
  },
  {
   "cell_type": "code",
   "execution_count": 14,
   "metadata": {
    "scrolled": true
   },
   "outputs": [
    {
     "data": {
      "text/plain": [
       "0      634\n",
       "1      365\n",
       "150      1\n",
       "Name: ken_flood_relevance, dtype: int64"
      ]
     },
     "execution_count": 14,
     "metadata": {},
     "output_type": "execute_result"
    }
   ],
   "source": [
    "df_flood_relevance['ken_flood_relevance'].value_counts()"
   ]
  },
  {
   "cell_type": "code",
   "execution_count": 15,
   "metadata": {},
   "outputs": [
    {
     "data": {
      "text/plain": [
       "ken_index              150\n",
       "ken_flood_relevance    150\n",
       "Name: 150, dtype: int64"
      ]
     },
     "execution_count": 15,
     "metadata": {},
     "output_type": "execute_result"
    }
   ],
   "source": [
    "df_flood_relevance.iloc[150]"
   ]
  },
  {
   "cell_type": "code",
   "execution_count": 16,
   "metadata": {},
   "outputs": [
    {
     "name": "stdout",
     "output_type": "stream",
     "text": [
      "Several people in her community did lose everything, and are sleeping in a local church, relying on donations to eat, she said.\r\n",
      "Its complete chaos here, she said. We are really scared, we dont know how to defend ourselves. These wild animals are totally free now, they could attack us. We dont know if theyre hungry, what their reaction will be if we see them.\r\n",
      "She dismissed the governments explanation for why officials did not enter the favela, saying that the mayor himself had been there this year, making promises to improve their lives. Others echoed her on social media, poking fun at the city officials excuse that the neighborhood was too dangerous to enter.\r\n",
      "Only if the criminals are on boats, a Facebook user named Vinícius Melo Abade wrote beneath a post on the floods.\r\n",
      "Only if the crocodiles themselves are armed, wrote another user, Aline Taylor\r\n",
      "Ricardo Freitas, a local biologist who has been studying crocodilians in Rio de Janeiro State for 17 years, was not surprised by the existence of a caiman farm inside a favela. People illegally breed caimans across the city to sell to restaurants, he said.\r\n",
      "He also suggested that criminals sometimes use the animals to scare kidnapping victims, though there is no evidence that was the case in Favela da Rola.\r\n",
      "Mr. Freitas, who dedicates some of his time to rescuing caimans, said that the creatures do not prey on people, but could eat pets. He said there are around 8,000 broad-snouted caimans, the most common species in Rio, in the citys western zone.\r\n",
      "It sounds like movie stuff, he said. But its a surreal reality in Rio de Janeiro.\n",
      "A bus crushed by a fallen tree in a flooded area in Rio de Janeiro. Floods knocked down the walls of a caiman farm, and local residents saw the creatures roaming in the streets.\n",
      "Flood Freed Gators in Rio Neighborhood. Officials Said It Was Too Dangerous to Help.\n"
     ]
    }
   ],
   "source": [
    "read_this(150)"
   ]
  },
  {
   "cell_type": "code",
   "execution_count": 17,
   "metadata": {},
   "outputs": [],
   "source": [
    "ken_flood_relevance_concat = pd.concat([df, df_flood_relevance],axis=1)"
   ]
  },
  {
   "cell_type": "code",
   "execution_count": 18,
   "metadata": {},
   "outputs": [
    {
     "name": "stderr",
     "output_type": "stream",
     "text": [
      "/Users/kennethlee/anaconda3/envs/dsi/lib/python3.6/site-packages/ipykernel_launcher.py:1: SettingWithCopyWarning: \n",
      "A value is trying to be set on a copy of a slice from a DataFrame\n",
      "\n",
      "See the caveats in the documentation: http://pandas.pydata.org/pandas-docs/stable/indexing.html#indexing-view-versus-copy\n",
      "  \"\"\"Entry point for launching an IPython kernel.\n"
     ]
    }
   ],
   "source": [
    "ken_flood_relevance_concat['ken_flood_relevance'][150] = 1"
   ]
  },
  {
   "cell_type": "code",
   "execution_count": 19,
   "metadata": {},
   "outputs": [
    {
     "data": {
      "text/plain": [
       "content                Several people in her community did lose every...\n",
       "description            A bus crushed by a fallen tree in a flooded ar...\n",
       "publishedAt                                         2019-04-10T21:27:52Z\n",
       "title                  Flood Freed Gators in Rio Neighborhood. Offici...\n",
       "source_name                                           The New York Times\n",
       "flood_relevance                                                        0\n",
       "ken_index                                                            150\n",
       "ken_flood_relevance                                                    1\n",
       "Name: 150, dtype: object"
      ]
     },
     "execution_count": 19,
     "metadata": {},
     "output_type": "execute_result"
    }
   ],
   "source": [
    "ken_flood_relevance_concat.iloc[150]"
   ]
  },
  {
   "cell_type": "code",
   "execution_count": 20,
   "metadata": {},
   "outputs": [
    {
     "data": {
      "text/plain": [
       "0    634\n",
       "1    366\n",
       "Name: ken_flood_relevance, dtype: int64"
      ]
     },
     "execution_count": 20,
     "metadata": {},
     "output_type": "execute_result"
    }
   ],
   "source": [
    "ken_flood_relevance_concat['ken_flood_relevance'].value_counts()"
   ]
  },
  {
   "cell_type": "code",
   "execution_count": 21,
   "metadata": {},
   "outputs": [
    {
     "data": {
      "text/plain": [
       "(1000, 8)"
      ]
     },
     "execution_count": 21,
     "metadata": {},
     "output_type": "execute_result"
    }
   ],
   "source": [
    "ken_flood_relevance_concat.shape"
   ]
  },
  {
   "cell_type": "code",
   "execution_count": 22,
   "metadata": {},
   "outputs": [
    {
     "data": {
      "text/html": [
       "<div>\n",
       "<style scoped>\n",
       "    .dataframe tbody tr th:only-of-type {\n",
       "        vertical-align: middle;\n",
       "    }\n",
       "\n",
       "    .dataframe tbody tr th {\n",
       "        vertical-align: top;\n",
       "    }\n",
       "\n",
       "    .dataframe thead th {\n",
       "        text-align: right;\n",
       "    }\n",
       "</style>\n",
       "<table border=\"1\" class=\"dataframe\">\n",
       "  <thead>\n",
       "    <tr style=\"text-align: right;\">\n",
       "      <th></th>\n",
       "      <th>content</th>\n",
       "      <th>description</th>\n",
       "      <th>publishedAt</th>\n",
       "      <th>title</th>\n",
       "      <th>source_name</th>\n",
       "      <th>flood_relevance</th>\n",
       "      <th>ken_index</th>\n",
       "      <th>ken_flood_relevance</th>\n",
       "    </tr>\n",
       "  </thead>\n",
       "  <tbody>\n",
       "    <tr>\n",
       "      <th>0</th>\n",
       "      <td>Chat with us in Facebook Messenger. Find out w...</td>\n",
       "      <td>A pair of environmental reports reveal the wor...</td>\n",
       "      <td>2019-01-16T22:52:24Z</td>\n",
       "      <td>Melting ice could flood Brooklyn Bridge</td>\n",
       "      <td>CNN</td>\n",
       "      <td>0</td>\n",
       "      <td>0</td>\n",
       "      <td>0</td>\n",
       "    </tr>\n",
       "    <tr>\n",
       "      <th>1</th>\n",
       "      <td>The aid group said it had seen hundreds of cas...</td>\n",
       "      <td>With vast areas submerged by contaminated wate...</td>\n",
       "      <td>2019-03-27T15:49:20Z</td>\n",
       "      <td>Cholera Outbreak Raises New Danger in Flood-Ra...</td>\n",
       "      <td>The New York Times</td>\n",
       "      <td>0</td>\n",
       "      <td>1</td>\n",
       "      <td>0</td>\n",
       "    </tr>\n",
       "    <tr>\n",
       "      <th>2</th>\n",
       "      <td>Finding settings that amplify an operas drama ...</td>\n",
       "      <td>From left: Kristine Flood, Wanda Ferrerias, Ma...</td>\n",
       "      <td>2018-12-04T17:05:05Z</td>\n",
       "      <td>After Struggling With Homelessness, a Chorus S...</td>\n",
       "      <td>The New York Times</td>\n",
       "      <td>0</td>\n",
       "      <td>2</td>\n",
       "      <td>0</td>\n",
       "    </tr>\n",
       "    <tr>\n",
       "      <th>3</th>\n",
       "      <td>The amount the ground can soak up is limited, ...</td>\n",
       "      <td>Flooding in the town of Hamburg, Iowa, on Marc...</td>\n",
       "      <td>2019-04-08T20:58:04Z</td>\n",
       "      <td>Powerful Storm Threatens More Misery in Flood-...</td>\n",
       "      <td>The New York Times</td>\n",
       "      <td>0</td>\n",
       "      <td>3</td>\n",
       "      <td>1</td>\n",
       "    </tr>\n",
       "    <tr>\n",
       "      <th>4</th>\n",
       "      <td>Many of the levees, usually earthen and topped...</td>\n",
       "      <td>Hundreds of miles of levees in the Midwest hav...</td>\n",
       "      <td>2019-03-31T09:00:10Z</td>\n",
       "      <td>‘Breaches Everywhere’: Midwest Levees Burst, a...</td>\n",
       "      <td>The New York Times</td>\n",
       "      <td>0</td>\n",
       "      <td>4</td>\n",
       "      <td>0</td>\n",
       "    </tr>\n",
       "  </tbody>\n",
       "</table>\n",
       "</div>"
      ],
      "text/plain": [
       "                                             content  \\\n",
       "0  Chat with us in Facebook Messenger. Find out w...   \n",
       "1  The aid group said it had seen hundreds of cas...   \n",
       "2  Finding settings that amplify an operas drama ...   \n",
       "3  The amount the ground can soak up is limited, ...   \n",
       "4  Many of the levees, usually earthen and topped...   \n",
       "\n",
       "                                         description           publishedAt  \\\n",
       "0  A pair of environmental reports reveal the wor...  2019-01-16T22:52:24Z   \n",
       "1  With vast areas submerged by contaminated wate...  2019-03-27T15:49:20Z   \n",
       "2  From left: Kristine Flood, Wanda Ferrerias, Ma...  2018-12-04T17:05:05Z   \n",
       "3  Flooding in the town of Hamburg, Iowa, on Marc...  2019-04-08T20:58:04Z   \n",
       "4  Hundreds of miles of levees in the Midwest hav...  2019-03-31T09:00:10Z   \n",
       "\n",
       "                                               title         source_name  \\\n",
       "0            Melting ice could flood Brooklyn Bridge                 CNN   \n",
       "1  Cholera Outbreak Raises New Danger in Flood-Ra...  The New York Times   \n",
       "2  After Struggling With Homelessness, a Chorus S...  The New York Times   \n",
       "3  Powerful Storm Threatens More Misery in Flood-...  The New York Times   \n",
       "4  ‘Breaches Everywhere’: Midwest Levees Burst, a...  The New York Times   \n",
       "\n",
       "   flood_relevance  ken_index  ken_flood_relevance  \n",
       "0                0          0                    0  \n",
       "1                0          1                    0  \n",
       "2                0          2                    0  \n",
       "3                0          3                    1  \n",
       "4                0          4                    0  "
      ]
     },
     "execution_count": 22,
     "metadata": {},
     "output_type": "execute_result"
    }
   ],
   "source": [
    "ken_flood_relevance_concat.head()"
   ]
  },
  {
   "cell_type": "code",
   "execution_count": 23,
   "metadata": {},
   "outputs": [
    {
     "data": {
      "text/plain": [
       "Index(['content', 'description', 'publishedAt', 'title', 'source_name',\n",
       "       'flood_relevance', 'ken_index', 'ken_flood_relevance'],\n",
       "      dtype='object')"
      ]
     },
     "execution_count": 23,
     "metadata": {},
     "output_type": "execute_result"
    }
   ],
   "source": [
    "ken_flood_relevance_concat.columns"
   ]
  },
  {
   "cell_type": "code",
   "execution_count": 24,
   "metadata": {},
   "outputs": [],
   "source": [
    "ken_flood_relevance_concat['flood_relevance'] = ken_flood_relevance_concat['ken_flood_relevance']"
   ]
  },
  {
   "cell_type": "code",
   "execution_count": 25,
   "metadata": {},
   "outputs": [
    {
     "data": {
      "text/html": [
       "<div>\n",
       "<style scoped>\n",
       "    .dataframe tbody tr th:only-of-type {\n",
       "        vertical-align: middle;\n",
       "    }\n",
       "\n",
       "    .dataframe tbody tr th {\n",
       "        vertical-align: top;\n",
       "    }\n",
       "\n",
       "    .dataframe thead th {\n",
       "        text-align: right;\n",
       "    }\n",
       "</style>\n",
       "<table border=\"1\" class=\"dataframe\">\n",
       "  <thead>\n",
       "    <tr style=\"text-align: right;\">\n",
       "      <th></th>\n",
       "      <th>content</th>\n",
       "      <th>description</th>\n",
       "      <th>publishedAt</th>\n",
       "      <th>title</th>\n",
       "      <th>source_name</th>\n",
       "      <th>flood_relevance</th>\n",
       "      <th>ken_index</th>\n",
       "      <th>ken_flood_relevance</th>\n",
       "    </tr>\n",
       "  </thead>\n",
       "  <tbody>\n",
       "    <tr>\n",
       "      <th>0</th>\n",
       "      <td>Chat with us in Facebook Messenger. Find out w...</td>\n",
       "      <td>A pair of environmental reports reveal the wor...</td>\n",
       "      <td>2019-01-16T22:52:24Z</td>\n",
       "      <td>Melting ice could flood Brooklyn Bridge</td>\n",
       "      <td>CNN</td>\n",
       "      <td>0</td>\n",
       "      <td>0</td>\n",
       "      <td>0</td>\n",
       "    </tr>\n",
       "    <tr>\n",
       "      <th>1</th>\n",
       "      <td>The aid group said it had seen hundreds of cas...</td>\n",
       "      <td>With vast areas submerged by contaminated wate...</td>\n",
       "      <td>2019-03-27T15:49:20Z</td>\n",
       "      <td>Cholera Outbreak Raises New Danger in Flood-Ra...</td>\n",
       "      <td>The New York Times</td>\n",
       "      <td>0</td>\n",
       "      <td>1</td>\n",
       "      <td>0</td>\n",
       "    </tr>\n",
       "    <tr>\n",
       "      <th>2</th>\n",
       "      <td>Finding settings that amplify an operas drama ...</td>\n",
       "      <td>From left: Kristine Flood, Wanda Ferrerias, Ma...</td>\n",
       "      <td>2018-12-04T17:05:05Z</td>\n",
       "      <td>After Struggling With Homelessness, a Chorus S...</td>\n",
       "      <td>The New York Times</td>\n",
       "      <td>0</td>\n",
       "      <td>2</td>\n",
       "      <td>0</td>\n",
       "    </tr>\n",
       "    <tr>\n",
       "      <th>3</th>\n",
       "      <td>The amount the ground can soak up is limited, ...</td>\n",
       "      <td>Flooding in the town of Hamburg, Iowa, on Marc...</td>\n",
       "      <td>2019-04-08T20:58:04Z</td>\n",
       "      <td>Powerful Storm Threatens More Misery in Flood-...</td>\n",
       "      <td>The New York Times</td>\n",
       "      <td>1</td>\n",
       "      <td>3</td>\n",
       "      <td>1</td>\n",
       "    </tr>\n",
       "    <tr>\n",
       "      <th>4</th>\n",
       "      <td>Many of the levees, usually earthen and topped...</td>\n",
       "      <td>Hundreds of miles of levees in the Midwest hav...</td>\n",
       "      <td>2019-03-31T09:00:10Z</td>\n",
       "      <td>‘Breaches Everywhere’: Midwest Levees Burst, a...</td>\n",
       "      <td>The New York Times</td>\n",
       "      <td>0</td>\n",
       "      <td>4</td>\n",
       "      <td>0</td>\n",
       "    </tr>\n",
       "  </tbody>\n",
       "</table>\n",
       "</div>"
      ],
      "text/plain": [
       "                                             content  \\\n",
       "0  Chat with us in Facebook Messenger. Find out w...   \n",
       "1  The aid group said it had seen hundreds of cas...   \n",
       "2  Finding settings that amplify an operas drama ...   \n",
       "3  The amount the ground can soak up is limited, ...   \n",
       "4  Many of the levees, usually earthen and topped...   \n",
       "\n",
       "                                         description           publishedAt  \\\n",
       "0  A pair of environmental reports reveal the wor...  2019-01-16T22:52:24Z   \n",
       "1  With vast areas submerged by contaminated wate...  2019-03-27T15:49:20Z   \n",
       "2  From left: Kristine Flood, Wanda Ferrerias, Ma...  2018-12-04T17:05:05Z   \n",
       "3  Flooding in the town of Hamburg, Iowa, on Marc...  2019-04-08T20:58:04Z   \n",
       "4  Hundreds of miles of levees in the Midwest hav...  2019-03-31T09:00:10Z   \n",
       "\n",
       "                                               title         source_name  \\\n",
       "0            Melting ice could flood Brooklyn Bridge                 CNN   \n",
       "1  Cholera Outbreak Raises New Danger in Flood-Ra...  The New York Times   \n",
       "2  After Struggling With Homelessness, a Chorus S...  The New York Times   \n",
       "3  Powerful Storm Threatens More Misery in Flood-...  The New York Times   \n",
       "4  ‘Breaches Everywhere’: Midwest Levees Burst, a...  The New York Times   \n",
       "\n",
       "   flood_relevance  ken_index  ken_flood_relevance  \n",
       "0                0          0                    0  \n",
       "1                0          1                    0  \n",
       "2                0          2                    0  \n",
       "3                1          3                    1  \n",
       "4                0          4                    0  "
      ]
     },
     "execution_count": 25,
     "metadata": {},
     "output_type": "execute_result"
    }
   ],
   "source": [
    "ken_flood_relevance_concat.head()"
   ]
  },
  {
   "cell_type": "code",
   "execution_count": 26,
   "metadata": {},
   "outputs": [
    {
     "data": {
      "text/plain": [
       "0    634\n",
       "1    366\n",
       "Name: flood_relevance, dtype: int64"
      ]
     },
     "execution_count": 26,
     "metadata": {},
     "output_type": "execute_result"
    }
   ],
   "source": [
    "ken_flood_relevance_concat['flood_relevance'].value_counts()"
   ]
  },
  {
   "cell_type": "code",
   "execution_count": 27,
   "metadata": {},
   "outputs": [],
   "source": [
    "ken_flood_relevance_concat.drop(columns=['ken_index', 'ken_flood_relevance'],inplace=True)"
   ]
  },
  {
   "cell_type": "code",
   "execution_count": 28,
   "metadata": {},
   "outputs": [
    {
     "data": {
      "text/plain": [
       "(1000, 6)"
      ]
     },
     "execution_count": 28,
     "metadata": {},
     "output_type": "execute_result"
    }
   ],
   "source": [
    "ken_flood_relevance_concat.shape"
   ]
  },
  {
   "cell_type": "code",
   "execution_count": 29,
   "metadata": {},
   "outputs": [],
   "source": [
    "# Exports files to csv format\n",
    "ken_flood_relevance_concat.to_csv('../datasets/floods_relevance.csv', \n",
    "                                  index=False)"
   ]
  },
  {
   "cell_type": "code",
   "execution_count": null,
   "metadata": {},
   "outputs": [],
   "source": []
  }
 ],
 "metadata": {
  "kernelspec": {
   "display_name": "Python 3",
   "language": "python",
   "name": "python3"
  },
  "language_info": {
   "codemirror_mode": {
    "name": "ipython",
    "version": 3
   },
   "file_extension": ".py",
   "mimetype": "text/x-python",
   "name": "python",
   "nbconvert_exporter": "python",
   "pygments_lexer": "ipython3",
   "version": "3.6.5"
  }
 },
 "nbformat": 4,
 "nbformat_minor": 2
}
