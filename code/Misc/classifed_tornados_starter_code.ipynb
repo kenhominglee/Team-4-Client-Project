{
 "cells": [
  {
   "cell_type": "markdown",
   "metadata": {},
   "source": [
    "## Project 4: Tornando Relevance DataFrame: \n",
    "### Classifying tornado and flood related articles\n",
    "\n",
    "Run data: 4/24/2019"
   ]
  },
  {
   "cell_type": "markdown",
   "metadata": {},
   "source": [
    "This notebook is to import the dataset of 1000 posts and export the dataset with completed classified values on the column, classified_tornado."
   ]
  },
  {
   "cell_type": "code",
   "execution_count": 1,
   "metadata": {},
   "outputs": [],
   "source": [
    "import pandas as pd\n",
    "import numpy as np"
   ]
  },
  {
   "cell_type": "code",
   "execution_count": 2,
   "metadata": {},
   "outputs": [
    {
     "data": {
      "text/html": [
       "<div>\n",
       "<style scoped>\n",
       "    .dataframe tbody tr th:only-of-type {\n",
       "        vertical-align: middle;\n",
       "    }\n",
       "\n",
       "    .dataframe tbody tr th {\n",
       "        vertical-align: top;\n",
       "    }\n",
       "\n",
       "    .dataframe thead th {\n",
       "        text-align: right;\n",
       "    }\n",
       "</style>\n",
       "<table border=\"1\" class=\"dataframe\">\n",
       "  <thead>\n",
       "    <tr style=\"text-align: right;\">\n",
       "      <th></th>\n",
       "      <th>Unnamed: 0</th>\n",
       "      <th>content</th>\n",
       "      <th>description</th>\n",
       "      <th>publishedAt</th>\n",
       "      <th>title</th>\n",
       "      <th>source_name</th>\n",
       "      <th>drought_disaster_relevance</th>\n",
       "    </tr>\n",
       "  </thead>\n",
       "  <tbody>\n",
       "    <tr>\n",
       "      <th>0</th>\n",
       "      <td>0</td>\n",
       "      <td>The presidents trip came three days after he a...</td>\n",
       "      <td>President Trump’s visit to Beauregard, Ala., c...</td>\n",
       "      <td>2019-03-08T20:08:42Z</td>\n",
       "      <td>Trump Surveys Tornado Damage in Alabama</td>\n",
       "      <td>The New York Times</td>\n",
       "      <td>0</td>\n",
       "    </tr>\n",
       "    <tr>\n",
       "      <th>1</th>\n",
       "      <td>1</td>\n",
       "      <td>Chat with us in Facebook Messenger. Find out w...</td>\n",
       "      <td>In an interview with CNN's Chris Cuomo, a vict...</td>\n",
       "      <td>2019-03-05T04:33:34Z</td>\n",
       "      <td>Tornado victim to mom: I don't want to die</td>\n",
       "      <td>CNN</td>\n",
       "      <td>0</td>\n",
       "    </tr>\n",
       "    <tr>\n",
       "      <th>2</th>\n",
       "      <td>2</td>\n",
       "      <td>In Beauregard, a few miles to the south, bundl...</td>\n",
       "      <td>Search-and-rescue workers rushed on Monday to ...</td>\n",
       "      <td>2019-03-04T14:45:26Z</td>\n",
       "      <td>Alabama Tornado Updates: 23 Dead After Powerfu...</td>\n",
       "      <td>The New York Times</td>\n",
       "      <td>1</td>\n",
       "    </tr>\n",
       "    <tr>\n",
       "      <th>3</th>\n",
       "      <td>3</td>\n",
       "      <td>Mr. Spann said he worried generally that impor...</td>\n",
       "      <td>A warning for the ferocious tornado was issued...</td>\n",
       "      <td>2019-03-06T00:45:27Z</td>\n",
       "      <td>A Tornado Warning Gave Alabamians 12 Minutes t...</td>\n",
       "      <td>The New York Times</td>\n",
       "      <td>0</td>\n",
       "    </tr>\n",
       "    <tr>\n",
       "      <th>4</th>\n",
       "      <td>4</td>\n",
       "      <td>Emergency officials said that they were still ...</td>\n",
       "      <td>A sign on the high school grounds in Beauregar...</td>\n",
       "      <td>2019-03-05T18:00:36Z</td>\n",
       "      <td>Alabama Tornado Killed Seven Members of One Fa...</td>\n",
       "      <td>The New York Times</td>\n",
       "      <td>0</td>\n",
       "    </tr>\n",
       "  </tbody>\n",
       "</table>\n",
       "</div>"
      ],
      "text/plain": [
       "   Unnamed: 0                                            content  \\\n",
       "0           0  The presidents trip came three days after he a...   \n",
       "1           1  Chat with us in Facebook Messenger. Find out w...   \n",
       "2           2  In Beauregard, a few miles to the south, bundl...   \n",
       "3           3  Mr. Spann said he worried generally that impor...   \n",
       "4           4  Emergency officials said that they were still ...   \n",
       "\n",
       "                                         description           publishedAt  \\\n",
       "0  President Trump’s visit to Beauregard, Ala., c...  2019-03-08T20:08:42Z   \n",
       "1  In an interview with CNN's Chris Cuomo, a vict...  2019-03-05T04:33:34Z   \n",
       "2  Search-and-rescue workers rushed on Monday to ...  2019-03-04T14:45:26Z   \n",
       "3  A warning for the ferocious tornado was issued...  2019-03-06T00:45:27Z   \n",
       "4  A sign on the high school grounds in Beauregar...  2019-03-05T18:00:36Z   \n",
       "\n",
       "                                               title         source_name  \\\n",
       "0            Trump Surveys Tornado Damage in Alabama  The New York Times   \n",
       "1         Tornado victim to mom: I don't want to die                 CNN   \n",
       "2  Alabama Tornado Updates: 23 Dead After Powerfu...  The New York Times   \n",
       "3  A Tornado Warning Gave Alabamians 12 Minutes t...  The New York Times   \n",
       "4  Alabama Tornado Killed Seven Members of One Fa...  The New York Times   \n",
       "\n",
       "   drought_disaster_relevance  \n",
       "0                           0  \n",
       "1                           0  \n",
       "2                           1  \n",
       "3                           0  \n",
       "4                           0  "
      ]
     },
     "execution_count": 2,
     "metadata": {},
     "output_type": "execute_result"
    }
   ],
   "source": [
    "# import raw dataset into DataFrame \n",
    "df = pd.read_csv('../datasets/classified_tornados.csv')\n",
    "\n",
    "df.head()"
   ]
  },
  {
   "cell_type": "code",
   "execution_count": 3,
   "metadata": {},
   "outputs": [
    {
     "data": {
      "text/plain": [
       "(1000, 7)"
      ]
     },
     "execution_count": 3,
     "metadata": {},
     "output_type": "execute_result"
    }
   ],
   "source": [
    "# Check how many observations and columns\n",
    "df.shape"
   ]
  },
  {
   "cell_type": "code",
   "execution_count": 4,
   "metadata": {},
   "outputs": [
    {
     "data": {
      "text/plain": [
       "Index(['Unnamed: 0', 'content', 'description', 'publishedAt', 'title',\n",
       "       'source_name', 'drought_disaster_relevance'],\n",
       "      dtype='object')"
      ]
     },
     "execution_count": 4,
     "metadata": {},
     "output_type": "execute_result"
    }
   ],
   "source": [
    "# Print all column names from the DataFrame\n",
    "df.columns"
   ]
  },
  {
   "cell_type": "code",
   "execution_count": 5,
   "metadata": {},
   "outputs": [],
   "source": [
    "# Create a function to read content, description, and title at once for each article\n",
    "def read_this(k):\n",
    "    print(df.iloc[k]['content'])\n",
    "    print(df.iloc[k]['description'])\n",
    "    print(df.iloc[k]['title'])"
   ]
  },
  {
   "cell_type": "code",
   "execution_count": 114,
   "metadata": {},
   "outputs": [
    {
     "name": "stdout",
     "output_type": "stream",
     "text": [
      "BEAUREGARD, Ala. Connie Moman thought these would be her last moments: huddling in her bedroom closet with her husband and her dog, feeling the wind rattle their double-wide trailer, listening to the towering trees in her yard splinter in the tornados grip. \r\n",
      "We were thinking, this is the end of the world, she said. Right now. Right here.\r\n",
      "They had known that tornadoes were in the forecast, but it wasnt until a newscaster said a twister had been spotted just west of them that they realized how bad it might be. Get in your safe place, the newscaster had said, but all they had was their trailer. So they knelt in the closet and prayed.\r\n",
      "Sundays tornadoes in Alabama have been called a meteorological success story. They were forecast days in advance, shelters were opened hours before they hit, and a warning was issued 10 minutes before the first twister arrived in Beauregard.\r\n",
      "But 23 people were killed more than were killed by tornadoes in the United States in all of 2018.\r\n",
      "Places like Beauregard low-density areas where many residents live in mobile homes face serious challenges in trying to prevent such fatalities. There is one designated shelter in this rural community of 10,000. Most residents who waited for the last-minute warnings would not have been able to make it to the building before the EF-4 tornado struck, bringing hail, downpours and 170 mph winds.\r\n",
      "[Youngest tornado victim hid in closet amid 170 mph winds]\r\n",
      "This is not the first time the community has grappled with storm safety. After a series of deadly tornadoes pummeled the Southeast in 2011, Lee County, where Beauregard is located, received a federal grant to build shelters in residents homes. It also has an outstanding application for federal dollars to build another community shelter.\r\n",
      "Efforts to build those additional shelters have stalled, county officials said. And even with federal assistance, individual storm shelters are out of financial reach for most residents.\r\n",
      "There had been discussion before about such safety measures, said Richard LaGrand, a newly elected county commissioner for the district that includes Beauregard. But, I can promise you, not discussion like there will be. And action.\r\n",
      "But the breadth of action needed is daunting.\r\n",
      "The mobile homes common in the hardest-hit area of the town dont hold up well under high winds, said John van de Lindt, a professor of engineering at Colorado State University who was living in Alabama in 2011 when the tornadoes killed 250 people in the state in a single day. Even mobile homes that are well-anchored with ties that go into the foundation would probably not be strong enough to withstand a storm of the kind that hit Lee County, which could destroy even the sturdiest buildings.\r\n",
      "Before the storm, Alabama state Rep. Tommy Harris (R) proposed statewide legislation that would give a $6,000 tax credit over three years to homeowners who build safe rooms, or $25,000 for a community shelter that might serve a neighborhood of mobile homes.\r\n",
      "While praising the initiative, Laura Myers, director of the Center for Advanced Public Safety at the University of Alabama, expressed some skepticism over whether residents would follow through. There was a similar effort after the 2011 tornadoes, she said, but retrofitting a home can be difficult.\r\n",
      "It goes back to public perception, Myers said.  Well, do I really need that? \r\n",
      "But Timothy Marshall, an engineer and meteorologist with Haag Engineering, said the untold story is how many people rode out the Moore, Okla., tornado in 2013 in shelters, adding that personal shelters have proliferated in the Oklahoma City area. Even mobile homes, Marshall said, can be equipped with simple porch shelters.\r\n",
      "There is no reason for people to die in their home during a tornado, he said.\r\n",
      "Rita Smith, spokeswoman for the Lee County Emergency Management Agency, said Lee County has sought to make more shelters available in recent years. In the wake of the 2011 tornadoes, Lee County received part of a Hazard Mitigation Grant from the Federal Emergency Management Agency to help 19 people in the county build shelters in their homes.\r\n",
      "But its a really difficult and tedious process, Smith said. Homeowners must pay upfront for the shelters, which typically cost several thousand dollars, and can only get reimbursed for up to 75 percent of the price. All of which makes the measure unaffordable for most residents of the county, where the median household income is about $45,000, Smith said.\r\n",
      "More recently, Lee Countys Emergency Management Agency submitted an application for FEMA funds to build another community shelter. But the application process has been painfully slow, Smith said.\r\n",
      "Public shelters have drawbacks too: People must take heed of early warnings and there must be somebody on hand to unlock a shelter door.\r\n",
      "You need outreach, education and training before the storm, said Marc Levitan, a research wind engineer with the National Institute of Standards and Technology.\r\n",
      "Bobby Kilgore, a police captain in nearby Opelika, said officials are grappling with how to get weather-weary citizens to seek shelter when a watch is issued even if experience has taught them that there is a very low chance of being hit.\r\n",
      "Once the siren goes off, it is already too late, he said.\r\n",
      "It can be very dangerous to travel to a public shelter in the few minutes before a tornado hits.\r\n",
      "You dont want people getting in their car and driving, van de Lindt said.\r\n",
      "Lee County has been aggressive in pushing out information via social media, weather radios and television, Myers said. But the fact that the storm came on a Sunday probably hampered preparedness, with peoples routines and communications different than during the week.\r\n",
      "The evening before the twister hit, the Lee County Emergency Management Agency posted the locations of three shelters. Two were on the Auburn University campus. The only one in Beauregard was Providence Baptist Church, about two miles from the worst-hit area.\r\n",
      "[Everyone here is family: School mourns three young children killed in Alabama tornadoes]\r\n",
      "Providence Baptist Pastor Rusty Sowell said the church building was constructed to be a center for a community in crisis. A satellite building is equipped with bathrooms, including showers, and a full-service kitchen, and the basement of the sanctuary provides room for as many as 150 people.\r\n",
      "The alert came in the middle of services. Sowell announced that the shelter would open.\r\n",
      "Church member Stephanie Dunson heard the advice, but like most of her neighbors, she had endured bad weather before. She went home, made lunch, poured herself a cup of coffee and prepared for an afternoon on the couch watching NBCs This is Us. Then her phone buzzed: another tornado warning. When she checked a local news channel, forecasters predicted it would head straight for her community.\r\n",
      "I was being a little complacent, she said later. I fussed a little. I didnt want to go.\r\n",
      "But she kept hearing a voice Gods voice, she said telling her to take shelter. Reluctantly, she put her four dogs in crates in the living room and told her daughter to get in the car. The winds picked up, pushing her little Malibu back and forth across the road until she arrived at the church.\r\n",
      "Inside, peoples phones shrilled incessantly. The basements thick walls blocked the wind, but they could hear the wail of sirens. Some prayed. Others cried. No one could help but worry about what they would find when they left.\r\n",
      "It took Dunson and her daughter hours to get back home; the roads were blocked by fallen trees. Many houses were destroyed. But just one tree had fallen on Dunsons roof, causing minimal damage. And her dogs were alive.\r\n",
      "God protected me, she said three days later, standing in the church basement that had sheltered her. But she couldnt keep from crying. I feel guilty, she said. Because I dont understand why He didnt protect people somewhere else.\n",
      "Alabama’s deadly tornado ripped through homes — and exposed vulnerabilities The Washington Post BEAUREGARD, Ala. — Connie Moman thought these would be her last moments: huddling in her bedroom closet with her husband and her dog, feeling the... View full cove…\n",
      "Alabama’s deadly tornado ripped through homes — and exposed vulnerabilities - The Washington Post\n"
     ]
    }
   ],
   "source": [
    "# Change value k and read the associated article manually\n",
    "k = 99\n",
    "read_this(k)"
   ]
  },
  {
   "cell_type": "code",
   "execution_count": 6,
   "metadata": {},
   "outputs": [
    {
     "data": {
      "text/html": [
       "<div>\n",
       "<style scoped>\n",
       "    .dataframe tbody tr th:only-of-type {\n",
       "        vertical-align: middle;\n",
       "    }\n",
       "\n",
       "    .dataframe tbody tr th {\n",
       "        vertical-align: top;\n",
       "    }\n",
       "\n",
       "    .dataframe thead th {\n",
       "        text-align: right;\n",
       "    }\n",
       "</style>\n",
       "<table border=\"1\" class=\"dataframe\">\n",
       "  <thead>\n",
       "    <tr style=\"text-align: right;\">\n",
       "      <th></th>\n",
       "      <th>content</th>\n",
       "      <th>description</th>\n",
       "      <th>publishedAt</th>\n",
       "      <th>title</th>\n",
       "      <th>source_name</th>\n",
       "      <th>flood_relevance</th>\n",
       "    </tr>\n",
       "  </thead>\n",
       "  <tbody>\n",
       "    <tr>\n",
       "      <th>0</th>\n",
       "      <td>Chat with us in Facebook Messenger. Find out w...</td>\n",
       "      <td>A pair of environmental reports reveal the wor...</td>\n",
       "      <td>2019-01-16T22:52:24Z</td>\n",
       "      <td>Melting ice could flood Brooklyn Bridge</td>\n",
       "      <td>CNN</td>\n",
       "      <td>0</td>\n",
       "    </tr>\n",
       "    <tr>\n",
       "      <th>1</th>\n",
       "      <td>The aid group said it had seen hundreds of cas...</td>\n",
       "      <td>With vast areas submerged by contaminated wate...</td>\n",
       "      <td>2019-03-27T15:49:20Z</td>\n",
       "      <td>Cholera Outbreak Raises New Danger in Flood-Ra...</td>\n",
       "      <td>The New York Times</td>\n",
       "      <td>0</td>\n",
       "    </tr>\n",
       "    <tr>\n",
       "      <th>2</th>\n",
       "      <td>Finding settings that amplify an operas drama ...</td>\n",
       "      <td>From left: Kristine Flood, Wanda Ferrerias, Ma...</td>\n",
       "      <td>2018-12-04T17:05:05Z</td>\n",
       "      <td>After Struggling With Homelessness, a Chorus S...</td>\n",
       "      <td>The New York Times</td>\n",
       "      <td>0</td>\n",
       "    </tr>\n",
       "    <tr>\n",
       "      <th>3</th>\n",
       "      <td>The amount the ground can soak up is limited, ...</td>\n",
       "      <td>Flooding in the town of Hamburg, Iowa, on Marc...</td>\n",
       "      <td>2019-04-08T20:58:04Z</td>\n",
       "      <td>Powerful Storm Threatens More Misery in Flood-...</td>\n",
       "      <td>The New York Times</td>\n",
       "      <td>0</td>\n",
       "    </tr>\n",
       "    <tr>\n",
       "      <th>4</th>\n",
       "      <td>Many of the levees, usually earthen and topped...</td>\n",
       "      <td>Hundreds of miles of levees in the Midwest hav...</td>\n",
       "      <td>2019-03-31T09:00:10Z</td>\n",
       "      <td>‘Breaches Everywhere’: Midwest Levees Burst, a...</td>\n",
       "      <td>The New York Times</td>\n",
       "      <td>0</td>\n",
       "    </tr>\n",
       "  </tbody>\n",
       "</table>\n",
       "</div>"
      ],
      "text/plain": [
       "                                             content  \\\n",
       "0  Chat with us in Facebook Messenger. Find out w...   \n",
       "1  The aid group said it had seen hundreds of cas...   \n",
       "2  Finding settings that amplify an operas drama ...   \n",
       "3  The amount the ground can soak up is limited, ...   \n",
       "4  Many of the levees, usually earthen and topped...   \n",
       "\n",
       "                                         description           publishedAt  \\\n",
       "0  A pair of environmental reports reveal the wor...  2019-01-16T22:52:24Z   \n",
       "1  With vast areas submerged by contaminated wate...  2019-03-27T15:49:20Z   \n",
       "2  From left: Kristine Flood, Wanda Ferrerias, Ma...  2018-12-04T17:05:05Z   \n",
       "3  Flooding in the town of Hamburg, Iowa, on Marc...  2019-04-08T20:58:04Z   \n",
       "4  Hundreds of miles of levees in the Midwest hav...  2019-03-31T09:00:10Z   \n",
       "\n",
       "                                               title         source_name  \\\n",
       "0            Melting ice could flood Brooklyn Bridge                 CNN   \n",
       "1  Cholera Outbreak Raises New Danger in Flood-Ra...  The New York Times   \n",
       "2  After Struggling With Homelessness, a Chorus S...  The New York Times   \n",
       "3  Powerful Storm Threatens More Misery in Flood-...  The New York Times   \n",
       "4  ‘Breaches Everywhere’: Midwest Levees Burst, a...  The New York Times   \n",
       "\n",
       "   flood_relevance  \n",
       "0                0  \n",
       "1                0  \n",
       "2                0  \n",
       "3                0  \n",
       "4                0  "
      ]
     },
     "execution_count": 6,
     "metadata": {},
     "output_type": "execute_result"
    }
   ],
   "source": [
    "# Display first 5 rows of the DataFrame\n",
    "df.head()"
   ]
  },
  {
   "cell_type": "code",
   "execution_count": null,
   "metadata": {},
   "outputs": [],
   "source": []
  }
 ],
 "metadata": {
  "kernelspec": {
   "display_name": "Python 3",
   "language": "python",
   "name": "python3"
  },
  "language_info": {
   "codemirror_mode": {
    "name": "ipython",
    "version": 3
   },
   "file_extension": ".py",
   "mimetype": "text/x-python",
   "name": "python",
   "nbconvert_exporter": "python",
   "pygments_lexer": "ipython3",
   "version": "3.6.5"
  }
 },
 "nbformat": 4,
 "nbformat_minor": 2
}
