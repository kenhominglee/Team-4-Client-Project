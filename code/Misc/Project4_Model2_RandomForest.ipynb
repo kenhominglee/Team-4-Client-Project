{
 "cells": [
  {
   "cell_type": "code",
   "execution_count": 2,
   "metadata": {},
   "outputs": [
    {
     "name": "stderr",
     "output_type": "stream",
     "text": [
      "/anaconda3/lib/python3.7/site-packages/sklearn/ensemble/weight_boosting.py:29: DeprecationWarning: numpy.core.umath_tests is an internal NumPy module and should not be imported. It will be removed in a future NumPy release.\n",
      "  from numpy.core.umath_tests import inner1d\n"
     ]
    }
   ],
   "source": [
    "import pandas as pd\n",
    "import numpy as np\n",
    "import json\n",
    "from sklearn.feature_extraction.text import TfidfVectorizer, CountVectorizer\n",
    "from sklearn.model_selection import train_test_split,cross_val_score, GridSearchCV\n",
    "from sklearn.pipeline import Pipeline\n",
    "from sklearn.linear_model import LogisticRegression\n",
    "from sklearn.naive_bayes import MultinomialNB\n",
    "\n",
    "from sklearn.metrics import confusion_matrix\n",
    "from sklearn.metrics import roc_auc_score\n",
    "\n",
    "from bs4 import BeautifulSoup  \n",
    "import regex as re\n",
    "from nltk.corpus import stopwords\n",
    "from nltk.stem.porter import PorterStemmer\n",
    "import nltk\n",
    "from nltk.stem import WordNetLemmatizer\n",
    "from nltk.tokenize import RegexpTokenizer\n",
    "\n",
    "import pandas as pd\n",
    "import json\n",
    "from sklearn.feature_extraction.text import TfidfVectorizer\n",
    "from sklearn.decomposition import TruncatedSVD\n",
    "from sklearn.metrics.pairwise import cosine_similarity\n",
    "from sklearn.neighbors import KNeighborsClassifier\n",
    "from sklearn.model_selection import train_test_split, GridSearchCV\n",
    "\n",
    "from sklearn.tree import DecisionTreeRegressor, DecisionTreeClassifier\n",
    "from sklearn.ensemble import RandomForestClassifier, ExtraTreesClassifier, RandomForestRegressor\n",
    "from sklearn.ensemble import BaggingClassifier, BaggingRegressor\n",
    "from sklearn.ensemble import GradientBoostingClassifier, AdaBoostClassifier, AdaBoostRegressor\n",
    "from bs4 import BeautifulSoup  \n",
    "\n",
    "import numpy as np\n",
    "from sklearn.metrics import f1_score\n",
    "\n",
    "np.random.seed(42)\n",
    "\n",
    "import matplotlib.pyplot as plt\n",
    "import seaborn as sns\n",
    "%matplotlib inline"
   ]
  },
  {
   "cell_type": "markdown",
   "metadata": {},
   "source": [
    "## Load, analyze and pre-process flood dataset. "
   ]
  },
  {
   "cell_type": "code",
   "execution_count": 3,
   "metadata": {},
   "outputs": [],
   "source": [
    "df=pd.read_csv('./floods_relevance.csv')"
   ]
  },
  {
   "cell_type": "code",
   "execution_count": 4,
   "metadata": {
    "scrolled": true
   },
   "outputs": [
    {
     "data": {
      "text/html": [
       "<div>\n",
       "<style scoped>\n",
       "    .dataframe tbody tr th:only-of-type {\n",
       "        vertical-align: middle;\n",
       "    }\n",
       "\n",
       "    .dataframe tbody tr th {\n",
       "        vertical-align: top;\n",
       "    }\n",
       "\n",
       "    .dataframe thead th {\n",
       "        text-align: right;\n",
       "    }\n",
       "</style>\n",
       "<table border=\"1\" class=\"dataframe\">\n",
       "  <thead>\n",
       "    <tr style=\"text-align: right;\">\n",
       "      <th></th>\n",
       "      <th>content</th>\n",
       "      <th>description</th>\n",
       "      <th>publishedAt</th>\n",
       "      <th>title</th>\n",
       "      <th>source_name</th>\n",
       "      <th>flood_relevance</th>\n",
       "    </tr>\n",
       "  </thead>\n",
       "  <tbody>\n",
       "    <tr>\n",
       "      <th>0</th>\n",
       "      <td>Chat with us in Facebook Messenger. Find out w...</td>\n",
       "      <td>A pair of environmental reports reveal the wor...</td>\n",
       "      <td>2019-01-16T22:52:24Z</td>\n",
       "      <td>Melting ice could flood Brooklyn Bridge</td>\n",
       "      <td>CNN</td>\n",
       "      <td>0</td>\n",
       "    </tr>\n",
       "    <tr>\n",
       "      <th>1</th>\n",
       "      <td>The aid group said it had seen hundreds of cas...</td>\n",
       "      <td>With vast areas submerged by contaminated wate...</td>\n",
       "      <td>2019-03-27T15:49:20Z</td>\n",
       "      <td>Cholera Outbreak Raises New Danger in Flood-Ra...</td>\n",
       "      <td>The New York Times</td>\n",
       "      <td>0</td>\n",
       "    </tr>\n",
       "    <tr>\n",
       "      <th>2</th>\n",
       "      <td>Finding settings that amplify an operas drama ...</td>\n",
       "      <td>From left: Kristine Flood, Wanda Ferrerias, Ma...</td>\n",
       "      <td>2018-12-04T17:05:05Z</td>\n",
       "      <td>After Struggling With Homelessness, a Chorus S...</td>\n",
       "      <td>The New York Times</td>\n",
       "      <td>0</td>\n",
       "    </tr>\n",
       "    <tr>\n",
       "      <th>3</th>\n",
       "      <td>The amount the ground can soak up is limited, ...</td>\n",
       "      <td>Flooding in the town of Hamburg, Iowa, on Marc...</td>\n",
       "      <td>2019-04-08T20:58:04Z</td>\n",
       "      <td>Powerful Storm Threatens More Misery in Flood-...</td>\n",
       "      <td>The New York Times</td>\n",
       "      <td>1</td>\n",
       "    </tr>\n",
       "    <tr>\n",
       "      <th>4</th>\n",
       "      <td>Many of the levees, usually earthen and topped...</td>\n",
       "      <td>Hundreds of miles of levees in the Midwest hav...</td>\n",
       "      <td>2019-03-31T09:00:10Z</td>\n",
       "      <td>‘Breaches Everywhere’: Midwest Levees Burst, a...</td>\n",
       "      <td>The New York Times</td>\n",
       "      <td>0</td>\n",
       "    </tr>\n",
       "  </tbody>\n",
       "</table>\n",
       "</div>"
      ],
      "text/plain": [
       "                                             content  \\\n",
       "0  Chat with us in Facebook Messenger. Find out w...   \n",
       "1  The aid group said it had seen hundreds of cas...   \n",
       "2  Finding settings that amplify an operas drama ...   \n",
       "3  The amount the ground can soak up is limited, ...   \n",
       "4  Many of the levees, usually earthen and topped...   \n",
       "\n",
       "                                         description           publishedAt  \\\n",
       "0  A pair of environmental reports reveal the wor...  2019-01-16T22:52:24Z   \n",
       "1  With vast areas submerged by contaminated wate...  2019-03-27T15:49:20Z   \n",
       "2  From left: Kristine Flood, Wanda Ferrerias, Ma...  2018-12-04T17:05:05Z   \n",
       "3  Flooding in the town of Hamburg, Iowa, on Marc...  2019-04-08T20:58:04Z   \n",
       "4  Hundreds of miles of levees in the Midwest hav...  2019-03-31T09:00:10Z   \n",
       "\n",
       "                                               title         source_name  \\\n",
       "0            Melting ice could flood Brooklyn Bridge                 CNN   \n",
       "1  Cholera Outbreak Raises New Danger in Flood-Ra...  The New York Times   \n",
       "2  After Struggling With Homelessness, a Chorus S...  The New York Times   \n",
       "3  Powerful Storm Threatens More Misery in Flood-...  The New York Times   \n",
       "4  ‘Breaches Everywhere’: Midwest Levees Burst, a...  The New York Times   \n",
       "\n",
       "   flood_relevance  \n",
       "0                0  \n",
       "1                0  \n",
       "2                0  \n",
       "3                1  \n",
       "4                0  "
      ]
     },
     "execution_count": 4,
     "metadata": {},
     "output_type": "execute_result"
    }
   ],
   "source": [
    "df.head()"
   ]
  },
  {
   "cell_type": "code",
   "execution_count": 5,
   "metadata": {},
   "outputs": [
    {
     "data": {
      "text/plain": [
       "'The aid group said it had seen hundreds of cases of acute watery diarrhea in the past few days, though the germs responsible often were not known.\\r\\nThe scale of extreme damage will likely lead to a dramatic increase of waterborne diseases, skin infections, respiratory tract infections and malaria in the coming days and weeks, said Gert Verdonck, the groups emergency coordinator in Beira.\\r\\nHurried efforts were underway to restore running water to Beira. The United Nations childrens agency said parts of the citys water supply system were working again, with water running in 60 percent of the pipes. The government also was operating water trucks.\\r\\nWith roads submerged or damaged, Beira remains accessibly primarily by air and sea, and relief agencies continued on Wednesday to explore ways to deliver more aid to the city. Even more challenging was reaching rural communities, some of them still without contact with the outside world.\\r\\nMore humanitarian groups arrived as the United Nations urged the international community to fund a $282 million emergency appeal for the next three months.\\r\\nThe United Nations refugee agency announced that its first aid flight had landed in the capital, Maputo, with plans to take tents, mosquito nets and other items to Beira. Two other flights are planned for Zimbabwe and Malawi this week.'"
      ]
     },
     "execution_count": 5,
     "metadata": {},
     "output_type": "execute_result"
    }
   ],
   "source": [
    "df.iloc[1,0]"
   ]
  },
  {
   "cell_type": "code",
   "execution_count": 6,
   "metadata": {},
   "outputs": [
    {
     "data": {
      "text/plain": [
       "0    0.634\n",
       "1    0.366\n",
       "Name: positive, dtype: float64"
      ]
     },
     "execution_count": 6,
     "metadata": {},
     "output_type": "execute_result"
    }
   ],
   "source": [
    "df.drop(columns=['publishedAt','source_name'], inplace=True)\n",
    "df.rename(columns={'flood_relevance':'positive'}, inplace=True)\n",
    "# Baseline Accuracy \n",
    "df['positive'].value_counts(normalize=True)"
   ]
  },
  {
   "cell_type": "code",
   "execution_count": 7,
   "metadata": {},
   "outputs": [
    {
     "data": {
      "text/html": [
       "<div>\n",
       "<style scoped>\n",
       "    .dataframe tbody tr th:only-of-type {\n",
       "        vertical-align: middle;\n",
       "    }\n",
       "\n",
       "    .dataframe tbody tr th {\n",
       "        vertical-align: top;\n",
       "    }\n",
       "\n",
       "    .dataframe thead th {\n",
       "        text-align: right;\n",
       "    }\n",
       "</style>\n",
       "<table border=\"1\" class=\"dataframe\">\n",
       "  <thead>\n",
       "    <tr style=\"text-align: right;\">\n",
       "      <th></th>\n",
       "      <th>index</th>\n",
       "      <th>content</th>\n",
       "      <th>description</th>\n",
       "      <th>title</th>\n",
       "      <th>positive</th>\n",
       "    </tr>\n",
       "  </thead>\n",
       "  <tbody>\n",
       "    <tr>\n",
       "      <th>0</th>\n",
       "      <td>0</td>\n",
       "      <td>Chat with us in Facebook Messenger. Find out w...</td>\n",
       "      <td>A pair of environmental reports reveal the wor...</td>\n",
       "      <td>Melting ice could flood Brooklyn Bridge</td>\n",
       "      <td>0</td>\n",
       "    </tr>\n",
       "    <tr>\n",
       "      <th>1</th>\n",
       "      <td>1</td>\n",
       "      <td>The aid group said it had seen hundreds of cas...</td>\n",
       "      <td>With vast areas submerged by contaminated wate...</td>\n",
       "      <td>Cholera Outbreak Raises New Danger in Flood-Ra...</td>\n",
       "      <td>0</td>\n",
       "    </tr>\n",
       "    <tr>\n",
       "      <th>2</th>\n",
       "      <td>2</td>\n",
       "      <td>Finding settings that amplify an operas drama ...</td>\n",
       "      <td>From left: Kristine Flood, Wanda Ferrerias, Ma...</td>\n",
       "      <td>After Struggling With Homelessness, a Chorus S...</td>\n",
       "      <td>0</td>\n",
       "    </tr>\n",
       "    <tr>\n",
       "      <th>3</th>\n",
       "      <td>3</td>\n",
       "      <td>The amount the ground can soak up is limited, ...</td>\n",
       "      <td>Flooding in the town of Hamburg, Iowa, on Marc...</td>\n",
       "      <td>Powerful Storm Threatens More Misery in Flood-...</td>\n",
       "      <td>1</td>\n",
       "    </tr>\n",
       "    <tr>\n",
       "      <th>4</th>\n",
       "      <td>4</td>\n",
       "      <td>Many of the levees, usually earthen and topped...</td>\n",
       "      <td>Hundreds of miles of levees in the Midwest hav...</td>\n",
       "      <td>‘Breaches Everywhere’: Midwest Levees Burst, a...</td>\n",
       "      <td>0</td>\n",
       "    </tr>\n",
       "  </tbody>\n",
       "</table>\n",
       "</div>"
      ],
      "text/plain": [
       "   index                                            content  \\\n",
       "0      0  Chat with us in Facebook Messenger. Find out w...   \n",
       "1      1  The aid group said it had seen hundreds of cas...   \n",
       "2      2  Finding settings that amplify an operas drama ...   \n",
       "3      3  The amount the ground can soak up is limited, ...   \n",
       "4      4  Many of the levees, usually earthen and topped...   \n",
       "\n",
       "                                         description  \\\n",
       "0  A pair of environmental reports reveal the wor...   \n",
       "1  With vast areas submerged by contaminated wate...   \n",
       "2  From left: Kristine Flood, Wanda Ferrerias, Ma...   \n",
       "3  Flooding in the town of Hamburg, Iowa, on Marc...   \n",
       "4  Hundreds of miles of levees in the Midwest hav...   \n",
       "\n",
       "                                               title  positive  \n",
       "0            Melting ice could flood Brooklyn Bridge         0  \n",
       "1  Cholera Outbreak Raises New Danger in Flood-Ra...         0  \n",
       "2  After Struggling With Homelessness, a Chorus S...         0  \n",
       "3  Powerful Storm Threatens More Misery in Flood-...         1  \n",
       "4  ‘Breaches Everywhere’: Midwest Levees Burst, a...         0  "
      ]
     },
     "execution_count": 7,
     "metadata": {},
     "output_type": "execute_result"
    }
   ],
   "source": [
    "df.drop_duplicates(inplace=True)\n",
    "#df.drop(df['content'].isnull().index.values, inplace=True)\n",
    "#df=df[~df['content'].isnull()]\n",
    "df.dropna(inplace=True)\n",
    "#df['content'].dropna(inplace=True)\n",
    "df['content'].replace('\\d+', ' ', regex=True, inplace=True)\n",
    "df.reset_index(inplace=True)\n",
    "df.head()"
   ]
  },
  {
   "cell_type": "code",
   "execution_count": 8,
   "metadata": {},
   "outputs": [],
   "source": [
    "df_bs=[]\n",
    "ls2=[]\n",
    "stops = [stopwords.words('english'), 'playing']\n",
    "for i in df['content']:\n",
    "    df_bs.append(BeautifulSoup(i,'html.parser'))\n",
    "ls1 = [re.sub(\"[^a-zA-Z]\",\" \", i.get_text()).lower().split() for i in df_bs]\n",
    "for j in range(len(ls1)):\n",
    "    a=[i for i in ls1[j] if i not in stops]\n",
    "    ls2.append(\" \".join(a))\n"
   ]
  },
  {
   "cell_type": "code",
   "execution_count": 9,
   "metadata": {},
   "outputs": [],
   "source": [
    "df1=pd.DataFrame(ls2)\n",
    "df1.rename(columns={0:'content'}, inplace=True)"
   ]
  },
  {
   "cell_type": "code",
   "execution_count": 10,
   "metadata": {},
   "outputs": [],
   "source": [
    "df_pos=df[df['positive']==1]\n",
    "df_neg=df[df['positive']==0]"
   ]
  },
  {
   "cell_type": "markdown",
   "metadata": {},
   "source": [
    "#### Use TF-IDF Vectorizer to vectorize the data set for preliminary analysis."
   ]
  },
  {
   "cell_type": "code",
   "execution_count": 11,
   "metadata": {},
   "outputs": [],
   "source": [
    "from sklearn.feature_extraction import text \n",
    "\n",
    "stop_words = text.ENGLISH_STOP_WORDS.union('playing','said' 'Image', 'copyright', 'Media', 'caption')\n",
    "stop = list(text.ENGLISH_STOP_WORDS)\n",
    "stop.extend(['playing','said', 'Image', 'copyright', 'Media', 'caption'])\n",
    "\n",
    "tvec=TfidfVectorizer(stop_words=stop, min_df=5, max_df=1.0, ngram_range=(1,2), max_features=5000)\n",
    "# tvec1=TfidfVectorizer(stop_words=stop, min_df=5, max_df=1.0, max_features=1000)"
   ]
  },
  {
   "cell_type": "code",
   "execution_count": 12,
   "metadata": {},
   "outputs": [],
   "source": [
    "cont_mat=tvec.fit_transform(df['content'])\n",
    "cont_mat.shape\n",
    "len(tvec.get_feature_names())\n",
    "cont_df=pd.SparseDataFrame(cont_mat, columns=tvec.get_feature_names())\n",
    "cont_df.fillna(0, inplace=True)"
   ]
  },
  {
   "cell_type": "code",
   "execution_count": 13,
   "metadata": {},
   "outputs": [],
   "source": [
    "# cont_mat1=tvec1.fit_transform(df1['content'])\n",
    "# cont_mat1.shape\n",
    "# len(tvec1.get_feature_names())\n",
    "# cont_df1=pd.SparseDataFrame(cont_mat1, columns=tvec1.get_feature_names())\n",
    "# cont_df1.fillna(0, inplace=True)"
   ]
  },
  {
   "cell_type": "code",
   "execution_count": 14,
   "metadata": {},
   "outputs": [],
   "source": [
    "#cont_df.fillna(0, inplace=True)\n",
    "#cont_df1.fillna(0, inplace=True)"
   ]
  },
  {
   "cell_type": "code",
   "execution_count": 15,
   "metadata": {
    "scrolled": false
   },
   "outputs": [
    {
     "data": {
      "text/html": [
       "<div>\n",
       "<style scoped>\n",
       "    .dataframe tbody tr th:only-of-type {\n",
       "        vertical-align: middle;\n",
       "    }\n",
       "\n",
       "    .dataframe tbody tr th {\n",
       "        vertical-align: top;\n",
       "    }\n",
       "\n",
       "    .dataframe thead th {\n",
       "        text-align: right;\n",
       "    }\n",
       "</style>\n",
       "<table border=\"1\" class=\"dataframe\">\n",
       "  <thead>\n",
       "    <tr style=\"text-align: right;\">\n",
       "      <th></th>\n",
       "      <th>___</th>\n",
       "      <th>abandoned</th>\n",
       "      <th>abc</th>\n",
       "      <th>abc news</th>\n",
       "      <th>ability</th>\n",
       "      <th>able</th>\n",
       "      <th>abortion</th>\n",
       "      <th>abroad</th>\n",
       "      <th>absence</th>\n",
       "      <th>absolutely</th>\n",
       "      <th>...</th>\n",
       "      <th>youtube</th>\n",
       "      <th>yuan</th>\n",
       "      <th>zealand</th>\n",
       "      <th>zero</th>\n",
       "      <th>zimbabwe</th>\n",
       "      <th>zimbabwe malawi</th>\n",
       "      <th>zone</th>\n",
       "      <th>zones</th>\n",
       "      <th>zookeeper</th>\n",
       "      <th>zookeeper struck</th>\n",
       "    </tr>\n",
       "  </thead>\n",
       "  <tbody>\n",
       "    <tr>\n",
       "      <th>0</th>\n",
       "      <td>0.0</td>\n",
       "      <td>0.0</td>\n",
       "      <td>0.0</td>\n",
       "      <td>0.0</td>\n",
       "      <td>0.0</td>\n",
       "      <td>0.0</td>\n",
       "      <td>0.0</td>\n",
       "      <td>0.0</td>\n",
       "      <td>0.0</td>\n",
       "      <td>0.0</td>\n",
       "      <td>...</td>\n",
       "      <td>0.0</td>\n",
       "      <td>0.0</td>\n",
       "      <td>0.0</td>\n",
       "      <td>0.0</td>\n",
       "      <td>0.000000</td>\n",
       "      <td>0.00000</td>\n",
       "      <td>0.0</td>\n",
       "      <td>0.0</td>\n",
       "      <td>0.0</td>\n",
       "      <td>0.0</td>\n",
       "    </tr>\n",
       "    <tr>\n",
       "      <th>1</th>\n",
       "      <td>0.0</td>\n",
       "      <td>0.0</td>\n",
       "      <td>0.0</td>\n",
       "      <td>0.0</td>\n",
       "      <td>0.0</td>\n",
       "      <td>0.0</td>\n",
       "      <td>0.0</td>\n",
       "      <td>0.0</td>\n",
       "      <td>0.0</td>\n",
       "      <td>0.0</td>\n",
       "      <td>...</td>\n",
       "      <td>0.0</td>\n",
       "      <td>0.0</td>\n",
       "      <td>0.0</td>\n",
       "      <td>0.0</td>\n",
       "      <td>0.104423</td>\n",
       "      <td>0.10894</td>\n",
       "      <td>0.0</td>\n",
       "      <td>0.0</td>\n",
       "      <td>0.0</td>\n",
       "      <td>0.0</td>\n",
       "    </tr>\n",
       "    <tr>\n",
       "      <th>2</th>\n",
       "      <td>0.0</td>\n",
       "      <td>0.0</td>\n",
       "      <td>0.0</td>\n",
       "      <td>0.0</td>\n",
       "      <td>0.0</td>\n",
       "      <td>0.0</td>\n",
       "      <td>0.0</td>\n",
       "      <td>0.0</td>\n",
       "      <td>0.0</td>\n",
       "      <td>0.0</td>\n",
       "      <td>...</td>\n",
       "      <td>0.0</td>\n",
       "      <td>0.0</td>\n",
       "      <td>0.0</td>\n",
       "      <td>0.0</td>\n",
       "      <td>0.000000</td>\n",
       "      <td>0.00000</td>\n",
       "      <td>0.0</td>\n",
       "      <td>0.0</td>\n",
       "      <td>0.0</td>\n",
       "      <td>0.0</td>\n",
       "    </tr>\n",
       "    <tr>\n",
       "      <th>3</th>\n",
       "      <td>0.0</td>\n",
       "      <td>0.0</td>\n",
       "      <td>0.0</td>\n",
       "      <td>0.0</td>\n",
       "      <td>0.0</td>\n",
       "      <td>0.0</td>\n",
       "      <td>0.0</td>\n",
       "      <td>0.0</td>\n",
       "      <td>0.0</td>\n",
       "      <td>0.0</td>\n",
       "      <td>...</td>\n",
       "      <td>0.0</td>\n",
       "      <td>0.0</td>\n",
       "      <td>0.0</td>\n",
       "      <td>0.0</td>\n",
       "      <td>0.000000</td>\n",
       "      <td>0.00000</td>\n",
       "      <td>0.0</td>\n",
       "      <td>0.0</td>\n",
       "      <td>0.0</td>\n",
       "      <td>0.0</td>\n",
       "    </tr>\n",
       "    <tr>\n",
       "      <th>4</th>\n",
       "      <td>0.0</td>\n",
       "      <td>0.0</td>\n",
       "      <td>0.0</td>\n",
       "      <td>0.0</td>\n",
       "      <td>0.0</td>\n",
       "      <td>0.0</td>\n",
       "      <td>0.0</td>\n",
       "      <td>0.0</td>\n",
       "      <td>0.0</td>\n",
       "      <td>0.0</td>\n",
       "      <td>...</td>\n",
       "      <td>0.0</td>\n",
       "      <td>0.0</td>\n",
       "      <td>0.0</td>\n",
       "      <td>0.0</td>\n",
       "      <td>0.000000</td>\n",
       "      <td>0.00000</td>\n",
       "      <td>0.0</td>\n",
       "      <td>0.0</td>\n",
       "      <td>0.0</td>\n",
       "      <td>0.0</td>\n",
       "    </tr>\n",
       "  </tbody>\n",
       "</table>\n",
       "<p>5 rows × 5000 columns</p>\n",
       "</div>"
      ],
      "text/plain": [
       "   ___  abandoned  abc  abc news  ability  able  abortion  abroad  absence  \\\n",
       "0  0.0        0.0  0.0       0.0      0.0   0.0       0.0     0.0      0.0   \n",
       "1  0.0        0.0  0.0       0.0      0.0   0.0       0.0     0.0      0.0   \n",
       "2  0.0        0.0  0.0       0.0      0.0   0.0       0.0     0.0      0.0   \n",
       "3  0.0        0.0  0.0       0.0      0.0   0.0       0.0     0.0      0.0   \n",
       "4  0.0        0.0  0.0       0.0      0.0   0.0       0.0     0.0      0.0   \n",
       "\n",
       "   absolutely  ...  youtube  yuan  zealand  zero  zimbabwe  zimbabwe malawi  \\\n",
       "0         0.0  ...      0.0   0.0      0.0   0.0  0.000000          0.00000   \n",
       "1         0.0  ...      0.0   0.0      0.0   0.0  0.104423          0.10894   \n",
       "2         0.0  ...      0.0   0.0      0.0   0.0  0.000000          0.00000   \n",
       "3         0.0  ...      0.0   0.0      0.0   0.0  0.000000          0.00000   \n",
       "4         0.0  ...      0.0   0.0      0.0   0.0  0.000000          0.00000   \n",
       "\n",
       "   zone  zones  zookeeper  zookeeper struck  \n",
       "0   0.0    0.0        0.0               0.0  \n",
       "1   0.0    0.0        0.0               0.0  \n",
       "2   0.0    0.0        0.0               0.0  \n",
       "3   0.0    0.0        0.0               0.0  \n",
       "4   0.0    0.0        0.0               0.0  \n",
       "\n",
       "[5 rows x 5000 columns]"
      ]
     },
     "execution_count": 15,
     "metadata": {},
     "output_type": "execute_result"
    }
   ],
   "source": [
    "cont_df.head()"
   ]
  },
  {
   "cell_type": "code",
   "execution_count": 16,
   "metadata": {},
   "outputs": [],
   "source": [
    "#cont_df1.head()"
   ]
  },
  {
   "cell_type": "code",
   "execution_count": 17,
   "metadata": {},
   "outputs": [],
   "source": [
    "# X=df['content']\n",
    "# y=df['positive']"
   ]
  },
  {
   "cell_type": "code",
   "execution_count": 18,
   "metadata": {},
   "outputs": [],
   "source": [
    "# X1=df['content']\n",
    "# y1=df['positive']"
   ]
  },
  {
   "cell_type": "code",
   "execution_count": 19,
   "metadata": {},
   "outputs": [],
   "source": [
    "#y1.shape"
   ]
  },
  {
   "cell_type": "code",
   "execution_count": 20,
   "metadata": {},
   "outputs": [],
   "source": [
    "# This is where we would train test split when needed, to SVD before applying the KNN or other models like that.\n",
    "#X_train, X_test, y_train, y_test= train_test_split (svd_df, target, stratify = target)"
   ]
  },
  {
   "cell_type": "code",
   "execution_count": 21,
   "metadata": {},
   "outputs": [
    {
     "data": {
      "text/plain": [
       "(958, 100)"
      ]
     },
     "execution_count": 21,
     "metadata": {},
     "output_type": "execute_result"
    }
   ],
   "source": [
    "svd=TruncatedSVD(n_components=100)\n",
    "svd_matrix=svd.fit_transform(cont_df)\n",
    "svd_matrix.shape"
   ]
  },
  {
   "cell_type": "code",
   "execution_count": 22,
   "metadata": {},
   "outputs": [],
   "source": [
    "# svd1=TruncatedSVD(n_components=100)\n",
    "# svd_matrix1=svd1.fit_transform(cont_df1)\n",
    "# svd_matrix1.shape"
   ]
  },
  {
   "cell_type": "markdown",
   "metadata": {},
   "source": [
    "## Load and Transform new Articles"
   ]
  },
  {
   "cell_type": "code",
   "execution_count": 23,
   "metadata": {},
   "outputs": [],
   "source": [
    "df3=pd.read_csv('./flood_articles1.csv')"
   ]
  },
  {
   "cell_type": "code",
   "execution_count": 24,
   "metadata": {},
   "outputs": [
    {
     "data": {
      "text/plain": [
       "(131, 6)"
      ]
     },
     "execution_count": 24,
     "metadata": {},
     "output_type": "execute_result"
    }
   ],
   "source": [
    "df3.shape"
   ]
  },
  {
   "cell_type": "code",
   "execution_count": 25,
   "metadata": {},
   "outputs": [
    {
     "data": {
      "text/plain": [
       "'Image copyrightGetty ImagesImage caption\\r\\n Guerneville residents are forced to travel by canoe through their neighbourhood\\r\\nTwo towns in northern California\\'s wine-making region have been turned into virtual islands by record-breaking floodwaters, say authorities.\\r\\nSonoma County authorities, about 70 miles (110km) north of San Francisco, said about 3,600 people were evacuated after the Russian River flooded.\\r\\nTorrential rain and snowfall has triggered the worst deluge in over 20 years, emergency officials say.\\r\\nThe towns of Monte Rio and Guerneville are currently only accessible by boat.\\r\\nImage copyrightGetty ImagesImage caption\\r\\n Flooding also submerged the shopping district of the nearby town of Sebastopol\\r\\n\"You cannot get into or out of town,\" Sonoma County officials said on Wednesday night in a mandatory evacuation order. \"Guerneville is officially an island.\"\\r\\nAround 2,000 homes and businesses are currently underwater, Ms Khan said, adding that only around half of the 4,500 residents complied with the official warning to leave.\\r\\nA hotel popular among tourists who came to see the region\\'s famed vineyards was evacuated, according to KGO-TV.\\r\\nA guest there from North Carolina told the station that she \"made a decision to take the rental car through the waist-high water and got two-thirds of the way and then the car stalled\".\\r\\nImage copyrightGetty Images\\r\\nNina Sheehan said it was a mistake to have tried to pass by vehicle. \\r\\nEmergency crews always warn people against ever driving through water over 1ft (30cm) deep. Two feet of water can wash away most cars, according to the National Weather Service.\\r\\nMembers of the National Guard were seen towing kayaks, canoes, and jet-skis to the water\\'s edge.\\r\\nOne trapped woman suffered a medical issue and was evacuated by helicopter, the sheriff\\'s office said.\\r\\nImage copyrightGetty ImagesImage caption\\r\\n Grape fields are underwater in California\\'s wine-producing region\\r\\nA nearby mudslide, as well as downed trees, is also cutting off road access on Bohemian Highway.\\r\\nOne man, who was trapped with his wife in their vehicle by a mudslide, told KGO-TV that trees were falling all around them as the mud pushed them downhill.\\r\\n\"Oh, they just flew down every which way. They just came running down the hill, these big trees,\" he said.\\r\\nImage copyrightGetty Images\\r\\nBy Wednesday night the Russian River crested at 45ft - nearly 14ft above flood stage - before beginning to recede.\\r\\nIn nearby Sebastopol, the Laguna de Santa Rosa wetlands rose high enough to swamp the town\\'s main shopping district.\\r\\nMore rain is forecast in the coming days, weather officials warn, and an increased snowpack in several western states could continue to keep water levels higher than average.'"
      ]
     },
     "execution_count": 25,
     "metadata": {},
     "output_type": "execute_result"
    }
   ],
   "source": [
    "df3.iloc[72,0]"
   ]
  },
  {
   "cell_type": "code",
   "execution_count": 26,
   "metadata": {},
   "outputs": [
    {
     "data": {
      "text/html": [
       "<div>\n",
       "<style scoped>\n",
       "    .dataframe tbody tr th:only-of-type {\n",
       "        vertical-align: middle;\n",
       "    }\n",
       "\n",
       "    .dataframe tbody tr th {\n",
       "        vertical-align: top;\n",
       "    }\n",
       "\n",
       "    .dataframe thead th {\n",
       "        text-align: right;\n",
       "    }\n",
       "</style>\n",
       "<table border=\"1\" class=\"dataframe\">\n",
       "  <thead>\n",
       "    <tr style=\"text-align: right;\">\n",
       "      <th></th>\n",
       "      <th>index</th>\n",
       "      <th>content</th>\n",
       "      <th>description</th>\n",
       "      <th>publishedAt</th>\n",
       "      <th>title</th>\n",
       "      <th>source_name</th>\n",
       "      <th>flood_disaster_relevance</th>\n",
       "    </tr>\n",
       "  </thead>\n",
       "  <tbody>\n",
       "    <tr>\n",
       "      <th>0</th>\n",
       "      <td>0</td>\n",
       "      <td>Image copyright EPA Image caption Locals have ...</td>\n",
       "      <td>Cyclone Owen has been downgraded to a tropical...</td>\n",
       "      <td>2018-12-15T23:02:13Z</td>\n",
       "      <td>Cyclone Owen downgraded, but could reform off ...</td>\n",
       "      <td>BBC News</td>\n",
       "      <td>0</td>\n",
       "    </tr>\n",
       "    <tr>\n",
       "      <th>1</th>\n",
       "      <td>1</td>\n",
       "      <td>Image copyright Reuters Italy has been battere...</td>\n",
       "      <td>Images of Venice under flood waters as at leas...</td>\n",
       "      <td>2018-10-30T09:46:20Z</td>\n",
       "      <td>Venice under water as Italy hit by fierce wind...</td>\n",
       "      <td>BBC News</td>\n",
       "      <td>0</td>\n",
       "    </tr>\n",
       "    <tr>\n",
       "      <th>2</th>\n",
       "      <td>2</td>\n",
       "      <td>Image copyrightADDY TRITT\\r\\nSeveral Midwester...</td>\n",
       "      <td>As devastating flooding continues to affect th...</td>\n",
       "      <td>2019-04-03T17:28:59Z</td>\n",
       "      <td>Woman buys out shoe store to help flood victims</td>\n",
       "      <td>BBC News</td>\n",
       "      <td>0</td>\n",
       "    </tr>\n",
       "    <tr>\n",
       "      <th>3</th>\n",
       "      <td>3</td>\n",
       "      <td>Image copyrightAFPImage caption\\r\\n A man inju...</td>\n",
       "      <td>The tropical cyclone took governments by surpr...</td>\n",
       "      <td>2019-03-24T00:23:07Z</td>\n",
       "      <td>Cyclone Idai: How prepared was southern Africa?</td>\n",
       "      <td>BBC News</td>\n",
       "      <td>0</td>\n",
       "    </tr>\n",
       "    <tr>\n",
       "      <th>4</th>\n",
       "      <td>4</td>\n",
       "      <td>Media captionThousands of homes destroyed as I...</td>\n",
       "      <td>Floods have already killed at least 70 people,...</td>\n",
       "      <td>2019-04-06T07:57:14Z</td>\n",
       "      <td>Iran floods: Thousands evacuate homes as heavy...</td>\n",
       "      <td>BBC News</td>\n",
       "      <td>1</td>\n",
       "    </tr>\n",
       "  </tbody>\n",
       "</table>\n",
       "</div>"
      ],
      "text/plain": [
       "   index                                            content  \\\n",
       "0      0  Image copyright EPA Image caption Locals have ...   \n",
       "1      1  Image copyright Reuters Italy has been battere...   \n",
       "2      2  Image copyrightADDY TRITT\\r\\nSeveral Midwester...   \n",
       "3      3  Image copyrightAFPImage caption\\r\\n A man inju...   \n",
       "4      4  Media captionThousands of homes destroyed as I...   \n",
       "\n",
       "                                         description           publishedAt  \\\n",
       "0  Cyclone Owen has been downgraded to a tropical...  2018-12-15T23:02:13Z   \n",
       "1  Images of Venice under flood waters as at leas...  2018-10-30T09:46:20Z   \n",
       "2  As devastating flooding continues to affect th...  2019-04-03T17:28:59Z   \n",
       "3  The tropical cyclone took governments by surpr...  2019-03-24T00:23:07Z   \n",
       "4  Floods have already killed at least 70 people,...  2019-04-06T07:57:14Z   \n",
       "\n",
       "                                               title source_name  \\\n",
       "0  Cyclone Owen downgraded, but could reform off ...    BBC News   \n",
       "1  Venice under water as Italy hit by fierce wind...    BBC News   \n",
       "2    Woman buys out shoe store to help flood victims    BBC News   \n",
       "3    Cyclone Idai: How prepared was southern Africa?    BBC News   \n",
       "4  Iran floods: Thousands evacuate homes as heavy...    BBC News   \n",
       "\n",
       "   flood_disaster_relevance  \n",
       "0                         0  \n",
       "1                         0  \n",
       "2                         0  \n",
       "3                         0  \n",
       "4                         1  "
      ]
     },
     "execution_count": 26,
     "metadata": {},
     "output_type": "execute_result"
    }
   ],
   "source": [
    "#df=df[~df['content'].isnull()]\n",
    "#df3=df3[~df3['content'].isnull()]\n",
    "df3.drop_duplicates(inplace=True)\n",
    "df3.dropna(inplace=True) # ['content']\n",
    "df3['content'].replace('\\d+', ' ', regex=True, inplace=True)\n",
    "df3.reset_index(inplace=True)\n",
    "df3.head()"
   ]
  },
  {
   "cell_type": "code",
   "execution_count": 27,
   "metadata": {},
   "outputs": [
    {
     "data": {
      "text/plain": [
       "76"
      ]
     },
     "execution_count": 27,
     "metadata": {},
     "output_type": "execute_result"
    }
   ],
   "source": [
    "df3.iloc[72,0]"
   ]
  },
  {
   "cell_type": "code",
   "execution_count": 28,
   "metadata": {},
   "outputs": [],
   "source": [
    "cont_mat3=tvec.transform(df3['content'])\n",
    "cont_mat3.shape\n",
    "len(tvec.get_feature_names())\n",
    "cont_df3=pd.SparseDataFrame(cont_mat3, columns=tvec.get_feature_names())\n",
    "cont_df3.fillna(0, inplace=True)"
   ]
  },
  {
   "cell_type": "code",
   "execution_count": 29,
   "metadata": {
    "scrolled": false
   },
   "outputs": [],
   "source": [
    "#cont_df3.head()"
   ]
  },
  {
   "cell_type": "code",
   "execution_count": 30,
   "metadata": {},
   "outputs": [
    {
     "data": {
      "text/plain": [
       "(127, 100)"
      ]
     },
     "execution_count": 30,
     "metadata": {},
     "output_type": "execute_result"
    }
   ],
   "source": [
    "svd_test = svd.transform(cont_df3)\n",
    "svd_test.shape"
   ]
  },
  {
   "cell_type": "code",
   "execution_count": 31,
   "metadata": {},
   "outputs": [
    {
     "data": {
      "text/plain": [
       "Text(0.5, 1.0, 'Explained variance by component')"
      ]
     },
     "execution_count": 31,
     "metadata": {},
     "output_type": "execute_result"
    },
    {
     "data": {
      "image/png": "[encoded data removed]",
      "text/plain": [
       "<Figure size 720x504 with 1 Axes>"
      ]
     },
     "metadata": {
      "needs_background": "light"
     },
     "output_type": "display_data"
    }
   ],
   "source": [
    "fig = plt.figure(figsize=(10,7))\n",
    "plt.bar(np.array(range(100))+1, \n",
    "        svd.explained_variance_ratio_, \n",
    "        color='g', \n",
    "        label='explained variance')\n",
    "plt.plot(np.array(range(100))+1, \n",
    "         np.cumsum(svd.explained_variance_ratio_), \n",
    "         label='cumulative explained variance')\n",
    "plt.legend(fontsize=16)\n",
    "plt.xlabel('component', fontsize=15)\n",
    "plt.ylabel('variance ratio', fontsize=15)\n",
    "plt.title('Explained variance by component', fontsize=20)"
   ]
  },
  {
   "cell_type": "markdown",
   "metadata": {},
   "source": [
    "### Convert SVDed Matrix into a DataFrame"
   ]
  },
  {
   "cell_type": "code",
   "execution_count": 32,
   "metadata": {},
   "outputs": [
    {
     "data": {
      "text/html": [
       "<div>\n",
       "<style scoped>\n",
       "    .dataframe tbody tr th:only-of-type {\n",
       "        vertical-align: middle;\n",
       "    }\n",
       "\n",
       "    .dataframe tbody tr th {\n",
       "        vertical-align: top;\n",
       "    }\n",
       "\n",
       "    .dataframe thead th {\n",
       "        text-align: right;\n",
       "    }\n",
       "</style>\n",
       "<table border=\"1\" class=\"dataframe\">\n",
       "  <thead>\n",
       "    <tr style=\"text-align: right;\">\n",
       "      <th></th>\n",
       "      <th>0</th>\n",
       "      <th>1</th>\n",
       "      <th>2</th>\n",
       "      <th>3</th>\n",
       "      <th>4</th>\n",
       "      <th>5</th>\n",
       "      <th>6</th>\n",
       "      <th>7</th>\n",
       "      <th>8</th>\n",
       "      <th>9</th>\n",
       "      <th>...</th>\n",
       "      <th>90</th>\n",
       "      <th>91</th>\n",
       "      <th>92</th>\n",
       "      <th>93</th>\n",
       "      <th>94</th>\n",
       "      <th>95</th>\n",
       "      <th>96</th>\n",
       "      <th>97</th>\n",
       "      <th>98</th>\n",
       "      <th>99</th>\n",
       "    </tr>\n",
       "  </thead>\n",
       "  <tbody>\n",
       "    <tr>\n",
       "      <th>0</th>\n",
       "      <td>0.028429</td>\n",
       "      <td>-0.031511</td>\n",
       "      <td>-0.020558</td>\n",
       "      <td>-0.005524</td>\n",
       "      <td>-0.003327</td>\n",
       "      <td>0.007197</td>\n",
       "      <td>-0.005791</td>\n",
       "      <td>0.015838</td>\n",
       "      <td>-0.011433</td>\n",
       "      <td>0.006704</td>\n",
       "      <td>...</td>\n",
       "      <td>-0.015783</td>\n",
       "      <td>-0.018926</td>\n",
       "      <td>-0.005016</td>\n",
       "      <td>-0.008434</td>\n",
       "      <td>0.009845</td>\n",
       "      <td>0.002049</td>\n",
       "      <td>-0.006915</td>\n",
       "      <td>0.023666</td>\n",
       "      <td>0.007419</td>\n",
       "      <td>0.010974</td>\n",
       "    </tr>\n",
       "    <tr>\n",
       "      <th>1</th>\n",
       "      <td>0.145730</td>\n",
       "      <td>-0.061304</td>\n",
       "      <td>-0.096387</td>\n",
       "      <td>-0.087204</td>\n",
       "      <td>-0.035887</td>\n",
       "      <td>-0.039392</td>\n",
       "      <td>0.011411</td>\n",
       "      <td>-0.018362</td>\n",
       "      <td>-0.002185</td>\n",
       "      <td>-0.025032</td>\n",
       "      <td>...</td>\n",
       "      <td>-0.058153</td>\n",
       "      <td>-0.047370</td>\n",
       "      <td>-0.068308</td>\n",
       "      <td>0.011764</td>\n",
       "      <td>-0.020070</td>\n",
       "      <td>-0.002666</td>\n",
       "      <td>0.050876</td>\n",
       "      <td>0.098896</td>\n",
       "      <td>0.020429</td>\n",
       "      <td>-0.108397</td>\n",
       "    </tr>\n",
       "    <tr>\n",
       "      <th>2</th>\n",
       "      <td>0.104839</td>\n",
       "      <td>-0.106565</td>\n",
       "      <td>-0.034478</td>\n",
       "      <td>0.011721</td>\n",
       "      <td>0.002804</td>\n",
       "      <td>0.030565</td>\n",
       "      <td>-0.017831</td>\n",
       "      <td>0.001127</td>\n",
       "      <td>-0.000850</td>\n",
       "      <td>0.001335</td>\n",
       "      <td>...</td>\n",
       "      <td>0.018532</td>\n",
       "      <td>0.046139</td>\n",
       "      <td>-0.042905</td>\n",
       "      <td>-0.004947</td>\n",
       "      <td>-0.027232</td>\n",
       "      <td>0.035714</td>\n",
       "      <td>-0.027936</td>\n",
       "      <td>-0.017700</td>\n",
       "      <td>-0.021135</td>\n",
       "      <td>0.036531</td>\n",
       "    </tr>\n",
       "    <tr>\n",
       "      <th>3</th>\n",
       "      <td>0.242333</td>\n",
       "      <td>0.060956</td>\n",
       "      <td>-0.070342</td>\n",
       "      <td>0.003449</td>\n",
       "      <td>-0.003113</td>\n",
       "      <td>-0.011373</td>\n",
       "      <td>0.014745</td>\n",
       "      <td>0.012114</td>\n",
       "      <td>-0.043479</td>\n",
       "      <td>-0.016919</td>\n",
       "      <td>...</td>\n",
       "      <td>0.067344</td>\n",
       "      <td>-0.022886</td>\n",
       "      <td>-0.113300</td>\n",
       "      <td>-0.085245</td>\n",
       "      <td>-0.024793</td>\n",
       "      <td>0.023810</td>\n",
       "      <td>-0.014143</td>\n",
       "      <td>0.016860</td>\n",
       "      <td>0.022708</td>\n",
       "      <td>0.089868</td>\n",
       "    </tr>\n",
       "    <tr>\n",
       "      <th>4</th>\n",
       "      <td>0.198671</td>\n",
       "      <td>-0.062792</td>\n",
       "      <td>-0.153314</td>\n",
       "      <td>-0.139669</td>\n",
       "      <td>-0.056545</td>\n",
       "      <td>-0.111540</td>\n",
       "      <td>0.037088</td>\n",
       "      <td>0.000808</td>\n",
       "      <td>-0.005873</td>\n",
       "      <td>-0.026059</td>\n",
       "      <td>...</td>\n",
       "      <td>-0.011834</td>\n",
       "      <td>0.018059</td>\n",
       "      <td>-0.061912</td>\n",
       "      <td>-0.004865</td>\n",
       "      <td>0.030342</td>\n",
       "      <td>-0.053840</td>\n",
       "      <td>-0.017257</td>\n",
       "      <td>0.005844</td>\n",
       "      <td>0.006185</td>\n",
       "      <td>0.012723</td>\n",
       "    </tr>\n",
       "  </tbody>\n",
       "</table>\n",
       "<p>5 rows × 100 columns</p>\n",
       "</div>"
      ],
      "text/plain": [
       "         0         1         2         3         4         5         6   \\\n",
       "0  0.028429 -0.031511 -0.020558 -0.005524 -0.003327  0.007197 -0.005791   \n",
       "1  0.145730 -0.061304 -0.096387 -0.087204 -0.035887 -0.039392  0.011411   \n",
       "2  0.104839 -0.106565 -0.034478  0.011721  0.002804  0.030565 -0.017831   \n",
       "3  0.242333  0.060956 -0.070342  0.003449 -0.003113 -0.011373  0.014745   \n",
       "4  0.198671 -0.062792 -0.153314 -0.139669 -0.056545 -0.111540  0.037088   \n",
       "\n",
       "         7         8         9   ...        90        91        92        93  \\\n",
       "0  0.015838 -0.011433  0.006704  ... -0.015783 -0.018926 -0.005016 -0.008434   \n",
       "1 -0.018362 -0.002185 -0.025032  ... -0.058153 -0.047370 -0.068308  0.011764   \n",
       "2  0.001127 -0.000850  0.001335  ...  0.018532  0.046139 -0.042905 -0.004947   \n",
       "3  0.012114 -0.043479 -0.016919  ...  0.067344 -0.022886 -0.113300 -0.085245   \n",
       "4  0.000808 -0.005873 -0.026059  ... -0.011834  0.018059 -0.061912 -0.004865   \n",
       "\n",
       "         94        95        96        97        98        99  \n",
       "0  0.009845  0.002049 -0.006915  0.023666  0.007419  0.010974  \n",
       "1 -0.020070 -0.002666  0.050876  0.098896  0.020429 -0.108397  \n",
       "2 -0.027232  0.035714 -0.027936 -0.017700 -0.021135  0.036531  \n",
       "3 -0.024793  0.023810 -0.014143  0.016860  0.022708  0.089868  \n",
       "4  0.030342 -0.053840 -0.017257  0.005844  0.006185  0.012723  \n",
       "\n",
       "[5 rows x 100 columns]"
      ]
     },
     "execution_count": 32,
     "metadata": {},
     "output_type": "execute_result"
    }
   ],
   "source": [
    "svd_df_t=pd.DataFrame(svd_matrix)\n",
    "svd_df_t.head()"
   ]
  },
  {
   "cell_type": "code",
   "execution_count": 33,
   "metadata": {
    "scrolled": false
   },
   "outputs": [
    {
     "data": {
      "text/plain": [
       "(958, 100)"
      ]
     },
     "execution_count": 33,
     "metadata": {},
     "output_type": "execute_result"
    }
   ],
   "source": [
    "# turn svd matrix into a database:\n",
    "comp_names=['component_'+str(i+1) for i in range(100)]\n",
    "svd_df=pd.DataFrame(svd_matrix, columns=comp_names)\n",
    "svd_df.shape"
   ]
  },
  {
   "cell_type": "code",
   "execution_count": 34,
   "metadata": {
    "scrolled": true
   },
   "outputs": [
    {
     "data": {
      "text/html": [
       "<div>\n",
       "<style scoped>\n",
       "    .dataframe tbody tr th:only-of-type {\n",
       "        vertical-align: middle;\n",
       "    }\n",
       "\n",
       "    .dataframe tbody tr th {\n",
       "        vertical-align: top;\n",
       "    }\n",
       "\n",
       "    .dataframe thead th {\n",
       "        text-align: right;\n",
       "    }\n",
       "</style>\n",
       "<table border=\"1\" class=\"dataframe\">\n",
       "  <thead>\n",
       "    <tr style=\"text-align: right;\">\n",
       "      <th></th>\n",
       "      <th>component_1</th>\n",
       "      <th>component_2</th>\n",
       "      <th>component_3</th>\n",
       "      <th>component_4</th>\n",
       "      <th>component_5</th>\n",
       "      <th>component_6</th>\n",
       "      <th>component_7</th>\n",
       "      <th>component_8</th>\n",
       "      <th>component_9</th>\n",
       "      <th>component_10</th>\n",
       "      <th>...</th>\n",
       "      <th>component_91</th>\n",
       "      <th>component_92</th>\n",
       "      <th>component_93</th>\n",
       "      <th>component_94</th>\n",
       "      <th>component_95</th>\n",
       "      <th>component_96</th>\n",
       "      <th>component_97</th>\n",
       "      <th>component_98</th>\n",
       "      <th>component_99</th>\n",
       "      <th>component_100</th>\n",
       "    </tr>\n",
       "  </thead>\n",
       "  <tbody>\n",
       "    <tr>\n",
       "      <th>0</th>\n",
       "      <td>0.028429</td>\n",
       "      <td>-0.031511</td>\n",
       "      <td>-0.020558</td>\n",
       "      <td>-0.005524</td>\n",
       "      <td>-0.003327</td>\n",
       "      <td>0.007197</td>\n",
       "      <td>-0.005791</td>\n",
       "      <td>0.015838</td>\n",
       "      <td>-0.011433</td>\n",
       "      <td>0.006704</td>\n",
       "      <td>...</td>\n",
       "      <td>-0.015783</td>\n",
       "      <td>-0.018926</td>\n",
       "      <td>-0.005016</td>\n",
       "      <td>-0.008434</td>\n",
       "      <td>0.009845</td>\n",
       "      <td>0.002049</td>\n",
       "      <td>-0.006915</td>\n",
       "      <td>0.023666</td>\n",
       "      <td>0.007419</td>\n",
       "      <td>0.010974</td>\n",
       "    </tr>\n",
       "    <tr>\n",
       "      <th>1</th>\n",
       "      <td>0.145730</td>\n",
       "      <td>-0.061304</td>\n",
       "      <td>-0.096387</td>\n",
       "      <td>-0.087204</td>\n",
       "      <td>-0.035887</td>\n",
       "      <td>-0.039392</td>\n",
       "      <td>0.011411</td>\n",
       "      <td>-0.018362</td>\n",
       "      <td>-0.002185</td>\n",
       "      <td>-0.025032</td>\n",
       "      <td>...</td>\n",
       "      <td>-0.058153</td>\n",
       "      <td>-0.047370</td>\n",
       "      <td>-0.068308</td>\n",
       "      <td>0.011764</td>\n",
       "      <td>-0.020070</td>\n",
       "      <td>-0.002666</td>\n",
       "      <td>0.050876</td>\n",
       "      <td>0.098896</td>\n",
       "      <td>0.020429</td>\n",
       "      <td>-0.108397</td>\n",
       "    </tr>\n",
       "    <tr>\n",
       "      <th>2</th>\n",
       "      <td>0.104839</td>\n",
       "      <td>-0.106565</td>\n",
       "      <td>-0.034478</td>\n",
       "      <td>0.011721</td>\n",
       "      <td>0.002804</td>\n",
       "      <td>0.030565</td>\n",
       "      <td>-0.017831</td>\n",
       "      <td>0.001127</td>\n",
       "      <td>-0.000850</td>\n",
       "      <td>0.001335</td>\n",
       "      <td>...</td>\n",
       "      <td>0.018532</td>\n",
       "      <td>0.046139</td>\n",
       "      <td>-0.042905</td>\n",
       "      <td>-0.004947</td>\n",
       "      <td>-0.027232</td>\n",
       "      <td>0.035714</td>\n",
       "      <td>-0.027936</td>\n",
       "      <td>-0.017700</td>\n",
       "      <td>-0.021135</td>\n",
       "      <td>0.036531</td>\n",
       "    </tr>\n",
       "    <tr>\n",
       "      <th>3</th>\n",
       "      <td>0.242333</td>\n",
       "      <td>0.060956</td>\n",
       "      <td>-0.070342</td>\n",
       "      <td>0.003449</td>\n",
       "      <td>-0.003113</td>\n",
       "      <td>-0.011373</td>\n",
       "      <td>0.014745</td>\n",
       "      <td>0.012114</td>\n",
       "      <td>-0.043479</td>\n",
       "      <td>-0.016919</td>\n",
       "      <td>...</td>\n",
       "      <td>0.067344</td>\n",
       "      <td>-0.022886</td>\n",
       "      <td>-0.113300</td>\n",
       "      <td>-0.085245</td>\n",
       "      <td>-0.024793</td>\n",
       "      <td>0.023810</td>\n",
       "      <td>-0.014143</td>\n",
       "      <td>0.016860</td>\n",
       "      <td>0.022708</td>\n",
       "      <td>0.089868</td>\n",
       "    </tr>\n",
       "    <tr>\n",
       "      <th>4</th>\n",
       "      <td>0.198671</td>\n",
       "      <td>-0.062792</td>\n",
       "      <td>-0.153314</td>\n",
       "      <td>-0.139669</td>\n",
       "      <td>-0.056545</td>\n",
       "      <td>-0.111540</td>\n",
       "      <td>0.037088</td>\n",
       "      <td>0.000808</td>\n",
       "      <td>-0.005873</td>\n",
       "      <td>-0.026059</td>\n",
       "      <td>...</td>\n",
       "      <td>-0.011834</td>\n",
       "      <td>0.018059</td>\n",
       "      <td>-0.061912</td>\n",
       "      <td>-0.004865</td>\n",
       "      <td>0.030342</td>\n",
       "      <td>-0.053840</td>\n",
       "      <td>-0.017257</td>\n",
       "      <td>0.005844</td>\n",
       "      <td>0.006185</td>\n",
       "      <td>0.012723</td>\n",
       "    </tr>\n",
       "  </tbody>\n",
       "</table>\n",
       "<p>5 rows × 100 columns</p>\n",
       "</div>"
      ],
      "text/plain": [
       "   component_1  component_2  component_3  component_4  component_5  \\\n",
       "0     0.028429    -0.031511    -0.020558    -0.005524    -0.003327   \n",
       "1     0.145730    -0.061304    -0.096387    -0.087204    -0.035887   \n",
       "2     0.104839    -0.106565    -0.034478     0.011721     0.002804   \n",
       "3     0.242333     0.060956    -0.070342     0.003449    -0.003113   \n",
       "4     0.198671    -0.062792    -0.153314    -0.139669    -0.056545   \n",
       "\n",
       "   component_6  component_7  component_8  component_9  component_10  ...  \\\n",
       "0     0.007197    -0.005791     0.015838    -0.011433      0.006704  ...   \n",
       "1    -0.039392     0.011411    -0.018362    -0.002185     -0.025032  ...   \n",
       "2     0.030565    -0.017831     0.001127    -0.000850      0.001335  ...   \n",
       "3    -0.011373     0.014745     0.012114    -0.043479     -0.016919  ...   \n",
       "4    -0.111540     0.037088     0.000808    -0.005873     -0.026059  ...   \n",
       "\n",
       "   component_91  component_92  component_93  component_94  component_95  \\\n",
       "0     -0.015783     -0.018926     -0.005016     -0.008434      0.009845   \n",
       "1     -0.058153     -0.047370     -0.068308      0.011764     -0.020070   \n",
       "2      0.018532      0.046139     -0.042905     -0.004947     -0.027232   \n",
       "3      0.067344     -0.022886     -0.113300     -0.085245     -0.024793   \n",
       "4     -0.011834      0.018059     -0.061912     -0.004865      0.030342   \n",
       "\n",
       "   component_96  component_97  component_98  component_99  component_100  \n",
       "0      0.002049     -0.006915      0.023666      0.007419       0.010974  \n",
       "1     -0.002666      0.050876      0.098896      0.020429      -0.108397  \n",
       "2      0.035714     -0.027936     -0.017700     -0.021135       0.036531  \n",
       "3      0.023810     -0.014143      0.016860      0.022708       0.089868  \n",
       "4     -0.053840     -0.017257      0.005844      0.006185       0.012723  \n",
       "\n",
       "[5 rows x 100 columns]"
      ]
     },
     "execution_count": 34,
     "metadata": {},
     "output_type": "execute_result"
    }
   ],
   "source": [
    "svd_df.head()"
   ]
  },
  {
   "cell_type": "code",
   "execution_count": 35,
   "metadata": {},
   "outputs": [
    {
     "data": {
      "text/plain": [
       "(127, 100)"
      ]
     },
     "execution_count": 35,
     "metadata": {},
     "output_type": "execute_result"
    }
   ],
   "source": [
    "comp_names=['component_'+str(i+1) for i in range(100)]\n",
    "svd_df3=pd.DataFrame(svd_test, columns=comp_names)\n",
    "svd_df3.shape"
   ]
  },
  {
   "cell_type": "markdown",
   "metadata": {},
   "source": [
    "## Explore the Single Value Decomposition Data"
   ]
  },
  {
   "cell_type": "code",
   "execution_count": 36,
   "metadata": {
    "scrolled": true
   },
   "outputs": [
    {
     "data": {
      "text/plain": [
       "array([[ 4.97109099e-03,  3.89236146e-03,  1.68922378e-02, ...,\n",
       "         4.25590039e-03,  5.12416023e-03,  3.76188636e-03],\n",
       "       [-6.79233464e-04, -4.59603698e-03,  1.36517434e-02, ...,\n",
       "        -4.81554103e-04, -1.00112806e-02, -7.32853698e-03],\n",
       "       [-3.04044079e-03, -5.40779064e-04,  1.02161886e-03, ...,\n",
       "        -3.36395745e-03,  2.30935701e-02,  1.69529044e-02],\n",
       "       ...,\n",
       "       [ 3.63630793e-03,  3.10161244e-03,  1.44641093e-02, ...,\n",
       "         2.39544341e-04,  4.00846185e-03, -9.50014936e-04],\n",
       "       [-3.72663639e-04,  1.98139373e-04, -1.24543500e-02, ...,\n",
       "         6.09953113e-03, -1.11810462e-02, -4.80941582e-03],\n",
       "       [ 3.45068430e-03,  1.14404425e-02,  1.70798719e-02, ...,\n",
       "         7.72747244e-03,  5.73661702e-03, -3.39784837e-05]])"
      ]
     },
     "execution_count": 36,
     "metadata": {},
     "output_type": "execute_result"
    }
   ],
   "source": [
    "svd.components_"
   ]
  },
  {
   "cell_type": "code",
   "execution_count": 37,
   "metadata": {},
   "outputs": [],
   "source": [
    "loadings=pd.DataFrame(svd.components_, index=comp_names, columns=cont_df.columns).T"
   ]
  },
  {
   "cell_type": "code",
   "execution_count": 38,
   "metadata": {},
   "outputs": [
    {
     "data": {
      "text/html": [
       "<div>\n",
       "<style scoped>\n",
       "    .dataframe tbody tr th:only-of-type {\n",
       "        vertical-align: middle;\n",
       "    }\n",
       "\n",
       "    .dataframe tbody tr th {\n",
       "        vertical-align: top;\n",
       "    }\n",
       "\n",
       "    .dataframe thead th {\n",
       "        text-align: right;\n",
       "    }\n",
       "</style>\n",
       "<table border=\"1\" class=\"dataframe\">\n",
       "  <thead>\n",
       "    <tr style=\"text-align: right;\">\n",
       "      <th></th>\n",
       "      <th>component_1</th>\n",
       "      <th>component_2</th>\n",
       "      <th>component_3</th>\n",
       "      <th>component_4</th>\n",
       "      <th>component_5</th>\n",
       "      <th>component_6</th>\n",
       "      <th>component_7</th>\n",
       "      <th>component_8</th>\n",
       "      <th>component_9</th>\n",
       "      <th>component_10</th>\n",
       "      <th>...</th>\n",
       "      <th>component_91</th>\n",
       "      <th>component_92</th>\n",
       "      <th>component_93</th>\n",
       "      <th>component_94</th>\n",
       "      <th>component_95</th>\n",
       "      <th>component_96</th>\n",
       "      <th>component_97</th>\n",
       "      <th>component_98</th>\n",
       "      <th>component_99</th>\n",
       "      <th>component_100</th>\n",
       "    </tr>\n",
       "  </thead>\n",
       "  <tbody>\n",
       "    <tr>\n",
       "      <th>___</th>\n",
       "      <td>0.004971</td>\n",
       "      <td>-0.000679</td>\n",
       "      <td>-0.003040</td>\n",
       "      <td>-0.003561</td>\n",
       "      <td>-0.001734</td>\n",
       "      <td>-0.001884</td>\n",
       "      <td>0.001508</td>\n",
       "      <td>-0.001761</td>\n",
       "      <td>0.003392</td>\n",
       "      <td>0.001387</td>\n",
       "      <td>...</td>\n",
       "      <td>0.003043</td>\n",
       "      <td>-0.005315</td>\n",
       "      <td>-0.007016</td>\n",
       "      <td>-0.007882</td>\n",
       "      <td>0.001540</td>\n",
       "      <td>0.007452</td>\n",
       "      <td>-0.004630</td>\n",
       "      <td>0.003636</td>\n",
       "      <td>-0.000373</td>\n",
       "      <td>0.003451</td>\n",
       "    </tr>\n",
       "    <tr>\n",
       "      <th>abandoned</th>\n",
       "      <td>0.003892</td>\n",
       "      <td>-0.004596</td>\n",
       "      <td>-0.000541</td>\n",
       "      <td>-0.000897</td>\n",
       "      <td>-0.001050</td>\n",
       "      <td>0.001392</td>\n",
       "      <td>-0.000796</td>\n",
       "      <td>0.000439</td>\n",
       "      <td>0.001585</td>\n",
       "      <td>0.001898</td>\n",
       "      <td>...</td>\n",
       "      <td>-0.012183</td>\n",
       "      <td>-0.000290</td>\n",
       "      <td>-0.001438</td>\n",
       "      <td>0.000627</td>\n",
       "      <td>0.000466</td>\n",
       "      <td>-0.008921</td>\n",
       "      <td>0.001218</td>\n",
       "      <td>0.003102</td>\n",
       "      <td>0.000198</td>\n",
       "      <td>0.011440</td>\n",
       "    </tr>\n",
       "    <tr>\n",
       "      <th>abc</th>\n",
       "      <td>0.016892</td>\n",
       "      <td>0.013652</td>\n",
       "      <td>0.001022</td>\n",
       "      <td>0.019154</td>\n",
       "      <td>0.009141</td>\n",
       "      <td>0.013222</td>\n",
       "      <td>-0.006626</td>\n",
       "      <td>0.003874</td>\n",
       "      <td>-0.004291</td>\n",
       "      <td>0.009344</td>\n",
       "      <td>...</td>\n",
       "      <td>0.011688</td>\n",
       "      <td>-0.010914</td>\n",
       "      <td>-0.011784</td>\n",
       "      <td>-0.039827</td>\n",
       "      <td>0.041632</td>\n",
       "      <td>0.012457</td>\n",
       "      <td>-0.019480</td>\n",
       "      <td>0.014464</td>\n",
       "      <td>-0.012454</td>\n",
       "      <td>0.017080</td>\n",
       "    </tr>\n",
       "    <tr>\n",
       "      <th>abc news</th>\n",
       "      <td>0.015520</td>\n",
       "      <td>0.017072</td>\n",
       "      <td>0.001638</td>\n",
       "      <td>0.019479</td>\n",
       "      <td>0.009808</td>\n",
       "      <td>0.013226</td>\n",
       "      <td>-0.003962</td>\n",
       "      <td>0.005006</td>\n",
       "      <td>-0.002280</td>\n",
       "      <td>0.006415</td>\n",
       "      <td>...</td>\n",
       "      <td>0.012512</td>\n",
       "      <td>-0.003447</td>\n",
       "      <td>-0.007691</td>\n",
       "      <td>-0.009479</td>\n",
       "      <td>0.031473</td>\n",
       "      <td>0.016141</td>\n",
       "      <td>-0.017207</td>\n",
       "      <td>0.015534</td>\n",
       "      <td>-0.010580</td>\n",
       "      <td>0.000538</td>\n",
       "    </tr>\n",
       "    <tr>\n",
       "      <th>ability</th>\n",
       "      <td>0.005332</td>\n",
       "      <td>-0.005416</td>\n",
       "      <td>-0.003754</td>\n",
       "      <td>0.003603</td>\n",
       "      <td>-0.000298</td>\n",
       "      <td>0.003905</td>\n",
       "      <td>-0.000735</td>\n",
       "      <td>0.001720</td>\n",
       "      <td>0.000723</td>\n",
       "      <td>0.001344</td>\n",
       "      <td>...</td>\n",
       "      <td>0.009428</td>\n",
       "      <td>-0.003882</td>\n",
       "      <td>0.002744</td>\n",
       "      <td>-0.000420</td>\n",
       "      <td>-0.000791</td>\n",
       "      <td>-0.003615</td>\n",
       "      <td>0.006703</td>\n",
       "      <td>0.005984</td>\n",
       "      <td>0.002997</td>\n",
       "      <td>-0.003064</td>\n",
       "    </tr>\n",
       "    <tr>\n",
       "      <th>able</th>\n",
       "      <td>0.019723</td>\n",
       "      <td>-0.019806</td>\n",
       "      <td>-0.004233</td>\n",
       "      <td>-0.009947</td>\n",
       "      <td>-0.007184</td>\n",
       "      <td>-0.000034</td>\n",
       "      <td>-0.004373</td>\n",
       "      <td>0.002613</td>\n",
       "      <td>-0.007609</td>\n",
       "      <td>0.012142</td>\n",
       "      <td>...</td>\n",
       "      <td>0.005198</td>\n",
       "      <td>-0.008714</td>\n",
       "      <td>-0.007864</td>\n",
       "      <td>-0.017879</td>\n",
       "      <td>0.001457</td>\n",
       "      <td>-0.017167</td>\n",
       "      <td>0.005621</td>\n",
       "      <td>0.013862</td>\n",
       "      <td>0.014550</td>\n",
       "      <td>0.028503</td>\n",
       "    </tr>\n",
       "    <tr>\n",
       "      <th>abortion</th>\n",
       "      <td>0.003526</td>\n",
       "      <td>-0.006844</td>\n",
       "      <td>-0.003560</td>\n",
       "      <td>0.002347</td>\n",
       "      <td>-0.000862</td>\n",
       "      <td>0.002883</td>\n",
       "      <td>-0.001684</td>\n",
       "      <td>0.001502</td>\n",
       "      <td>0.000379</td>\n",
       "      <td>0.001258</td>\n",
       "      <td>...</td>\n",
       "      <td>-0.020772</td>\n",
       "      <td>-0.018625</td>\n",
       "      <td>0.020858</td>\n",
       "      <td>0.040541</td>\n",
       "      <td>-0.028268</td>\n",
       "      <td>-0.021324</td>\n",
       "      <td>-0.008424</td>\n",
       "      <td>-0.054052</td>\n",
       "      <td>0.015829</td>\n",
       "      <td>-0.024460</td>\n",
       "    </tr>\n",
       "    <tr>\n",
       "      <th>abroad</th>\n",
       "      <td>0.003858</td>\n",
       "      <td>-0.004014</td>\n",
       "      <td>-0.005918</td>\n",
       "      <td>-0.005860</td>\n",
       "      <td>-0.003106</td>\n",
       "      <td>-0.003362</td>\n",
       "      <td>0.000443</td>\n",
       "      <td>-0.002529</td>\n",
       "      <td>-0.001422</td>\n",
       "      <td>-0.001270</td>\n",
       "      <td>...</td>\n",
       "      <td>-0.002059</td>\n",
       "      <td>0.002943</td>\n",
       "      <td>-0.006951</td>\n",
       "      <td>0.002301</td>\n",
       "      <td>0.009027</td>\n",
       "      <td>-0.004801</td>\n",
       "      <td>0.008037</td>\n",
       "      <td>-0.001215</td>\n",
       "      <td>-0.013204</td>\n",
       "      <td>0.015116</td>\n",
       "    </tr>\n",
       "    <tr>\n",
       "      <th>absence</th>\n",
       "      <td>0.005280</td>\n",
       "      <td>-0.005382</td>\n",
       "      <td>0.006131</td>\n",
       "      <td>0.005350</td>\n",
       "      <td>-0.000294</td>\n",
       "      <td>-0.003714</td>\n",
       "      <td>-0.029280</td>\n",
       "      <td>-0.031255</td>\n",
       "      <td>-0.007078</td>\n",
       "      <td>-0.019081</td>\n",
       "      <td>...</td>\n",
       "      <td>-0.000518</td>\n",
       "      <td>0.009978</td>\n",
       "      <td>-0.002623</td>\n",
       "      <td>0.005555</td>\n",
       "      <td>-0.008232</td>\n",
       "      <td>-0.006064</td>\n",
       "      <td>-0.004176</td>\n",
       "      <td>0.011293</td>\n",
       "      <td>-0.002810</td>\n",
       "      <td>0.009481</td>\n",
       "    </tr>\n",
       "    <tr>\n",
       "      <th>absolutely</th>\n",
       "      <td>0.003185</td>\n",
       "      <td>-0.004141</td>\n",
       "      <td>-0.003301</td>\n",
       "      <td>0.002678</td>\n",
       "      <td>0.000222</td>\n",
       "      <td>0.001668</td>\n",
       "      <td>-0.000410</td>\n",
       "      <td>0.001028</td>\n",
       "      <td>-0.000066</td>\n",
       "      <td>0.000074</td>\n",
       "      <td>...</td>\n",
       "      <td>-0.001189</td>\n",
       "      <td>-0.005181</td>\n",
       "      <td>-0.001499</td>\n",
       "      <td>0.000140</td>\n",
       "      <td>0.003401</td>\n",
       "      <td>-0.007967</td>\n",
       "      <td>0.002277</td>\n",
       "      <td>0.006761</td>\n",
       "      <td>0.004668</td>\n",
       "      <td>-0.000853</td>\n",
       "    </tr>\n",
       "  </tbody>\n",
       "</table>\n",
       "<p>10 rows × 100 columns</p>\n",
       "</div>"
      ],
      "text/plain": [
       "            component_1  component_2  component_3  component_4  component_5  \\\n",
       "___            0.004971    -0.000679    -0.003040    -0.003561    -0.001734   \n",
       "abandoned      0.003892    -0.004596    -0.000541    -0.000897    -0.001050   \n",
       "abc            0.016892     0.013652     0.001022     0.019154     0.009141   \n",
       "abc news       0.015520     0.017072     0.001638     0.019479     0.009808   \n",
       "ability        0.005332    -0.005416    -0.003754     0.003603    -0.000298   \n",
       "able           0.019723    -0.019806    -0.004233    -0.009947    -0.007184   \n",
       "abortion       0.003526    -0.006844    -0.003560     0.002347    -0.000862   \n",
       "abroad         0.003858    -0.004014    -0.005918    -0.005860    -0.003106   \n",
       "absence        0.005280    -0.005382     0.006131     0.005350    -0.000294   \n",
       "absolutely     0.003185    -0.004141    -0.003301     0.002678     0.000222   \n",
       "\n",
       "            component_6  component_7  component_8  component_9  component_10  \\\n",
       "___           -0.001884     0.001508    -0.001761     0.003392      0.001387   \n",
       "abandoned      0.001392    -0.000796     0.000439     0.001585      0.001898   \n",
       "abc            0.013222    -0.006626     0.003874    -0.004291      0.009344   \n",
       "abc news       0.013226    -0.003962     0.005006    -0.002280      0.006415   \n",
       "ability        0.003905    -0.000735     0.001720     0.000723      0.001344   \n",
       "able          -0.000034    -0.004373     0.002613    -0.007609      0.012142   \n",
       "abortion       0.002883    -0.001684     0.001502     0.000379      0.001258   \n",
       "abroad        -0.003362     0.000443    -0.002529    -0.001422     -0.001270   \n",
       "absence       -0.003714    -0.029280    -0.031255    -0.007078     -0.019081   \n",
       "absolutely     0.001668    -0.000410     0.001028    -0.000066      0.000074   \n",
       "\n",
       "            ...  component_91  component_92  component_93  component_94  \\\n",
       "___         ...      0.003043     -0.005315     -0.007016     -0.007882   \n",
       "abandoned   ...     -0.012183     -0.000290     -0.001438      0.000627   \n",
       "abc         ...      0.011688     -0.010914     -0.011784     -0.039827   \n",
       "abc news    ...      0.012512     -0.003447     -0.007691     -0.009479   \n",
       "ability     ...      0.009428     -0.003882      0.002744     -0.000420   \n",
       "able        ...      0.005198     -0.008714     -0.007864     -0.017879   \n",
       "abortion    ...     -0.020772     -0.018625      0.020858      0.040541   \n",
       "abroad      ...     -0.002059      0.002943     -0.006951      0.002301   \n",
       "absence     ...     -0.000518      0.009978     -0.002623      0.005555   \n",
       "absolutely  ...     -0.001189     -0.005181     -0.001499      0.000140   \n",
       "\n",
       "            component_95  component_96  component_97  component_98  \\\n",
       "___             0.001540      0.007452     -0.004630      0.003636   \n",
       "abandoned       0.000466     -0.008921      0.001218      0.003102   \n",
       "abc             0.041632      0.012457     -0.019480      0.014464   \n",
       "abc news        0.031473      0.016141     -0.017207      0.015534   \n",
       "ability        -0.000791     -0.003615      0.006703      0.005984   \n",
       "able            0.001457     -0.017167      0.005621      0.013862   \n",
       "abortion       -0.028268     -0.021324     -0.008424     -0.054052   \n",
       "abroad          0.009027     -0.004801      0.008037     -0.001215   \n",
       "absence        -0.008232     -0.006064     -0.004176      0.011293   \n",
       "absolutely      0.003401     -0.007967      0.002277      0.006761   \n",
       "\n",
       "            component_99  component_100  \n",
       "___            -0.000373       0.003451  \n",
       "abandoned       0.000198       0.011440  \n",
       "abc            -0.012454       0.017080  \n",
       "abc news       -0.010580       0.000538  \n",
       "ability         0.002997      -0.003064  \n",
       "able            0.014550       0.028503  \n",
       "abortion        0.015829      -0.024460  \n",
       "abroad         -0.013204       0.015116  \n",
       "absence        -0.002810       0.009481  \n",
       "absolutely      0.004668      -0.000853  \n",
       "\n",
       "[10 rows x 100 columns]"
      ]
     },
     "execution_count": 38,
     "metadata": {},
     "output_type": "execute_result"
    }
   ],
   "source": [
    "loadings.head(10)"
   ]
  },
  {
   "cell_type": "code",
   "execution_count": 39,
   "metadata": {
    "scrolled": true
   },
   "outputs": [],
   "source": [
    "loadings['component_2_abs']=np.abs(loadings['component_2'])"
   ]
  },
  {
   "cell_type": "code",
   "execution_count": 40,
   "metadata": {},
   "outputs": [
    {
     "data": {
      "text/plain": [
       "rain          0.178262\n",
       "snow          0.162953\n",
       "storm         0.161420\n",
       "flooding      0.127096\n",
       "weather       0.126887\n",
       "inches        0.118378\n",
       "people        0.110871\n",
       "river         0.101504\n",
       "heavy         0.100614\n",
       "new           0.097735\n",
       "trump         0.097261\n",
       "water         0.095494\n",
       "california    0.094935\n",
       "flood         0.087606\n",
       "nebraska      0.083761\n",
       "thursday      0.083737\n",
       "morning       0.082803\n",
       "areas         0.081431\n",
       "year          0.081242\n",
       "friday        0.079965\n",
       "Name: component_1, dtype: float64"
      ]
     },
     "execution_count": 40,
     "metadata": {},
     "output_type": "execute_result"
    }
   ],
   "source": [
    "loadings.sort_values('component_1', ascending=False)['component_1'].head(20)"
   ]
  },
  {
   "cell_type": "code",
   "execution_count": 41,
   "metadata": {
    "scrolled": false
   },
   "outputs": [
    {
     "data": {
      "text/plain": [
       "rain               0.194755\n",
       "snow               0.192129\n",
       "storm              0.173950\n",
       "inches             0.164165\n",
       "weather            0.147364\n",
       "heavy              0.111566\n",
       "morning            0.082660\n",
       "heavy rain         0.080660\n",
       "flooding           0.079456\n",
       "thursday           0.073125\n",
       "northeast          0.072474\n",
       "parts              0.071449\n",
       "coast              0.069485\n",
       "winds              0.067722\n",
       "areas              0.065777\n",
       "expected           0.062750\n",
       "weather service    0.062105\n",
       "river              0.061456\n",
       "inches rain        0.055354\n",
       "friday             0.054028\n",
       "Name: component_2, dtype: float64"
      ]
     },
     "execution_count": 41,
     "metadata": {},
     "output_type": "execute_result"
    }
   ],
   "source": [
    "loadings.sort_values('component_2', ascending=False)['component_2'].head(20)"
   ]
  },
  {
   "cell_type": "markdown",
   "metadata": {},
   "source": [
    "### Plot of Principal component shows lack of correlation between component as expected"
   ]
  },
  {
   "cell_type": "code",
   "execution_count": 42,
   "metadata": {
    "scrolled": false
   },
   "outputs": [
    {
     "data": {
      "image/png": "[encoded data removed]",
      "text/plain": [
       "<Figure size 864x432 with 1 Axes>"
      ]
     },
     "metadata": {
      "needs_background": "light"
     },
     "output_type": "display_data"
    }
   ],
   "source": [
    "ax = loadings.plot(kind=\"scatter\", x=\"component_1\", y=\"component_3\", figsize=(12,6), s=50)\n",
    "plt.xlabel(\"$z_1$\", fontsize=18)\n",
    "plt.ylabel(\"$z_2$\", fontsize=18)\n",
    "ax.tick_params(axis='both', which='major', labelsize=18)"
   ]
  },
  {
   "cell_type": "code",
   "execution_count": 43,
   "metadata": {
    "scrolled": true
   },
   "outputs": [],
   "source": [
    "#cont_df3.head()"
   ]
  },
  {
   "cell_type": "code",
   "execution_count": 44,
   "metadata": {},
   "outputs": [
    {
     "data": {
      "text/html": [
       "<div>\n",
       "<style scoped>\n",
       "    .dataframe tbody tr th:only-of-type {\n",
       "        vertical-align: middle;\n",
       "    }\n",
       "\n",
       "    .dataframe tbody tr th {\n",
       "        vertical-align: top;\n",
       "    }\n",
       "\n",
       "    .dataframe thead th {\n",
       "        text-align: right;\n",
       "    }\n",
       "</style>\n",
       "<table border=\"1\" class=\"dataframe\">\n",
       "  <thead>\n",
       "    <tr style=\"text-align: right;\">\n",
       "      <th></th>\n",
       "      <th>component_1</th>\n",
       "      <th>component_2</th>\n",
       "      <th>component_3</th>\n",
       "      <th>component_4</th>\n",
       "      <th>component_5</th>\n",
       "      <th>component_6</th>\n",
       "      <th>component_7</th>\n",
       "      <th>component_8</th>\n",
       "      <th>component_9</th>\n",
       "      <th>component_10</th>\n",
       "      <th>...</th>\n",
       "      <th>component_91</th>\n",
       "      <th>component_92</th>\n",
       "      <th>component_93</th>\n",
       "      <th>component_94</th>\n",
       "      <th>component_95</th>\n",
       "      <th>component_96</th>\n",
       "      <th>component_97</th>\n",
       "      <th>component_98</th>\n",
       "      <th>component_99</th>\n",
       "      <th>component_100</th>\n",
       "    </tr>\n",
       "  </thead>\n",
       "  <tbody>\n",
       "    <tr>\n",
       "      <th>0</th>\n",
       "      <td>0.239293</td>\n",
       "      <td>0.090569</td>\n",
       "      <td>-0.040467</td>\n",
       "      <td>-0.038120</td>\n",
       "      <td>-0.019326</td>\n",
       "      <td>-0.021398</td>\n",
       "      <td>0.018319</td>\n",
       "      <td>-0.014187</td>\n",
       "      <td>-0.015235</td>\n",
       "      <td>0.001726</td>\n",
       "      <td>...</td>\n",
       "      <td>-0.004184</td>\n",
       "      <td>0.031788</td>\n",
       "      <td>-0.011673</td>\n",
       "      <td>0.022609</td>\n",
       "      <td>-0.024179</td>\n",
       "      <td>-0.009037</td>\n",
       "      <td>0.013185</td>\n",
       "      <td>-0.000381</td>\n",
       "      <td>-0.001727</td>\n",
       "      <td>0.044531</td>\n",
       "    </tr>\n",
       "    <tr>\n",
       "      <th>1</th>\n",
       "      <td>0.126211</td>\n",
       "      <td>-0.000837</td>\n",
       "      <td>-0.050894</td>\n",
       "      <td>-0.063046</td>\n",
       "      <td>-0.018469</td>\n",
       "      <td>-0.030258</td>\n",
       "      <td>0.017673</td>\n",
       "      <td>-0.007006</td>\n",
       "      <td>0.003743</td>\n",
       "      <td>-0.006019</td>\n",
       "      <td>...</td>\n",
       "      <td>0.004570</td>\n",
       "      <td>-0.038182</td>\n",
       "      <td>0.009187</td>\n",
       "      <td>0.000263</td>\n",
       "      <td>0.015878</td>\n",
       "      <td>-0.011217</td>\n",
       "      <td>0.032179</td>\n",
       "      <td>0.009951</td>\n",
       "      <td>-0.019282</td>\n",
       "      <td>-0.007620</td>\n",
       "    </tr>\n",
       "    <tr>\n",
       "      <th>2</th>\n",
       "      <td>0.223225</td>\n",
       "      <td>-0.082331</td>\n",
       "      <td>-0.097539</td>\n",
       "      <td>-0.119526</td>\n",
       "      <td>-0.066894</td>\n",
       "      <td>-0.066701</td>\n",
       "      <td>0.033703</td>\n",
       "      <td>-0.010850</td>\n",
       "      <td>0.004964</td>\n",
       "      <td>-0.032958</td>\n",
       "      <td>...</td>\n",
       "      <td>-0.010904</td>\n",
       "      <td>-0.027449</td>\n",
       "      <td>0.023091</td>\n",
       "      <td>-0.018197</td>\n",
       "      <td>-0.038260</td>\n",
       "      <td>-0.029152</td>\n",
       "      <td>0.017736</td>\n",
       "      <td>-0.003019</td>\n",
       "      <td>-0.039695</td>\n",
       "      <td>0.015348</td>\n",
       "    </tr>\n",
       "    <tr>\n",
       "      <th>3</th>\n",
       "      <td>0.235153</td>\n",
       "      <td>-0.010210</td>\n",
       "      <td>-0.092211</td>\n",
       "      <td>-0.093262</td>\n",
       "      <td>-0.025146</td>\n",
       "      <td>-0.043776</td>\n",
       "      <td>0.001470</td>\n",
       "      <td>-0.006067</td>\n",
       "      <td>-0.016245</td>\n",
       "      <td>-0.024396</td>\n",
       "      <td>...</td>\n",
       "      <td>0.012525</td>\n",
       "      <td>0.018823</td>\n",
       "      <td>-0.002485</td>\n",
       "      <td>0.000835</td>\n",
       "      <td>-0.027099</td>\n",
       "      <td>-0.004025</td>\n",
       "      <td>0.000396</td>\n",
       "      <td>-0.015071</td>\n",
       "      <td>0.016626</td>\n",
       "      <td>0.031077</td>\n",
       "    </tr>\n",
       "    <tr>\n",
       "      <th>4</th>\n",
       "      <td>0.264596</td>\n",
       "      <td>-0.053239</td>\n",
       "      <td>-0.127797</td>\n",
       "      <td>-0.119430</td>\n",
       "      <td>-0.063109</td>\n",
       "      <td>-0.067272</td>\n",
       "      <td>-0.005702</td>\n",
       "      <td>-0.039083</td>\n",
       "      <td>0.007259</td>\n",
       "      <td>0.003880</td>\n",
       "      <td>...</td>\n",
       "      <td>0.029847</td>\n",
       "      <td>-0.017893</td>\n",
       "      <td>0.006374</td>\n",
       "      <td>0.027191</td>\n",
       "      <td>-0.007115</td>\n",
       "      <td>0.016203</td>\n",
       "      <td>-0.042977</td>\n",
       "      <td>-0.005661</td>\n",
       "      <td>0.002965</td>\n",
       "      <td>0.062976</td>\n",
       "    </tr>\n",
       "  </tbody>\n",
       "</table>\n",
       "<p>5 rows × 100 columns</p>\n",
       "</div>"
      ],
      "text/plain": [
       "   component_1  component_2  component_3  component_4  component_5  \\\n",
       "0     0.239293     0.090569    -0.040467    -0.038120    -0.019326   \n",
       "1     0.126211    -0.000837    -0.050894    -0.063046    -0.018469   \n",
       "2     0.223225    -0.082331    -0.097539    -0.119526    -0.066894   \n",
       "3     0.235153    -0.010210    -0.092211    -0.093262    -0.025146   \n",
       "4     0.264596    -0.053239    -0.127797    -0.119430    -0.063109   \n",
       "\n",
       "   component_6  component_7  component_8  component_9  component_10  ...  \\\n",
       "0    -0.021398     0.018319    -0.014187    -0.015235      0.001726  ...   \n",
       "1    -0.030258     0.017673    -0.007006     0.003743     -0.006019  ...   \n",
       "2    -0.066701     0.033703    -0.010850     0.004964     -0.032958  ...   \n",
       "3    -0.043776     0.001470    -0.006067    -0.016245     -0.024396  ...   \n",
       "4    -0.067272    -0.005702    -0.039083     0.007259      0.003880  ...   \n",
       "\n",
       "   component_91  component_92  component_93  component_94  component_95  \\\n",
       "0     -0.004184      0.031788     -0.011673      0.022609     -0.024179   \n",
       "1      0.004570     -0.038182      0.009187      0.000263      0.015878   \n",
       "2     -0.010904     -0.027449      0.023091     -0.018197     -0.038260   \n",
       "3      0.012525      0.018823     -0.002485      0.000835     -0.027099   \n",
       "4      0.029847     -0.017893      0.006374      0.027191     -0.007115   \n",
       "\n",
       "   component_96  component_97  component_98  component_99  component_100  \n",
       "0     -0.009037      0.013185     -0.000381     -0.001727       0.044531  \n",
       "1     -0.011217      0.032179      0.009951     -0.019282      -0.007620  \n",
       "2     -0.029152      0.017736     -0.003019     -0.039695       0.015348  \n",
       "3     -0.004025      0.000396     -0.015071      0.016626       0.031077  \n",
       "4      0.016203     -0.042977     -0.005661      0.002965       0.062976  \n",
       "\n",
       "[5 rows x 100 columns]"
      ]
     },
     "execution_count": 44,
     "metadata": {},
     "output_type": "execute_result"
    }
   ],
   "source": [
    "svd_df3.head()"
   ]
  },
  {
   "cell_type": "markdown",
   "metadata": {},
   "source": [
    "## Try Fitting Knn "
   ]
  },
  {
   "cell_type": "code",
   "execution_count": 45,
   "metadata": {},
   "outputs": [],
   "source": [
    "# knn0=KNeighborsClassifier()\n",
    "# knn0_params={\n",
    "#     'n_neighbors':[3, 5, 7, 9, 11],\n",
    "#     'metric':['minkowski','euclidean','manhattan'],\n",
    "#     #'max_features':['auto', 4, 5],  # default is sqrt(9)= 3 features per tree\n",
    "#     #'min_samples_split':[3, 5, 7]\n",
    "    \n",
    "# }\n",
    "# gs=GridSearchCV(knn0, param_grid=knn0_params, cv=5)\n",
    "# # Trying our all param combinations, \n",
    "# # for each combo, we'r doing a 5 fold cv\n",
    "# # use the best params and fit to the entire training data\n",
    "# gs.fit(X_train, y_train)\n",
    "# print (gs.best_score_) #Cross val score, from best_params_\n",
    "# gs.best_params_"
   ]
  },
  {
   "cell_type": "code",
   "execution_count": 46,
   "metadata": {},
   "outputs": [],
   "source": [
    "X=df['content']\n",
    "y=df['positive']"
   ]
  },
  {
   "cell_type": "code",
   "execution_count": 47,
   "metadata": {},
   "outputs": [],
   "source": [
    "X_train, X_test, y_train, y_test = train_test_split(svd_df, y, stratify=y)"
   ]
  },
  {
   "cell_type": "code",
   "execution_count": null,
   "metadata": {},
   "outputs": [],
   "source": []
  },
  {
   "cell_type": "code",
   "execution_count": 48,
   "metadata": {},
   "outputs": [
    {
     "name": "stdout",
     "output_type": "stream",
     "text": [
      "0.862116991643454\n",
      "0.8333333333333334\n"
     ]
    }
   ],
   "source": [
    "knn = KNeighborsClassifier(n_neighbors=7)\n",
    "knn.fit(X_train, y_train)\n",
    "print (knn.score(X_train, y_train))\n",
    "print (knn.score(X_test, y_test))"
   ]
  },
  {
   "cell_type": "code",
   "execution_count": 49,
   "metadata": {},
   "outputs": [
    {
     "data": {
      "text/plain": [
       "KNeighborsClassifier(algorithm='auto', leaf_size=30, metric='minkowski',\n",
       "           metric_params=None, n_jobs=1, n_neighbors=7, p=2,\n",
       "           weights='uniform')"
      ]
     },
     "execution_count": 49,
     "metadata": {},
     "output_type": "execute_result"
    }
   ],
   "source": [
    "knn.fit(X_train, y_train)"
   ]
  },
  {
   "cell_type": "code",
   "execution_count": 50,
   "metadata": {},
   "outputs": [
    {
     "data": {
      "text/plain": [
       "0.862116991643454"
      ]
     },
     "execution_count": 50,
     "metadata": {},
     "output_type": "execute_result"
    }
   ],
   "source": [
    "knn.score(X_train, y_train)  # Achieved Accuracy"
   ]
  },
  {
   "cell_type": "code",
   "execution_count": 51,
   "metadata": {},
   "outputs": [
    {
     "data": {
      "text/plain": [
       "0.8333333333333334"
      ]
     },
     "execution_count": 51,
     "metadata": {},
     "output_type": "execute_result"
    }
   ],
   "source": [
    "knn.score(X_test, y_test)"
   ]
  },
  {
   "cell_type": "code",
   "execution_count": 52,
   "metadata": {},
   "outputs": [],
   "source": [
    "preds=knn.predict(svd_df)\n",
    "preds3=knn.predict(svd_df3)\n",
    "df['preds']=preds\n",
    "df3['preds3']=preds3"
   ]
  },
  {
   "cell_type": "code",
   "execution_count": 53,
   "metadata": {},
   "outputs": [],
   "source": [
    "y3=df3['flood_disaster_relevance']"
   ]
  },
  {
   "cell_type": "code",
   "execution_count": 54,
   "metadata": {
    "scrolled": false
   },
   "outputs": [
    {
     "name": "stdout",
     "output_type": "stream",
     "text": [
      " Total Score : 0.7952871870397643\n",
      " Total Score : 0.6428571428571429\n"
     ]
    }
   ],
   "source": [
    "\n",
    "print (f' Total Score : { f1_score(preds, y)}') # \n",
    "print (f' Total Score : { f1_score(preds3, y3 )}') # True data"
   ]
  },
  {
   "cell_type": "code",
   "execution_count": 55,
   "metadata": {
    "scrolled": true
   },
   "outputs": [
    {
     "data": {
      "text/html": [
       "<div>\n",
       "<style scoped>\n",
       "    .dataframe tbody tr th:only-of-type {\n",
       "        vertical-align: middle;\n",
       "    }\n",
       "\n",
       "    .dataframe tbody tr th {\n",
       "        vertical-align: top;\n",
       "    }\n",
       "\n",
       "    .dataframe thead th {\n",
       "        text-align: right;\n",
       "    }\n",
       "</style>\n",
       "<table border=\"1\" class=\"dataframe\">\n",
       "  <thead>\n",
       "    <tr style=\"text-align: right;\">\n",
       "      <th></th>\n",
       "      <th>pred_neg</th>\n",
       "      <th>pred_pos</th>\n",
       "    </tr>\n",
       "  </thead>\n",
       "  <tbody>\n",
       "    <tr>\n",
       "      <th>actual_neg</th>\n",
       "      <td>549</td>\n",
       "      <td>61</td>\n",
       "    </tr>\n",
       "    <tr>\n",
       "      <th>actual_pos</th>\n",
       "      <td>78</td>\n",
       "      <td>270</td>\n",
       "    </tr>\n",
       "  </tbody>\n",
       "</table>\n",
       "</div>"
      ],
      "text/plain": [
       "            pred_neg  pred_pos\n",
       "actual_neg       549        61\n",
       "actual_pos        78       270"
      ]
     },
     "execution_count": 55,
     "metadata": {},
     "output_type": "execute_result"
    }
   ],
   "source": [
    "cm=confusion_matrix(y, preds)\n",
    "cm_df=pd.DataFrame(cm, columns=['pred_neg', 'pred_pos'],\n",
    "                  index= ['actual_neg', 'actual_pos'])\n",
    "cm_df"
   ]
  },
  {
   "cell_type": "code",
   "execution_count": 56,
   "metadata": {},
   "outputs": [
    {
     "data": {
      "text/plain": [
       "(549, 61, 78, 270)"
      ]
     },
     "execution_count": 56,
     "metadata": {},
     "output_type": "execute_result"
    }
   ],
   "source": [
    "tn, fp, fn, tp = confusion_matrix(y, preds).ravel()\n",
    "(tn, fp, fn, tp)"
   ]
  },
  {
   "cell_type": "code",
   "execution_count": 57,
   "metadata": {},
   "outputs": [
    {
     "data": {
      "text/html": [
       "<div>\n",
       "<style scoped>\n",
       "    .dataframe tbody tr th:only-of-type {\n",
       "        vertical-align: middle;\n",
       "    }\n",
       "\n",
       "    .dataframe tbody tr th {\n",
       "        vertical-align: top;\n",
       "    }\n",
       "\n",
       "    .dataframe thead th {\n",
       "        text-align: right;\n",
       "    }\n",
       "</style>\n",
       "<table border=\"1\" class=\"dataframe\">\n",
       "  <thead>\n",
       "    <tr style=\"text-align: right;\">\n",
       "      <th></th>\n",
       "      <th>pred_neg</th>\n",
       "      <th>pred_pos</th>\n",
       "    </tr>\n",
       "  </thead>\n",
       "  <tbody>\n",
       "    <tr>\n",
       "      <th>actual_neg</th>\n",
       "      <td>108</td>\n",
       "      <td>10</td>\n",
       "    </tr>\n",
       "    <tr>\n",
       "      <th>actual_pos</th>\n",
       "      <td>0</td>\n",
       "      <td>9</td>\n",
       "    </tr>\n",
       "  </tbody>\n",
       "</table>\n",
       "</div>"
      ],
      "text/plain": [
       "            pred_neg  pred_pos\n",
       "actual_neg       108        10\n",
       "actual_pos         0         9"
      ]
     },
     "execution_count": 57,
     "metadata": {},
     "output_type": "execute_result"
    }
   ],
   "source": [
    "cm3=confusion_matrix(y3, preds3)\n",
    "cm_df3=pd.DataFrame(cm3, columns=['pred_neg', 'pred_pos'],\n",
    "                  index= ['actual_neg', 'actual_pos'])\n",
    "cm_df3"
   ]
  },
  {
   "cell_type": "code",
   "execution_count": 58,
   "metadata": {},
   "outputs": [
    {
     "data": {
      "text/plain": [
       "(108, 10, 0, 9)"
      ]
     },
     "execution_count": 58,
     "metadata": {},
     "output_type": "execute_result"
    }
   ],
   "source": [
    "tn, fp, fn, tp = confusion_matrix(y3, preds3).ravel()\n",
    "(tn, fp, fn, tp)"
   ]
  },
  {
   "cell_type": "code",
   "execution_count": 59,
   "metadata": {},
   "outputs": [],
   "source": [
    "#df3[df3['flood_disaster_relevance']==1]"
   ]
  },
  {
   "cell_type": "code",
   "execution_count": 60,
   "metadata": {
    "scrolled": true
   },
   "outputs": [
    {
     "data": {
      "text/html": [
       "<div>\n",
       "<style scoped>\n",
       "    .dataframe tbody tr th:only-of-type {\n",
       "        vertical-align: middle;\n",
       "    }\n",
       "\n",
       "    .dataframe tbody tr th {\n",
       "        vertical-align: top;\n",
       "    }\n",
       "\n",
       "    .dataframe thead th {\n",
       "        text-align: right;\n",
       "    }\n",
       "</style>\n",
       "<table border=\"1\" class=\"dataframe\">\n",
       "  <thead>\n",
       "    <tr style=\"text-align: right;\">\n",
       "      <th></th>\n",
       "      <th>index</th>\n",
       "      <th>content</th>\n",
       "      <th>description</th>\n",
       "      <th>publishedAt</th>\n",
       "      <th>title</th>\n",
       "      <th>source_name</th>\n",
       "      <th>flood_disaster_relevance</th>\n",
       "      <th>preds3</th>\n",
       "    </tr>\n",
       "  </thead>\n",
       "  <tbody>\n",
       "    <tr>\n",
       "      <th>0</th>\n",
       "      <td>0</td>\n",
       "      <td>Image copyright EPA Image caption Locals have ...</td>\n",
       "      <td>Cyclone Owen has been downgraded to a tropical...</td>\n",
       "      <td>2018-12-15T23:02:13Z</td>\n",
       "      <td>Cyclone Owen downgraded, but could reform off ...</td>\n",
       "      <td>BBC News</td>\n",
       "      <td>0</td>\n",
       "      <td>1</td>\n",
       "    </tr>\n",
       "    <tr>\n",
       "      <th>3</th>\n",
       "      <td>3</td>\n",
       "      <td>Image copyrightAFPImage caption\\r\\n A man inju...</td>\n",
       "      <td>The tropical cyclone took governments by surpr...</td>\n",
       "      <td>2019-03-24T00:23:07Z</td>\n",
       "      <td>Cyclone Idai: How prepared was southern Africa?</td>\n",
       "      <td>BBC News</td>\n",
       "      <td>0</td>\n",
       "      <td>1</td>\n",
       "    </tr>\n",
       "    <tr>\n",
       "      <th>4</th>\n",
       "      <td>4</td>\n",
       "      <td>Media captionThousands of homes destroyed as I...</td>\n",
       "      <td>Floods have already killed at least 70 people,...</td>\n",
       "      <td>2019-04-06T07:57:14Z</td>\n",
       "      <td>Iran floods: Thousands evacuate homes as heavy...</td>\n",
       "      <td>BBC News</td>\n",
       "      <td>1</td>\n",
       "      <td>1</td>\n",
       "    </tr>\n",
       "    <tr>\n",
       "      <th>5</th>\n",
       "      <td>5</td>\n",
       "      <td>Image copyrightAFP\\r\\nParts of southern Africa...</td>\n",
       "      <td>Aid agencies warn that it is becoming more dan...</td>\n",
       "      <td>2019-03-22T00:28:12Z</td>\n",
       "      <td>Cyclone Idai: What are the immediate dangers?</td>\n",
       "      <td>BBC News</td>\n",
       "      <td>1</td>\n",
       "      <td>1</td>\n",
       "    </tr>\n",
       "    <tr>\n",
       "      <th>7</th>\n",
       "      <td>8</td>\n",
       "      <td>Image copyrightEPAImage caption\\r\\n The town o...</td>\n",
       "      <td>Rescue workers struggle to reach remote parts ...</td>\n",
       "      <td>2019-03-17T12:43:35Z</td>\n",
       "      <td>Indonesia floods: Dozens dead in Papua province</td>\n",
       "      <td>BBC News</td>\n",
       "      <td>0</td>\n",
       "      <td>1</td>\n",
       "    </tr>\n",
       "    <tr>\n",
       "      <th>13</th>\n",
       "      <td>14</td>\n",
       "      <td>Image copyrightReutersImage caption\\r\\n Cyclon...</td>\n",
       "      <td>At least 417 people have now been declared dea...</td>\n",
       "      <td>2019-03-23T11:41:44Z</td>\n",
       "      <td>Cyclone Idai: More bodies under floodwater - UN</td>\n",
       "      <td>BBC News</td>\n",
       "      <td>1</td>\n",
       "      <td>1</td>\n",
       "    </tr>\n",
       "    <tr>\n",
       "      <th>28</th>\n",
       "      <td>30</td>\n",
       "      <td>Media caption Milford Haven was one of the are...</td>\n",
       "      <td>Heavy rain and flooding is expected on Friday ...</td>\n",
       "      <td>2018-11-09T12:55:40Z</td>\n",
       "      <td>Flooding hits roads and homes in Pembrokeshire...</td>\n",
       "      <td>BBC News</td>\n",
       "      <td>0</td>\n",
       "      <td>1</td>\n",
       "    </tr>\n",
       "    <tr>\n",
       "      <th>30</th>\n",
       "      <td>32</td>\n",
       "      <td>Media captionCars have been swept away and hom...</td>\n",
       "      <td>Flood warnings have been issued in almost all ...</td>\n",
       "      <td>2019-03-25T17:40:07Z</td>\n",
       "      <td>Flash floods kill at least 17 in southern Iran</td>\n",
       "      <td>BBC News</td>\n",
       "      <td>1</td>\n",
       "      <td>1</td>\n",
       "    </tr>\n",
       "    <tr>\n",
       "      <th>35</th>\n",
       "      <td>37</td>\n",
       "      <td>Image copyrightAFP/GettyImage caption\\r\\n Floo...</td>\n",
       "      <td>At least 45 people have died in flooding throu...</td>\n",
       "      <td>2019-04-02T10:44:38Z</td>\n",
       "      <td>Iran orders evacuations in Khuzestan amid floo...</td>\n",
       "      <td>BBC News</td>\n",
       "      <td>0</td>\n",
       "      <td>1</td>\n",
       "    </tr>\n",
       "    <tr>\n",
       "      <th>38</th>\n",
       "      <td>41</td>\n",
       "      <td>Image copyrightReuters\\r\\nA stranded motorist ...</td>\n",
       "      <td>A stranded motorist in Mozambique tells of the...</td>\n",
       "      <td>2019-03-22T13:04:55Z</td>\n",
       "      <td>Cyclone Idai: 'We saw 200 bodies by the roadside'</td>\n",
       "      <td>BBC News</td>\n",
       "      <td>0</td>\n",
       "      <td>1</td>\n",
       "    </tr>\n",
       "    <tr>\n",
       "      <th>39</th>\n",
       "      <td>42</td>\n",
       "      <td>Image copyright EPA Image caption A deluge in ...</td>\n",
       "      <td>Five other people are missing and nearly 4,000...</td>\n",
       "      <td>2018-11-10T02:22:19Z</td>\n",
       "      <td>Jordan flash floods: Seven killed and tourists...</td>\n",
       "      <td>BBC News</td>\n",
       "      <td>1</td>\n",
       "      <td>1</td>\n",
       "    </tr>\n",
       "    <tr>\n",
       "      <th>52</th>\n",
       "      <td>56</td>\n",
       "      <td>Image copyrightEPAImage caption\\r\\n A man wade...</td>\n",
       "      <td>Locals in flood-hit Townsville are warned to b...</td>\n",
       "      <td>2019-02-04T09:14:27Z</td>\n",
       "      <td>Australia floods: Crocodiles seen in 'once in ...</td>\n",
       "      <td>BBC News</td>\n",
       "      <td>1</td>\n",
       "      <td>1</td>\n",
       "    </tr>\n",
       "    <tr>\n",
       "      <th>53</th>\n",
       "      <td>57</td>\n",
       "      <td>VideoThousands of people in Sulawesi, Indonesi...</td>\n",
       "      <td>Thousands of people are being evacuated as fla...</td>\n",
       "      <td>2019-01-25T07:31:01Z</td>\n",
       "      <td>Indonesia flash flood sweeps away entire longh...</td>\n",
       "      <td>BBC News</td>\n",
       "      <td>0</td>\n",
       "      <td>1</td>\n",
       "    </tr>\n",
       "    <tr>\n",
       "      <th>63</th>\n",
       "      <td>67</td>\n",
       "      <td>Image copyrightReutersImage caption\\r\\n Women ...</td>\n",
       "      <td>The number of cases of the disease has almost ...</td>\n",
       "      <td>2019-04-01T14:38:17Z</td>\n",
       "      <td>Cyclone Idai: First cholera death in Mozambiqu...</td>\n",
       "      <td>BBC News</td>\n",
       "      <td>0</td>\n",
       "      <td>1</td>\n",
       "    </tr>\n",
       "    <tr>\n",
       "      <th>64</th>\n",
       "      <td>68</td>\n",
       "      <td>Media captionLocalised flooding is affecting p...</td>\n",
       "      <td>There are warnings in place in England, Scotla...</td>\n",
       "      <td>2019-03-17T00:56:15Z</td>\n",
       "      <td>Flood warnings issued across UK after rain</td>\n",
       "      <td>BBC News</td>\n",
       "      <td>0</td>\n",
       "      <td>1</td>\n",
       "    </tr>\n",
       "    <tr>\n",
       "      <th>67</th>\n",
       "      <td>71</td>\n",
       "      <td>Image copyrightNebraska DOT\\r\\nThawing snowpac...</td>\n",
       "      <td>Two people have died while residents in Nebras...</td>\n",
       "      <td>2019-03-18T14:40:30Z</td>\n",
       "      <td>Two dead in record flooding in US Midwestern s...</td>\n",
       "      <td>BBC News</td>\n",
       "      <td>1</td>\n",
       "      <td>1</td>\n",
       "    </tr>\n",
       "    <tr>\n",
       "      <th>68</th>\n",
       "      <td>72</td>\n",
       "      <td>Image copyrightGetty ImagesImage caption\\r\\n G...</td>\n",
       "      <td>The only way to access the towns, which are un...</td>\n",
       "      <td>2019-02-28T16:59:55Z</td>\n",
       "      <td>Floods and mudslides turn California wine town...</td>\n",
       "      <td>BBC News</td>\n",
       "      <td>1</td>\n",
       "      <td>1</td>\n",
       "    </tr>\n",
       "    <tr>\n",
       "      <th>69</th>\n",
       "      <td>73</td>\n",
       "      <td>Aid agencies are scrambling to reach survivors...</td>\n",
       "      <td>Parts of southern Africa have been left devast...</td>\n",
       "      <td>2019-03-21T14:57:59Z</td>\n",
       "      <td>Cyclone Idai: How the storm tore into southern...</td>\n",
       "      <td>BBC News</td>\n",
       "      <td>0</td>\n",
       "      <td>1</td>\n",
       "    </tr>\n",
       "    <tr>\n",
       "      <th>109</th>\n",
       "      <td>113</td>\n",
       "      <td>Image copyrightEPAImage caption\\r\\n Low-lying ...</td>\n",
       "      <td>The men's bodies were discovered near a park, ...</td>\n",
       "      <td>2019-02-05T08:28:28Z</td>\n",
       "      <td>Australia floods: Two found dead as waters gri...</td>\n",
       "      <td>BBC News</td>\n",
       "      <td>1</td>\n",
       "      <td>1</td>\n",
       "    </tr>\n",
       "  </tbody>\n",
       "</table>\n",
       "</div>"
      ],
      "text/plain": [
       "     index                                            content  \\\n",
       "0        0  Image copyright EPA Image caption Locals have ...   \n",
       "3        3  Image copyrightAFPImage caption\\r\\n A man inju...   \n",
       "4        4  Media captionThousands of homes destroyed as I...   \n",
       "5        5  Image copyrightAFP\\r\\nParts of southern Africa...   \n",
       "7        8  Image copyrightEPAImage caption\\r\\n The town o...   \n",
       "13      14  Image copyrightReutersImage caption\\r\\n Cyclon...   \n",
       "28      30  Media caption Milford Haven was one of the are...   \n",
       "30      32  Media captionCars have been swept away and hom...   \n",
       "35      37  Image copyrightAFP/GettyImage caption\\r\\n Floo...   \n",
       "38      41  Image copyrightReuters\\r\\nA stranded motorist ...   \n",
       "39      42  Image copyright EPA Image caption A deluge in ...   \n",
       "52      56  Image copyrightEPAImage caption\\r\\n A man wade...   \n",
       "53      57  VideoThousands of people in Sulawesi, Indonesi...   \n",
       "63      67  Image copyrightReutersImage caption\\r\\n Women ...   \n",
       "64      68  Media captionLocalised flooding is affecting p...   \n",
       "67      71  Image copyrightNebraska DOT\\r\\nThawing snowpac...   \n",
       "68      72  Image copyrightGetty ImagesImage caption\\r\\n G...   \n",
       "69      73  Aid agencies are scrambling to reach survivors...   \n",
       "109    113  Image copyrightEPAImage caption\\r\\n Low-lying ...   \n",
       "\n",
       "                                           description           publishedAt  \\\n",
       "0    Cyclone Owen has been downgraded to a tropical...  2018-12-15T23:02:13Z   \n",
       "3    The tropical cyclone took governments by surpr...  2019-03-24T00:23:07Z   \n",
       "4    Floods have already killed at least 70 people,...  2019-04-06T07:57:14Z   \n",
       "5    Aid agencies warn that it is becoming more dan...  2019-03-22T00:28:12Z   \n",
       "7    Rescue workers struggle to reach remote parts ...  2019-03-17T12:43:35Z   \n",
       "13   At least 417 people have now been declared dea...  2019-03-23T11:41:44Z   \n",
       "28   Heavy rain and flooding is expected on Friday ...  2018-11-09T12:55:40Z   \n",
       "30   Flood warnings have been issued in almost all ...  2019-03-25T17:40:07Z   \n",
       "35   At least 45 people have died in flooding throu...  2019-04-02T10:44:38Z   \n",
       "38   A stranded motorist in Mozambique tells of the...  2019-03-22T13:04:55Z   \n",
       "39   Five other people are missing and nearly 4,000...  2018-11-10T02:22:19Z   \n",
       "52   Locals in flood-hit Townsville are warned to b...  2019-02-04T09:14:27Z   \n",
       "53   Thousands of people are being evacuated as fla...  2019-01-25T07:31:01Z   \n",
       "63   The number of cases of the disease has almost ...  2019-04-01T14:38:17Z   \n",
       "64   There are warnings in place in England, Scotla...  2019-03-17T00:56:15Z   \n",
       "67   Two people have died while residents in Nebras...  2019-03-18T14:40:30Z   \n",
       "68   The only way to access the towns, which are un...  2019-02-28T16:59:55Z   \n",
       "69   Parts of southern Africa have been left devast...  2019-03-21T14:57:59Z   \n",
       "109  The men's bodies were discovered near a park, ...  2019-02-05T08:28:28Z   \n",
       "\n",
       "                                                 title source_name  \\\n",
       "0    Cyclone Owen downgraded, but could reform off ...    BBC News   \n",
       "3      Cyclone Idai: How prepared was southern Africa?    BBC News   \n",
       "4    Iran floods: Thousands evacuate homes as heavy...    BBC News   \n",
       "5        Cyclone Idai: What are the immediate dangers?    BBC News   \n",
       "7      Indonesia floods: Dozens dead in Papua province    BBC News   \n",
       "13     Cyclone Idai: More bodies under floodwater - UN    BBC News   \n",
       "28   Flooding hits roads and homes in Pembrokeshire...    BBC News   \n",
       "30      Flash floods kill at least 17 in southern Iran    BBC News   \n",
       "35   Iran orders evacuations in Khuzestan amid floo...    BBC News   \n",
       "38   Cyclone Idai: 'We saw 200 bodies by the roadside'    BBC News   \n",
       "39   Jordan flash floods: Seven killed and tourists...    BBC News   \n",
       "52   Australia floods: Crocodiles seen in 'once in ...    BBC News   \n",
       "53   Indonesia flash flood sweeps away entire longh...    BBC News   \n",
       "63   Cyclone Idai: First cholera death in Mozambiqu...    BBC News   \n",
       "64          Flood warnings issued across UK after rain    BBC News   \n",
       "67   Two dead in record flooding in US Midwestern s...    BBC News   \n",
       "68   Floods and mudslides turn California wine town...    BBC News   \n",
       "69   Cyclone Idai: How the storm tore into southern...    BBC News   \n",
       "109  Australia floods: Two found dead as waters gri...    BBC News   \n",
       "\n",
       "     flood_disaster_relevance  preds3  \n",
       "0                           0       1  \n",
       "3                           0       1  \n",
       "4                           1       1  \n",
       "5                           1       1  \n",
       "7                           0       1  \n",
       "13                          1       1  \n",
       "28                          0       1  \n",
       "30                          1       1  \n",
       "35                          0       1  \n",
       "38                          0       1  \n",
       "39                          1       1  \n",
       "52                          1       1  \n",
       "53                          0       1  \n",
       "63                          0       1  \n",
       "64                          0       1  \n",
       "67                          1       1  \n",
       "68                          1       1  \n",
       "69                          0       1  \n",
       "109                         1       1  "
      ]
     },
     "execution_count": 60,
     "metadata": {},
     "output_type": "execute_result"
    }
   ],
   "source": [
    "df3[df3['preds3']==1]"
   ]
  },
  {
   "cell_type": "code",
   "execution_count": 61,
   "metadata": {},
   "outputs": [],
   "source": [
    "#df[df['preds']==1]"
   ]
  },
  {
   "cell_type": "code",
   "execution_count": 62,
   "metadata": {},
   "outputs": [],
   "source": [
    "#df[df['positive']==1]"
   ]
  },
  {
   "cell_type": "code",
   "execution_count": 63,
   "metadata": {},
   "outputs": [],
   "source": [
    "#df3.iloc[68,1]"
   ]
  },
  {
   "cell_type": "code",
   "execution_count": 64,
   "metadata": {
    "scrolled": true
   },
   "outputs": [],
   "source": [
    "#df3.iloc[12,1]"
   ]
  },
  {
   "cell_type": "markdown",
   "metadata": {},
   "source": [
    "### Other Classifiers:"
   ]
  },
  {
   "cell_type": "markdown",
   "metadata": {},
   "source": [
    "### Bagged Decision Trees"
   ]
  },
  {
   "cell_type": "code",
   "execution_count": 75,
   "metadata": {},
   "outputs": [
    {
     "name": "stdout",
     "output_type": "stream",
     "text": [
      "0.8732590529247911\n",
      "0.8458333333333333\n"
     ]
    }
   ],
   "source": [
    "bag= BaggingClassifier(base_estimator= LogisticRegression(random_state=42)) #(base_estimator=KNeighborsClassifier(n_neighbors=5)) # May add a KNeighborsClassifier like so\n",
    "bag.fit(X_train, y_train)\n",
    "print (bag.score(X_train, y_train))  # Achieved Accuracy\n",
    "print (bag.score(X_test, y_test))"
   ]
  },
  {
   "cell_type": "code",
   "execution_count": 77,
   "metadata": {},
   "outputs": [],
   "source": [
    "preds01=bag.predict(svd_df)\n",
    "preds31=bag.predict(svd_df3)\n",
    "df['preds01']=preds01\n",
    "df3['preds31']=preds31"
   ]
  },
  {
   "cell_type": "code",
   "execution_count": 78,
   "metadata": {},
   "outputs": [
    {
     "data": {
      "text/html": [
       "<div>\n",
       "<style scoped>\n",
       "    .dataframe tbody tr th:only-of-type {\n",
       "        vertical-align: middle;\n",
       "    }\n",
       "\n",
       "    .dataframe tbody tr th {\n",
       "        vertical-align: top;\n",
       "    }\n",
       "\n",
       "    .dataframe thead th {\n",
       "        text-align: right;\n",
       "    }\n",
       "</style>\n",
       "<table border=\"1\" class=\"dataframe\">\n",
       "  <thead>\n",
       "    <tr style=\"text-align: right;\">\n",
       "      <th></th>\n",
       "      <th>pred_neg</th>\n",
       "      <th>pred_pos</th>\n",
       "    </tr>\n",
       "  </thead>\n",
       "  <tbody>\n",
       "    <tr>\n",
       "      <th>actual_neg</th>\n",
       "      <td>564</td>\n",
       "      <td>46</td>\n",
       "    </tr>\n",
       "    <tr>\n",
       "      <th>actual_pos</th>\n",
       "      <td>82</td>\n",
       "      <td>266</td>\n",
       "    </tr>\n",
       "  </tbody>\n",
       "</table>\n",
       "</div>"
      ],
      "text/plain": [
       "            pred_neg  pred_pos\n",
       "actual_neg       564        46\n",
       "actual_pos        82       266"
      ]
     },
     "execution_count": 78,
     "metadata": {},
     "output_type": "execute_result"
    }
   ],
   "source": [
    "cm01=confusion_matrix(y, preds01)\n",
    "cm_df01=pd.DataFrame(cm01, columns=['pred_neg', 'pred_pos'],\n",
    "                  index= ['actual_neg', 'actual_pos'])\n",
    "cm_df01"
   ]
  },
  {
   "cell_type": "code",
   "execution_count": 79,
   "metadata": {},
   "outputs": [
    {
     "data": {
      "text/html": [
       "<div>\n",
       "<style scoped>\n",
       "    .dataframe tbody tr th:only-of-type {\n",
       "        vertical-align: middle;\n",
       "    }\n",
       "\n",
       "    .dataframe tbody tr th {\n",
       "        vertical-align: top;\n",
       "    }\n",
       "\n",
       "    .dataframe thead th {\n",
       "        text-align: right;\n",
       "    }\n",
       "</style>\n",
       "<table border=\"1\" class=\"dataframe\">\n",
       "  <thead>\n",
       "    <tr style=\"text-align: right;\">\n",
       "      <th></th>\n",
       "      <th>pred_neg</th>\n",
       "      <th>pred_pos</th>\n",
       "    </tr>\n",
       "  </thead>\n",
       "  <tbody>\n",
       "    <tr>\n",
       "      <th>actual_neg</th>\n",
       "      <td>105</td>\n",
       "      <td>13</td>\n",
       "    </tr>\n",
       "    <tr>\n",
       "      <th>actual_pos</th>\n",
       "      <td>0</td>\n",
       "      <td>9</td>\n",
       "    </tr>\n",
       "  </tbody>\n",
       "</table>\n",
       "</div>"
      ],
      "text/plain": [
       "            pred_neg  pred_pos\n",
       "actual_neg       105        13\n",
       "actual_pos         0         9"
      ]
     },
     "execution_count": 79,
     "metadata": {},
     "output_type": "execute_result"
    }
   ],
   "source": [
    "cm31=confusion_matrix(y3, preds31)\n",
    "cm_df31=pd.DataFrame(cm31, columns=['pred_neg', 'pred_pos'],\n",
    "                  index= ['actual_neg', 'actual_pos'])\n",
    "cm_df31"
   ]
  },
  {
   "cell_type": "code",
   "execution_count": 80,
   "metadata": {},
   "outputs": [
    {
     "name": "stdout",
     "output_type": "stream",
     "text": [
      " Total Score : 0.806060606060606\n",
      " Total Score : 0.5806451612903226\n"
     ]
    }
   ],
   "source": [
    "print (f' Total Score : { f1_score(preds01, y)}') # \n",
    "print (f' Total Score : { f1_score(preds31, y3 )}') # True data"
   ]
  },
  {
   "cell_type": "code",
   "execution_count": 81,
   "metadata": {},
   "outputs": [],
   "source": [
    "# df3[df3['flood_disaster_relevance']==1]"
   ]
  },
  {
   "cell_type": "code",
   "execution_count": 82,
   "metadata": {},
   "outputs": [],
   "source": [
    "# df3.iloc[1,1]"
   ]
  },
  {
   "cell_type": "code",
   "execution_count": 83,
   "metadata": {
    "scrolled": true
   },
   "outputs": [],
   "source": [
    "# df3_pos=df3[df3['preds31']==1]\n",
    "# df3_pos.reset_index()"
   ]
  },
  {
   "cell_type": "code",
   "execution_count": 84,
   "metadata": {},
   "outputs": [],
   "source": [
    "pred_proba1 = [i[1] for i in bag.predict_proba(X_test)]\n",
    "\n",
    "pred_df1 = pd.DataFrame({'true_values': y_test,\n",
    "                        'pred_probs':pred_proba1})"
   ]
  },
  {
   "cell_type": "code",
   "execution_count": 99,
   "metadata": {
    "scrolled": false
   },
   "outputs": [
    {
     "data": {
      "image/png": "[encoded data removed]",
      "text/plain": [
       "<Figure size 720x504 with 1 Axes>"
      ]
     },
     "metadata": {
      "needs_background": "light"
     },
     "output_type": "display_data"
    }
   ],
   "source": [
    "plt.figure(figsize = (10,7))\n",
    "\n",
    "# Create threshold values.\n",
    "thresholds = np.linspace(0, 1, 500)\n",
    "\n",
    "# Define function to calculate sensitivity. (True positive rate.)\n",
    "def TPR(df, true_col, pred_prob_col, threshold):\n",
    "    true_positive = df[(df[true_col] == 1) & (df[pred_prob_col] >= threshold)].shape[0]\n",
    "    false_negative = df[(df[true_col] == 1) & (df[pred_prob_col] < threshold)].shape[0]\n",
    "    return true_positive / (true_positive + false_negative)\n",
    "\n",
    "# Define function to calculate 1 - specificity. (False positive rate.)\n",
    "def FPR(df, true_col, pred_prob_col, threshold):\n",
    "    true_negative = df[(df[true_col] == 0) & (df[pred_prob_col] <= threshold)].shape[0]\n",
    "    false_positive = df[(df[true_col] == 0) & (df[pred_prob_col] > threshold)].shape[0]\n",
    "    return 1 - (true_negative / (true_negative + false_positive))\n",
    "    \n",
    "# Calculate sensitivity & 1-specificity for each threshold between 0 and 1.\n",
    "tpr_values = [TPR(pred_df1, 'true_values', 'pred_probs', prob) for prob in thresholds]\n",
    "fpr_values = [FPR(pred_df1, 'true_values', 'pred_probs', prob) for prob in thresholds]\n",
    "\n",
    "# Plot ROC curve.\n",
    "plt.plot(fpr_values, # False Positive Rate on X-axis\n",
    "         tpr_values, # True Positive Rate on Y-axis\n",
    "         label='ROC Curve')\n",
    "\n",
    "# Plot baseline. (Perfect overlap between the two populations.)\n",
    "plt.plot(np.linspace(0, 1, 500),\n",
    "         np.linspace(0, 1, 500),\n",
    "         label='baseline',\n",
    "         linestyle='--')\n",
    "\n",
    "# Label axes.\n",
    "plt.title('Receiver Operating Characteristic Curve', fontsize=22)\n",
    "plt.ylabel('Sensitivity', fontsize=18)\n",
    "plt.xlabel('1 - Specificity', fontsize=18)\n",
    "\n",
    "# Create legend.\n",
    "plt.legend(fontsize=16);"
   ]
  },
  {
   "cell_type": "code",
   "execution_count": 106,
   "metadata": {},
   "outputs": [
    {
     "data": {
      "text/plain": [
       "0.9051160694162723"
      ]
     },
     "execution_count": 106,
     "metadata": {},
     "output_type": "execute_result"
    }
   ],
   "source": [
    "roc_auc_score(pred_df['true_values'], pred_df ['pred_probs'])"
   ]
  },
  {
   "cell_type": "markdown",
   "metadata": {},
   "source": [
    "## Random Forrest Classifier:"
   ]
  },
  {
   "cell_type": "code",
   "execution_count": 103,
   "metadata": {},
   "outputs": [],
   "source": [
    "# rfc=RandomForestClassifier(random_state=42)\n",
    "# rfc_params={\n",
    "#     'n_estimators':[40, 50],\n",
    "#     'max_depth':[None, 3,4,5],\n",
    "#     'max_features':['auto', 4, 5],  # default is sqrt(9)= 3 features per tree\n",
    "#     'min_samples_split':[3, 5, 7]\n",
    "    \n",
    "# }\n",
    "# gs=GridSearchCV(rfc, param_grid=rfc_params, cv=5)\n",
    "# # Trying our all param combinations, \n",
    "# # for each combo, we'r doing a 5 fold cv\n",
    "# # use the best params and fit to the entire training data\n",
    "# gs.fit(X_train, y_train)\n",
    "# print (gs.best_score_) #Cross val score, from best_params_\n",
    "# gs.best_params_"
   ]
  },
  {
   "cell_type": "code",
   "execution_count": 86,
   "metadata": {},
   "outputs": [
    {
     "name": "stdout",
     "output_type": "stream",
     "text": [
      "0.8927576601671309\n",
      "0.8541666666666666\n"
     ]
    }
   ],
   "source": [
    "rfc1=RandomForestClassifier(random_state=42, max_depth=4, min_samples_split=3, n_estimators=40)\n",
    "rfc1.fit(X_train, y_train)\n",
    "print (rfc1.score(X_train, y_train))  # Achieved Accuracy\n",
    "print (rfc1.score(X_test, y_test))"
   ]
  },
  {
   "cell_type": "code",
   "execution_count": 87,
   "metadata": {},
   "outputs": [],
   "source": [
    "preds02=rfc1.predict(svd_df)\n",
    "preds32=rfc1.predict(svd_df3)\n",
    "df['preds02']=preds02\n",
    "df3['preds32']=preds32"
   ]
  },
  {
   "cell_type": "code",
   "execution_count": 88,
   "metadata": {
    "scrolled": true
   },
   "outputs": [
    {
     "data": {
      "text/html": [
       "<div>\n",
       "<style scoped>\n",
       "    .dataframe tbody tr th:only-of-type {\n",
       "        vertical-align: middle;\n",
       "    }\n",
       "\n",
       "    .dataframe tbody tr th {\n",
       "        vertical-align: top;\n",
       "    }\n",
       "\n",
       "    .dataframe thead th {\n",
       "        text-align: right;\n",
       "    }\n",
       "</style>\n",
       "<table border=\"1\" class=\"dataframe\">\n",
       "  <thead>\n",
       "    <tr style=\"text-align: right;\">\n",
       "      <th></th>\n",
       "      <th>pred_neg</th>\n",
       "      <th>pred_pos</th>\n",
       "    </tr>\n",
       "  </thead>\n",
       "  <tbody>\n",
       "    <tr>\n",
       "      <th>actual_neg</th>\n",
       "      <td>556</td>\n",
       "      <td>54</td>\n",
       "    </tr>\n",
       "    <tr>\n",
       "      <th>actual_pos</th>\n",
       "      <td>58</td>\n",
       "      <td>290</td>\n",
       "    </tr>\n",
       "  </tbody>\n",
       "</table>\n",
       "</div>"
      ],
      "text/plain": [
       "            pred_neg  pred_pos\n",
       "actual_neg       556        54\n",
       "actual_pos        58       290"
      ]
     },
     "execution_count": 88,
     "metadata": {},
     "output_type": "execute_result"
    }
   ],
   "source": [
    "cm02=confusion_matrix(y, preds02)\n",
    "cm_df02=pd.DataFrame(cm02, columns=['pred_neg', 'pred_pos'],\n",
    "                  index= ['actual_neg', 'actual_pos'])\n",
    "cm_df02"
   ]
  },
  {
   "cell_type": "code",
   "execution_count": 89,
   "metadata": {},
   "outputs": [
    {
     "name": "stdout",
     "output_type": "stream",
     "text": [
      " Total Score : 0.838150289017341\n",
      " Total Score : 0.5625\n"
     ]
    }
   ],
   "source": [
    "print (f' Total Score : { f1_score(preds02, y)}') # \n",
    "print (f' Total Score : { f1_score(preds32, y3 )}') # True data"
   ]
  },
  {
   "cell_type": "code",
   "execution_count": 90,
   "metadata": {},
   "outputs": [
    {
     "data": {
      "text/html": [
       "<div>\n",
       "<style scoped>\n",
       "    .dataframe tbody tr th:only-of-type {\n",
       "        vertical-align: middle;\n",
       "    }\n",
       "\n",
       "    .dataframe tbody tr th {\n",
       "        vertical-align: top;\n",
       "    }\n",
       "\n",
       "    .dataframe thead th {\n",
       "        text-align: right;\n",
       "    }\n",
       "</style>\n",
       "<table border=\"1\" class=\"dataframe\">\n",
       "  <thead>\n",
       "    <tr style=\"text-align: right;\">\n",
       "      <th></th>\n",
       "      <th>pred_neg</th>\n",
       "      <th>pred_pos</th>\n",
       "    </tr>\n",
       "  </thead>\n",
       "  <tbody>\n",
       "    <tr>\n",
       "      <th>actual_neg</th>\n",
       "      <td>104</td>\n",
       "      <td>14</td>\n",
       "    </tr>\n",
       "    <tr>\n",
       "      <th>actual_pos</th>\n",
       "      <td>0</td>\n",
       "      <td>9</td>\n",
       "    </tr>\n",
       "  </tbody>\n",
       "</table>\n",
       "</div>"
      ],
      "text/plain": [
       "            pred_neg  pred_pos\n",
       "actual_neg       104        14\n",
       "actual_pos         0         9"
      ]
     },
     "execution_count": 90,
     "metadata": {},
     "output_type": "execute_result"
    }
   ],
   "source": [
    "cm32=confusion_matrix(y3, preds32)\n",
    "cm_df32=pd.DataFrame(cm32, columns=['pred_neg', 'pred_pos'],\n",
    "                  index= ['actual_neg', 'actual_pos'])\n",
    "cm_df32"
   ]
  },
  {
   "cell_type": "code",
   "execution_count": null,
   "metadata": {},
   "outputs": [],
   "source": []
  },
  {
   "cell_type": "code",
   "execution_count": 91,
   "metadata": {
    "scrolled": true
   },
   "outputs": [
    {
     "data": {
      "text/html": [
       "<div>\n",
       "<style scoped>\n",
       "    .dataframe tbody tr th:only-of-type {\n",
       "        vertical-align: middle;\n",
       "    }\n",
       "\n",
       "    .dataframe tbody tr th {\n",
       "        vertical-align: top;\n",
       "    }\n",
       "\n",
       "    .dataframe thead th {\n",
       "        text-align: right;\n",
       "    }\n",
       "</style>\n",
       "<table border=\"1\" class=\"dataframe\">\n",
       "  <thead>\n",
       "    <tr style=\"text-align: right;\">\n",
       "      <th></th>\n",
       "      <th>index</th>\n",
       "      <th>content</th>\n",
       "      <th>description</th>\n",
       "      <th>publishedAt</th>\n",
       "      <th>title</th>\n",
       "      <th>source_name</th>\n",
       "      <th>flood_disaster_relevance</th>\n",
       "      <th>preds3</th>\n",
       "      <th>preds31</th>\n",
       "      <th>preds32</th>\n",
       "    </tr>\n",
       "  </thead>\n",
       "  <tbody>\n",
       "    <tr>\n",
       "      <th>0</th>\n",
       "      <td>0</td>\n",
       "      <td>Image copyright EPA Image caption Locals have ...</td>\n",
       "      <td>Cyclone Owen has been downgraded to a tropical...</td>\n",
       "      <td>2018-12-15T23:02:13Z</td>\n",
       "      <td>Cyclone Owen downgraded, but could reform off ...</td>\n",
       "      <td>BBC News</td>\n",
       "      <td>0</td>\n",
       "      <td>1</td>\n",
       "      <td>1</td>\n",
       "      <td>1</td>\n",
       "    </tr>\n",
       "    <tr>\n",
       "      <th>3</th>\n",
       "      <td>3</td>\n",
       "      <td>Image copyrightAFPImage caption\\r\\n A man inju...</td>\n",
       "      <td>The tropical cyclone took governments by surpr...</td>\n",
       "      <td>2019-03-24T00:23:07Z</td>\n",
       "      <td>Cyclone Idai: How prepared was southern Africa?</td>\n",
       "      <td>BBC News</td>\n",
       "      <td>0</td>\n",
       "      <td>1</td>\n",
       "      <td>1</td>\n",
       "      <td>1</td>\n",
       "    </tr>\n",
       "    <tr>\n",
       "      <th>7</th>\n",
       "      <td>8</td>\n",
       "      <td>Image copyrightEPAImage caption\\r\\n The town o...</td>\n",
       "      <td>Rescue workers struggle to reach remote parts ...</td>\n",
       "      <td>2019-03-17T12:43:35Z</td>\n",
       "      <td>Indonesia floods: Dozens dead in Papua province</td>\n",
       "      <td>BBC News</td>\n",
       "      <td>0</td>\n",
       "      <td>1</td>\n",
       "      <td>1</td>\n",
       "      <td>1</td>\n",
       "    </tr>\n",
       "    <tr>\n",
       "      <th>19</th>\n",
       "      <td>20</td>\n",
       "      <td>Image copyright South Wales Police Image capti...</td>\n",
       "      <td>Police urge motorists to take care following a...</td>\n",
       "      <td>2018-11-07T21:55:06Z</td>\n",
       "      <td>Weather warning as car plunges into south Wale...</td>\n",
       "      <td>BBC News</td>\n",
       "      <td>0</td>\n",
       "      <td>0</td>\n",
       "      <td>1</td>\n",
       "      <td>1</td>\n",
       "    </tr>\n",
       "    <tr>\n",
       "      <th>28</th>\n",
       "      <td>30</td>\n",
       "      <td>Media caption Milford Haven was one of the are...</td>\n",
       "      <td>Heavy rain and flooding is expected on Friday ...</td>\n",
       "      <td>2018-11-09T12:55:40Z</td>\n",
       "      <td>Flooding hits roads and homes in Pembrokeshire...</td>\n",
       "      <td>BBC News</td>\n",
       "      <td>0</td>\n",
       "      <td>1</td>\n",
       "      <td>1</td>\n",
       "      <td>1</td>\n",
       "    </tr>\n",
       "    <tr>\n",
       "      <th>29</th>\n",
       "      <td>31</td>\n",
       "      <td>Image caption Houses in Llanelli suffered floo...</td>\n",
       "      <td>When the deluge came down, one coastal town es...</td>\n",
       "      <td>2018-11-28T14:41:18Z</td>\n",
       "      <td>How Llanelli avoided flooding during Storm Callum</td>\n",
       "      <td>BBC News</td>\n",
       "      <td>0</td>\n",
       "      <td>0</td>\n",
       "      <td>1</td>\n",
       "      <td>1</td>\n",
       "    </tr>\n",
       "    <tr>\n",
       "      <th>38</th>\n",
       "      <td>41</td>\n",
       "      <td>Image copyrightReuters\\r\\nA stranded motorist ...</td>\n",
       "      <td>A stranded motorist in Mozambique tells of the...</td>\n",
       "      <td>2019-03-22T13:04:55Z</td>\n",
       "      <td>Cyclone Idai: 'We saw 200 bodies by the roadside'</td>\n",
       "      <td>BBC News</td>\n",
       "      <td>0</td>\n",
       "      <td>1</td>\n",
       "      <td>0</td>\n",
       "      <td>1</td>\n",
       "    </tr>\n",
       "    <tr>\n",
       "      <th>50</th>\n",
       "      <td>53</td>\n",
       "      <td>Image copyright Met Office Image caption The M...</td>\n",
       "      <td>The remnants of Hurricane Oscar have caused a ...</td>\n",
       "      <td>2018-11-03T12:32:09Z</td>\n",
       "      <td>Flood warnings issued for parts of Scotland</td>\n",
       "      <td>BBC News</td>\n",
       "      <td>0</td>\n",
       "      <td>0</td>\n",
       "      <td>1</td>\n",
       "      <td>1</td>\n",
       "    </tr>\n",
       "    <tr>\n",
       "      <th>53</th>\n",
       "      <td>57</td>\n",
       "      <td>VideoThousands of people in Sulawesi, Indonesi...</td>\n",
       "      <td>Thousands of people are being evacuated as fla...</td>\n",
       "      <td>2019-01-25T07:31:01Z</td>\n",
       "      <td>Indonesia flash flood sweeps away entire longh...</td>\n",
       "      <td>BBC News</td>\n",
       "      <td>0</td>\n",
       "      <td>1</td>\n",
       "      <td>0</td>\n",
       "      <td>1</td>\n",
       "    </tr>\n",
       "    <tr>\n",
       "      <th>63</th>\n",
       "      <td>67</td>\n",
       "      <td>Image copyrightReutersImage caption\\r\\n Women ...</td>\n",
       "      <td>The number of cases of the disease has almost ...</td>\n",
       "      <td>2019-04-01T14:38:17Z</td>\n",
       "      <td>Cyclone Idai: First cholera death in Mozambiqu...</td>\n",
       "      <td>BBC News</td>\n",
       "      <td>0</td>\n",
       "      <td>1</td>\n",
       "      <td>1</td>\n",
       "      <td>1</td>\n",
       "    </tr>\n",
       "    <tr>\n",
       "      <th>64</th>\n",
       "      <td>68</td>\n",
       "      <td>Media captionLocalised flooding is affecting p...</td>\n",
       "      <td>There are warnings in place in England, Scotla...</td>\n",
       "      <td>2019-03-17T00:56:15Z</td>\n",
       "      <td>Flood warnings issued across UK after rain</td>\n",
       "      <td>BBC News</td>\n",
       "      <td>0</td>\n",
       "      <td>1</td>\n",
       "      <td>1</td>\n",
       "      <td>1</td>\n",
       "    </tr>\n",
       "    <tr>\n",
       "      <th>69</th>\n",
       "      <td>73</td>\n",
       "      <td>Aid agencies are scrambling to reach survivors...</td>\n",
       "      <td>Parts of southern Africa have been left devast...</td>\n",
       "      <td>2019-03-21T14:57:59Z</td>\n",
       "      <td>Cyclone Idai: How the storm tore into southern...</td>\n",
       "      <td>BBC News</td>\n",
       "      <td>0</td>\n",
       "      <td>1</td>\n",
       "      <td>1</td>\n",
       "      <td>1</td>\n",
       "    </tr>\n",
       "    <tr>\n",
       "      <th>87</th>\n",
       "      <td>91</td>\n",
       "      <td>Image copyrightAFPImage caption\\r\\n Cyclone su...</td>\n",
       "      <td>A hotel in Zimbabwe is sheltering hundreds of ...</td>\n",
       "      <td>2019-03-20T12:23:07Z</td>\n",
       "      <td>Cyclone Idai: The hotel manager providing a sa...</td>\n",
       "      <td>BBC News</td>\n",
       "      <td>0</td>\n",
       "      <td>0</td>\n",
       "      <td>0</td>\n",
       "      <td>1</td>\n",
       "    </tr>\n",
       "    <tr>\n",
       "      <th>101</th>\n",
       "      <td>105</td>\n",
       "      <td>Image caption\\r\\n Fairground rides were affect...</td>\n",
       "      <td>Heavy overnight rain and high winds cause prob...</td>\n",
       "      <td>2019-03-12T10:43:16Z</td>\n",
       "      <td>Flooding hits ahead of Storm Gareth</td>\n",
       "      <td>BBC News</td>\n",
       "      <td>0</td>\n",
       "      <td>0</td>\n",
       "      <td>1</td>\n",
       "      <td>1</td>\n",
       "    </tr>\n",
       "  </tbody>\n",
       "</table>\n",
       "</div>"
      ],
      "text/plain": [
       "     index                                            content  \\\n",
       "0        0  Image copyright EPA Image caption Locals have ...   \n",
       "3        3  Image copyrightAFPImage caption\\r\\n A man inju...   \n",
       "7        8  Image copyrightEPAImage caption\\r\\n The town o...   \n",
       "19      20  Image copyright South Wales Police Image capti...   \n",
       "28      30  Media caption Milford Haven was one of the are...   \n",
       "29      31  Image caption Houses in Llanelli suffered floo...   \n",
       "38      41  Image copyrightReuters\\r\\nA stranded motorist ...   \n",
       "50      53  Image copyright Met Office Image caption The M...   \n",
       "53      57  VideoThousands of people in Sulawesi, Indonesi...   \n",
       "63      67  Image copyrightReutersImage caption\\r\\n Women ...   \n",
       "64      68  Media captionLocalised flooding is affecting p...   \n",
       "69      73  Aid agencies are scrambling to reach survivors...   \n",
       "87      91  Image copyrightAFPImage caption\\r\\n Cyclone su...   \n",
       "101    105  Image caption\\r\\n Fairground rides were affect...   \n",
       "\n",
       "                                           description           publishedAt  \\\n",
       "0    Cyclone Owen has been downgraded to a tropical...  2018-12-15T23:02:13Z   \n",
       "3    The tropical cyclone took governments by surpr...  2019-03-24T00:23:07Z   \n",
       "7    Rescue workers struggle to reach remote parts ...  2019-03-17T12:43:35Z   \n",
       "19   Police urge motorists to take care following a...  2018-11-07T21:55:06Z   \n",
       "28   Heavy rain and flooding is expected on Friday ...  2018-11-09T12:55:40Z   \n",
       "29   When the deluge came down, one coastal town es...  2018-11-28T14:41:18Z   \n",
       "38   A stranded motorist in Mozambique tells of the...  2019-03-22T13:04:55Z   \n",
       "50   The remnants of Hurricane Oscar have caused a ...  2018-11-03T12:32:09Z   \n",
       "53   Thousands of people are being evacuated as fla...  2019-01-25T07:31:01Z   \n",
       "63   The number of cases of the disease has almost ...  2019-04-01T14:38:17Z   \n",
       "64   There are warnings in place in England, Scotla...  2019-03-17T00:56:15Z   \n",
       "69   Parts of southern Africa have been left devast...  2019-03-21T14:57:59Z   \n",
       "87   A hotel in Zimbabwe is sheltering hundreds of ...  2019-03-20T12:23:07Z   \n",
       "101  Heavy overnight rain and high winds cause prob...  2019-03-12T10:43:16Z   \n",
       "\n",
       "                                                 title source_name  \\\n",
       "0    Cyclone Owen downgraded, but could reform off ...    BBC News   \n",
       "3      Cyclone Idai: How prepared was southern Africa?    BBC News   \n",
       "7      Indonesia floods: Dozens dead in Papua province    BBC News   \n",
       "19   Weather warning as car plunges into south Wale...    BBC News   \n",
       "28   Flooding hits roads and homes in Pembrokeshire...    BBC News   \n",
       "29   How Llanelli avoided flooding during Storm Callum    BBC News   \n",
       "38   Cyclone Idai: 'We saw 200 bodies by the roadside'    BBC News   \n",
       "50         Flood warnings issued for parts of Scotland    BBC News   \n",
       "53   Indonesia flash flood sweeps away entire longh...    BBC News   \n",
       "63   Cyclone Idai: First cholera death in Mozambiqu...    BBC News   \n",
       "64          Flood warnings issued across UK after rain    BBC News   \n",
       "69   Cyclone Idai: How the storm tore into southern...    BBC News   \n",
       "87   Cyclone Idai: The hotel manager providing a sa...    BBC News   \n",
       "101                Flooding hits ahead of Storm Gareth    BBC News   \n",
       "\n",
       "     flood_disaster_relevance  preds3  preds31  preds32  \n",
       "0                           0       1        1        1  \n",
       "3                           0       1        1        1  \n",
       "7                           0       1        1        1  \n",
       "19                          0       0        1        1  \n",
       "28                          0       1        1        1  \n",
       "29                          0       0        1        1  \n",
       "38                          0       1        0        1  \n",
       "50                          0       0        1        1  \n",
       "53                          0       1        0        1  \n",
       "63                          0       1        1        1  \n",
       "64                          0       1        1        1  \n",
       "69                          0       1        1        1  \n",
       "87                          0       0        0        1  \n",
       "101                         0       0        1        1  "
      ]
     },
     "execution_count": 91,
     "metadata": {},
     "output_type": "execute_result"
    }
   ],
   "source": [
    "df3[(df3['preds32']==1) & (df3['flood_disaster_relevance']==0)]"
   ]
  },
  {
   "cell_type": "code",
   "execution_count": 92,
   "metadata": {
    "scrolled": true
   },
   "outputs": [
    {
     "data": {
      "text/plain": [
       "'Image caption\\r\\n Fairground rides were affected in Dumfries as flood waters flowed into the Whitesands\\r\\nHeavy overnight rain and high winds have been causing problems across Scotland ahead of Storm Gareth.\\r\\nA Met Office warning of possible travel disruption is in place from  :  on Tuesday until  :  on Wednesday covering a swathe of the west coast.\\r\\nFlooding has already affected many parts of the country with alerts in place in southern and western areas.\\r\\nThere is also widespread disruption on ferries with a number of services cancelled or facing disruption.\\r\\nStrong west to northwesterly winds are expected until Wednesday afternoon with the Met Office saying bus and train services could be affected.\\r\\nShort-term loss of power and other services are also possible.\\r\\nImage caption\\r\\n The level of the River Nith has risen ahead of the warning for Storm Gareth\\r\\nA number of areas have already been hit by flooding or strengthening winds.\\r\\nIn Dumfries, the Whitesands area was flooded with fairground rides being affected as water flowed into car parks.\\r\\nImage caption\\r\\n Drivers in Dumfries were asked to remove vehicles from riverside car parks\\r\\nElsewhere, the Tay Bridge was shut to double deckers with a  mph speed restriction in place.\\r\\nIn the Borders, the B  was closed due to flooding while Calmac reported disruption on a wide range of ferry services.\\r\\nCharts used by surfers to find big waves have forecast wave heights of  ft ( m) or more out to sea off Scotland\\'s west coast.\\r\\nWebsite Magicseaweed.com produces charts and swell models designed to help surfers pinpoint the best sites to enjoy their pursuit.\\r\\nImage copyrightMagicseaweed.comImage caption\\r\\n A last big swell of the winter is being forecast off the west coast of Scotland\\r\\nThe swell predicted for the UK will go on to influence surfing conditions in parts of continental Europe, including Portugal.\\r\\nMagicseaweed.com said these were likely to be the last big swells of the winter.\\r\\nA spokesman said: \"With spring officially open from   March, this looks to be the biggest swell before then. \\r\\n\"The long range forecast suggests there will be another smaller swell pulse on   March, but at the moment it doesn\\'t look to match up to what we\\'re going to see over the next few days.\"'"
      ]
     },
     "execution_count": 92,
     "metadata": {},
     "output_type": "execute_result"
    }
   ],
   "source": [
    "df3.iloc[101,1]"
   ]
  },
  {
   "cell_type": "markdown",
   "metadata": {},
   "source": [
    "### Putting togehter and evaluating all predictions"
   ]
  },
  {
   "cell_type": "code",
   "execution_count": 93,
   "metadata": {},
   "outputs": [
    {
     "data": {
      "text/html": [
       "<div>\n",
       "<style scoped>\n",
       "    .dataframe tbody tr th:only-of-type {\n",
       "        vertical-align: middle;\n",
       "    }\n",
       "\n",
       "    .dataframe tbody tr th {\n",
       "        vertical-align: top;\n",
       "    }\n",
       "\n",
       "    .dataframe thead th {\n",
       "        text-align: right;\n",
       "    }\n",
       "</style>\n",
       "<table border=\"1\" class=\"dataframe\">\n",
       "  <thead>\n",
       "    <tr style=\"text-align: right;\">\n",
       "      <th></th>\n",
       "      <th>pred_neg</th>\n",
       "      <th>pred_pos</th>\n",
       "    </tr>\n",
       "  </thead>\n",
       "  <tbody>\n",
       "    <tr>\n",
       "      <th>actual_neg</th>\n",
       "      <td>549</td>\n",
       "      <td>61</td>\n",
       "    </tr>\n",
       "    <tr>\n",
       "      <th>actual_pos</th>\n",
       "      <td>78</td>\n",
       "      <td>270</td>\n",
       "    </tr>\n",
       "  </tbody>\n",
       "</table>\n",
       "</div>"
      ],
      "text/plain": [
       "            pred_neg  pred_pos\n",
       "actual_neg       549        61\n",
       "actual_pos        78       270"
      ]
     },
     "execution_count": 93,
     "metadata": {},
     "output_type": "execute_result"
    }
   ],
   "source": [
    "cm_df"
   ]
  },
  {
   "cell_type": "code",
   "execution_count": 94,
   "metadata": {},
   "outputs": [
    {
     "data": {
      "text/html": [
       "<div>\n",
       "<style scoped>\n",
       "    .dataframe tbody tr th:only-of-type {\n",
       "        vertical-align: middle;\n",
       "    }\n",
       "\n",
       "    .dataframe tbody tr th {\n",
       "        vertical-align: top;\n",
       "    }\n",
       "\n",
       "    .dataframe thead th {\n",
       "        text-align: right;\n",
       "    }\n",
       "</style>\n",
       "<table border=\"1\" class=\"dataframe\">\n",
       "  <thead>\n",
       "    <tr style=\"text-align: right;\">\n",
       "      <th></th>\n",
       "      <th>pred_neg</th>\n",
       "      <th>pred_pos</th>\n",
       "    </tr>\n",
       "  </thead>\n",
       "  <tbody>\n",
       "    <tr>\n",
       "      <th>actual_neg</th>\n",
       "      <td>564</td>\n",
       "      <td>46</td>\n",
       "    </tr>\n",
       "    <tr>\n",
       "      <th>actual_pos</th>\n",
       "      <td>82</td>\n",
       "      <td>266</td>\n",
       "    </tr>\n",
       "  </tbody>\n",
       "</table>\n",
       "</div>"
      ],
      "text/plain": [
       "            pred_neg  pred_pos\n",
       "actual_neg       564        46\n",
       "actual_pos        82       266"
      ]
     },
     "execution_count": 94,
     "metadata": {},
     "output_type": "execute_result"
    }
   ],
   "source": [
    "cm_df01"
   ]
  },
  {
   "cell_type": "code",
   "execution_count": 95,
   "metadata": {},
   "outputs": [
    {
     "data": {
      "text/html": [
       "<div>\n",
       "<style scoped>\n",
       "    .dataframe tbody tr th:only-of-type {\n",
       "        vertical-align: middle;\n",
       "    }\n",
       "\n",
       "    .dataframe tbody tr th {\n",
       "        vertical-align: top;\n",
       "    }\n",
       "\n",
       "    .dataframe thead th {\n",
       "        text-align: right;\n",
       "    }\n",
       "</style>\n",
       "<table border=\"1\" class=\"dataframe\">\n",
       "  <thead>\n",
       "    <tr style=\"text-align: right;\">\n",
       "      <th></th>\n",
       "      <th>pred_neg</th>\n",
       "      <th>pred_pos</th>\n",
       "    </tr>\n",
       "  </thead>\n",
       "  <tbody>\n",
       "    <tr>\n",
       "      <th>actual_neg</th>\n",
       "      <td>556</td>\n",
       "      <td>54</td>\n",
       "    </tr>\n",
       "    <tr>\n",
       "      <th>actual_pos</th>\n",
       "      <td>58</td>\n",
       "      <td>290</td>\n",
       "    </tr>\n",
       "  </tbody>\n",
       "</table>\n",
       "</div>"
      ],
      "text/plain": [
       "            pred_neg  pred_pos\n",
       "actual_neg       556        54\n",
       "actual_pos        58       290"
      ]
     },
     "execution_count": 95,
     "metadata": {},
     "output_type": "execute_result"
    }
   ],
   "source": [
    "cm_df02"
   ]
  },
  {
   "cell_type": "code",
   "execution_count": 96,
   "metadata": {},
   "outputs": [
    {
     "data": {
      "text/html": [
       "<div>\n",
       "<style scoped>\n",
       "    .dataframe tbody tr th:only-of-type {\n",
       "        vertical-align: middle;\n",
       "    }\n",
       "\n",
       "    .dataframe tbody tr th {\n",
       "        vertical-align: top;\n",
       "    }\n",
       "\n",
       "    .dataframe thead th {\n",
       "        text-align: right;\n",
       "    }\n",
       "</style>\n",
       "<table border=\"1\" class=\"dataframe\">\n",
       "  <thead>\n",
       "    <tr style=\"text-align: right;\">\n",
       "      <th></th>\n",
       "      <th>pred_neg</th>\n",
       "      <th>pred_pos</th>\n",
       "    </tr>\n",
       "  </thead>\n",
       "  <tbody>\n",
       "    <tr>\n",
       "      <th>actual_neg</th>\n",
       "      <td>108</td>\n",
       "      <td>10</td>\n",
       "    </tr>\n",
       "    <tr>\n",
       "      <th>actual_pos</th>\n",
       "      <td>0</td>\n",
       "      <td>9</td>\n",
       "    </tr>\n",
       "  </tbody>\n",
       "</table>\n",
       "</div>"
      ],
      "text/plain": [
       "            pred_neg  pred_pos\n",
       "actual_neg       108        10\n",
       "actual_pos         0         9"
      ]
     },
     "execution_count": 96,
     "metadata": {},
     "output_type": "execute_result"
    }
   ],
   "source": [
    "cm_df3"
   ]
  },
  {
   "cell_type": "code",
   "execution_count": 97,
   "metadata": {},
   "outputs": [
    {
     "data": {
      "text/html": [
       "<div>\n",
       "<style scoped>\n",
       "    .dataframe tbody tr th:only-of-type {\n",
       "        vertical-align: middle;\n",
       "    }\n",
       "\n",
       "    .dataframe tbody tr th {\n",
       "        vertical-align: top;\n",
       "    }\n",
       "\n",
       "    .dataframe thead th {\n",
       "        text-align: right;\n",
       "    }\n",
       "</style>\n",
       "<table border=\"1\" class=\"dataframe\">\n",
       "  <thead>\n",
       "    <tr style=\"text-align: right;\">\n",
       "      <th></th>\n",
       "      <th>pred_neg</th>\n",
       "      <th>pred_pos</th>\n",
       "    </tr>\n",
       "  </thead>\n",
       "  <tbody>\n",
       "    <tr>\n",
       "      <th>actual_neg</th>\n",
       "      <td>105</td>\n",
       "      <td>13</td>\n",
       "    </tr>\n",
       "    <tr>\n",
       "      <th>actual_pos</th>\n",
       "      <td>0</td>\n",
       "      <td>9</td>\n",
       "    </tr>\n",
       "  </tbody>\n",
       "</table>\n",
       "</div>"
      ],
      "text/plain": [
       "            pred_neg  pred_pos\n",
       "actual_neg       105        13\n",
       "actual_pos         0         9"
      ]
     },
     "execution_count": 97,
     "metadata": {},
     "output_type": "execute_result"
    }
   ],
   "source": [
    "cm_df31"
   ]
  },
  {
   "cell_type": "code",
   "execution_count": 98,
   "metadata": {},
   "outputs": [
    {
     "data": {
      "text/html": [
       "<div>\n",
       "<style scoped>\n",
       "    .dataframe tbody tr th:only-of-type {\n",
       "        vertical-align: middle;\n",
       "    }\n",
       "\n",
       "    .dataframe tbody tr th {\n",
       "        vertical-align: top;\n",
       "    }\n",
       "\n",
       "    .dataframe thead th {\n",
       "        text-align: right;\n",
       "    }\n",
       "</style>\n",
       "<table border=\"1\" class=\"dataframe\">\n",
       "  <thead>\n",
       "    <tr style=\"text-align: right;\">\n",
       "      <th></th>\n",
       "      <th>pred_neg</th>\n",
       "      <th>pred_pos</th>\n",
       "    </tr>\n",
       "  </thead>\n",
       "  <tbody>\n",
       "    <tr>\n",
       "      <th>actual_neg</th>\n",
       "      <td>104</td>\n",
       "      <td>14</td>\n",
       "    </tr>\n",
       "    <tr>\n",
       "      <th>actual_pos</th>\n",
       "      <td>0</td>\n",
       "      <td>9</td>\n",
       "    </tr>\n",
       "  </tbody>\n",
       "</table>\n",
       "</div>"
      ],
      "text/plain": [
       "            pred_neg  pred_pos\n",
       "actual_neg       104        14\n",
       "actual_pos         0         9"
      ]
     },
     "execution_count": 98,
     "metadata": {},
     "output_type": "execute_result"
    }
   ],
   "source": [
    "cm_df32"
   ]
  },
  {
   "cell_type": "code",
   "execution_count": null,
   "metadata": {},
   "outputs": [],
   "source": []
  }
 ],
 "metadata": {
  "kernelspec": {
   "display_name": "Python 3",
   "language": "python",
   "name": "python3"
  },
  "language_info": {
   "codemirror_mode": {
    "name": "ipython",
    "version": 3
   },
   "file_extension": ".py",
   "mimetype": "text/x-python",
   "name": "python",
   "nbconvert_exporter": "python",
   "pygments_lexer": "ipython3",
   "version": "3.6.5"
  }
 },
 "nbformat": 4,
 "nbformat_minor": 2
}
