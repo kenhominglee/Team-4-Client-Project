{
 "cells": [
  {
   "cell_type": "markdown",
   "metadata": {},
   "source": [
    "# Project 4: Flood Relevance DataFrame\n",
    "\n",
    "NoteBook Run date: 4/13/2019"
   ]
  },
  {
   "cell_type": "markdown",
   "metadata": {},
   "source": [
    "## Caution: DO NOT RUN the following codes. Codes only ran ONCE!!!"
   ]
  },
  {
   "cell_type": "markdown",
   "metadata": {},
   "source": [
    "### We generate 1000 \"flood\" related articles from 11/5/2018 to 11/4/2019 in News API."
   ]
  },
  {
   "cell_type": "code",
   "execution_count": 14,
   "metadata": {},
   "outputs": [],
   "source": [
    "# True's code provided as follows\n",
    "import requests\n",
    "import pandas as pd\n",
    "\n",
    "url = 'https://newsapi.org/v2/everything?'\n",
    "\n",
    "param = {\n",
    "    'q': 'flood',\n",
    "    'apiKey' : 'e685d6e1420f4882b86d029ed3c1a11d',\n",
    "    'from': '2018-11-5',\n",
    "    'to': '2019-04-11',\n",
    "    'pageSize': 100,\n",
    "    'language': 'en',\n",
    "    'sortBy':'relevancy',\n",
    "    'sources':'the-washington-post, the-new-york-times, reuters, nbc-news, msnbc, google-news, fox-news, cnn, cbs-news, abc-news, associated-press'\n",
    "}\n",
    "\n",
    "every_flood = requests.get(url, params = param)"
   ]
  },
  {
   "cell_type": "code",
   "execution_count": 15,
   "metadata": {},
   "outputs": [
    {
     "name": "stdout",
     "output_type": "stream",
     "text": [
      "2\n",
      "<Response [200]>\n",
      "100\n",
      "3\n",
      "<Response [200]>\n",
      "100\n",
      "4\n",
      "<Response [200]>\n",
      "100\n",
      "5\n",
      "<Response [200]>\n",
      "100\n",
      "6\n",
      "<Response [200]>\n",
      "100\n",
      "7\n",
      "<Response [200]>\n",
      "100\n",
      "8\n",
      "<Response [200]>\n",
      "100\n",
      "9\n",
      "<Response [200]>\n",
      "100\n",
      "10\n",
      "<Response [200]>\n",
      "100\n"
     ]
    }
   ],
   "source": [
    "# Generate 1000 ariticles from News API\n",
    "articles = every_flood.json()['articles']\n",
    "\n",
    "for page in range(2, 11):\n",
    "    print(page)\n",
    "    param['page'] = page\n",
    "    \n",
    "    more_flood = requests.get(url, params = param)\n",
    "    print(more_flood)\n",
    "    \n",
    "    more_flood = more_flood.json()['articles']\n",
    "    print(len(more_flood))\n",
    "    articles.extend(more_flood)"
   ]
  },
  {
   "cell_type": "code",
   "execution_count": 16,
   "metadata": {},
   "outputs": [],
   "source": [
    "# Construct DataFrame to store these thousand articles\n",
    "arts = pd.DataFrame(articles)"
   ]
  },
  {
   "cell_type": "code",
   "execution_count": 17,
   "metadata": {},
   "outputs": [
    {
     "data": {
      "text/plain": [
       "(1000, 8)"
      ]
     },
     "execution_count": 17,
     "metadata": {},
     "output_type": "execute_result"
    }
   ],
   "source": [
    "# Display the dimension of original articles of the DataFrame \n",
    "arts.shape"
   ]
  },
  {
   "cell_type": "code",
   "execution_count": 18,
   "metadata": {},
   "outputs": [
    {
     "data": {
      "text/html": [
       "<div>\n",
       "<style scoped>\n",
       "    .dataframe tbody tr th:only-of-type {\n",
       "        vertical-align: middle;\n",
       "    }\n",
       "\n",
       "    .dataframe tbody tr th {\n",
       "        vertical-align: top;\n",
       "    }\n",
       "\n",
       "    .dataframe thead th {\n",
       "        text-align: right;\n",
       "    }\n",
       "</style>\n",
       "<table border=\"1\" class=\"dataframe\">\n",
       "  <thead>\n",
       "    <tr style=\"text-align: right;\">\n",
       "      <th></th>\n",
       "      <th>author</th>\n",
       "      <th>content</th>\n",
       "      <th>description</th>\n",
       "      <th>publishedAt</th>\n",
       "      <th>source</th>\n",
       "      <th>title</th>\n",
       "      <th>url</th>\n",
       "      <th>urlToImage</th>\n",
       "    </tr>\n",
       "  </thead>\n",
       "  <tbody>\n",
       "    <tr>\n",
       "      <th>0</th>\n",
       "      <td>None</td>\n",
       "      <td>Chat with us in Facebook Messenger. Find out w...</td>\n",
       "      <td>A pair of environmental reports reveal the wor...</td>\n",
       "      <td>2019-01-16T22:52:24Z</td>\n",
       "      <td>{'id': 'cnn', 'name': 'CNN'}</td>\n",
       "      <td>Melting ice could flood Brooklyn Bridge</td>\n",
       "      <td>https://www.cnn.com/videos/world/2019/01/16/an...</td>\n",
       "      <td>https://cdn.cnn.com/cnnnext/dam/assets/1901161...</td>\n",
       "    </tr>\n",
       "    <tr>\n",
       "      <th>1</th>\n",
       "      <td>THE ASSOCIATED PRESS</td>\n",
       "      <td>The aid group said it had seen hundreds of cas...</td>\n",
       "      <td>With vast areas submerged by contaminated wate...</td>\n",
       "      <td>2019-03-27T15:49:20Z</td>\n",
       "      <td>{'id': 'the-new-york-times', 'name': 'The New ...</td>\n",
       "      <td>Cholera Outbreak Raises New Danger in Flood-Ra...</td>\n",
       "      <td>https://www.nytimes.com/2019/03/27/world/afric...</td>\n",
       "      <td>https://static01.nyt.com/images/2019/03/27/wor...</td>\n",
       "    </tr>\n",
       "    <tr>\n",
       "      <th>2</th>\n",
       "      <td>CORINNA da FONSECA-WOLLHEIM</td>\n",
       "      <td>Finding settings that amplify an operas drama ...</td>\n",
       "      <td>From left: Kristine Flood, Wanda Ferrerias, Ma...</td>\n",
       "      <td>2018-12-04T17:05:05Z</td>\n",
       "      <td>{'id': 'the-new-york-times', 'name': 'The New ...</td>\n",
       "      <td>After Struggling With Homelessness, a Chorus S...</td>\n",
       "      <td>https://www.nytimes.com/2018/12/04/arts/music/...</td>\n",
       "      <td>https://static01.nyt.com/images/2018/12/05/art...</td>\n",
       "    </tr>\n",
       "    <tr>\n",
       "      <th>3</th>\n",
       "      <td>RICHARD A. OPPEL Jr.</td>\n",
       "      <td>The amount the ground can soak up is limited, ...</td>\n",
       "      <td>Flooding in the town of Hamburg, Iowa, on Marc...</td>\n",
       "      <td>2019-04-08T20:58:04Z</td>\n",
       "      <td>{'id': 'the-new-york-times', 'name': 'The New ...</td>\n",
       "      <td>Powerful Storm Threatens More Misery in Flood-...</td>\n",
       "      <td>https://www.nytimes.com/2019/04/08/us/winter-s...</td>\n",
       "      <td>https://static01.nyt.com/images/2019/04/08/us/...</td>\n",
       "    </tr>\n",
       "    <tr>\n",
       "      <th>4</th>\n",
       "      <td>MITCH SMITH, JOHN SCHWARTZ and TIM GRUBER</td>\n",
       "      <td>Many of the levees, usually earthen and topped...</td>\n",
       "      <td>Hundreds of miles of levees in the Midwest hav...</td>\n",
       "      <td>2019-03-31T09:00:10Z</td>\n",
       "      <td>{'id': 'the-new-york-times', 'name': 'The New ...</td>\n",
       "      <td>‘Breaches Everywhere’: Midwest Levees Burst, a...</td>\n",
       "      <td>https://www.nytimes.com/2019/03/31/us/midwest-...</td>\n",
       "      <td>https://static01.nyt.com/images/2019/03/29/us/...</td>\n",
       "    </tr>\n",
       "  </tbody>\n",
       "</table>\n",
       "</div>"
      ],
      "text/plain": [
       "                                      author  \\\n",
       "0                                       None   \n",
       "1                       THE ASSOCIATED PRESS   \n",
       "2                CORINNA da FONSECA-WOLLHEIM   \n",
       "3                       RICHARD A. OPPEL Jr.   \n",
       "4  MITCH SMITH, JOHN SCHWARTZ and TIM GRUBER   \n",
       "\n",
       "                                             content  \\\n",
       "0  Chat with us in Facebook Messenger. Find out w...   \n",
       "1  The aid group said it had seen hundreds of cas...   \n",
       "2  Finding settings that amplify an operas drama ...   \n",
       "3  The amount the ground can soak up is limited, ...   \n",
       "4  Many of the levees, usually earthen and topped...   \n",
       "\n",
       "                                         description           publishedAt  \\\n",
       "0  A pair of environmental reports reveal the wor...  2019-01-16T22:52:24Z   \n",
       "1  With vast areas submerged by contaminated wate...  2019-03-27T15:49:20Z   \n",
       "2  From left: Kristine Flood, Wanda Ferrerias, Ma...  2018-12-04T17:05:05Z   \n",
       "3  Flooding in the town of Hamburg, Iowa, on Marc...  2019-04-08T20:58:04Z   \n",
       "4  Hundreds of miles of levees in the Midwest hav...  2019-03-31T09:00:10Z   \n",
       "\n",
       "                                              source  \\\n",
       "0                       {'id': 'cnn', 'name': 'CNN'}   \n",
       "1  {'id': 'the-new-york-times', 'name': 'The New ...   \n",
       "2  {'id': 'the-new-york-times', 'name': 'The New ...   \n",
       "3  {'id': 'the-new-york-times', 'name': 'The New ...   \n",
       "4  {'id': 'the-new-york-times', 'name': 'The New ...   \n",
       "\n",
       "                                               title  \\\n",
       "0            Melting ice could flood Brooklyn Bridge   \n",
       "1  Cholera Outbreak Raises New Danger in Flood-Ra...   \n",
       "2  After Struggling With Homelessness, a Chorus S...   \n",
       "3  Powerful Storm Threatens More Misery in Flood-...   \n",
       "4  ‘Breaches Everywhere’: Midwest Levees Burst, a...   \n",
       "\n",
       "                                                 url  \\\n",
       "0  https://www.cnn.com/videos/world/2019/01/16/an...   \n",
       "1  https://www.nytimes.com/2019/03/27/world/afric...   \n",
       "2  https://www.nytimes.com/2018/12/04/arts/music/...   \n",
       "3  https://www.nytimes.com/2019/04/08/us/winter-s...   \n",
       "4  https://www.nytimes.com/2019/03/31/us/midwest-...   \n",
       "\n",
       "                                          urlToImage  \n",
       "0  https://cdn.cnn.com/cnnnext/dam/assets/1901161...  \n",
       "1  https://static01.nyt.com/images/2019/03/27/wor...  \n",
       "2  https://static01.nyt.com/images/2018/12/05/art...  \n",
       "3  https://static01.nyt.com/images/2019/04/08/us/...  \n",
       "4  https://static01.nyt.com/images/2019/03/29/us/...  "
      ]
     },
     "execution_count": 18,
     "metadata": {},
     "output_type": "execute_result"
    }
   ],
   "source": [
    "# List first five row of the original DataFrame\n",
    "arts.head()"
   ]
  },
  {
   "cell_type": "code",
   "execution_count": 19,
   "metadata": {},
   "outputs": [],
   "source": [
    "# Refine the columns from the DataFrame\n",
    "arts['source_id'] = arts['source'].map(lambda x: x['id'])\n",
    "arts['source_name'] = arts['source'].map(lambda x: x['name'])\n",
    "arts.drop(columns = ['source','url','urlToImage','source_id','author'], inplace=True)\n",
    "arts['flood_relevance'] = 0"
   ]
  },
  {
   "cell_type": "code",
   "execution_count": 20,
   "metadata": {},
   "outputs": [
    {
     "data": {
      "text/plain": [
       "(1000, 6)"
      ]
     },
     "execution_count": 20,
     "metadata": {},
     "output_type": "execute_result"
    }
   ],
   "source": [
    "# Display the modified DataFrame dimension\n",
    "arts.shape"
   ]
  },
  {
   "cell_type": "code",
   "execution_count": 21,
   "metadata": {},
   "outputs": [
    {
     "data": {
      "text/html": [
       "<div>\n",
       "<style scoped>\n",
       "    .dataframe tbody tr th:only-of-type {\n",
       "        vertical-align: middle;\n",
       "    }\n",
       "\n",
       "    .dataframe tbody tr th {\n",
       "        vertical-align: top;\n",
       "    }\n",
       "\n",
       "    .dataframe thead th {\n",
       "        text-align: right;\n",
       "    }\n",
       "</style>\n",
       "<table border=\"1\" class=\"dataframe\">\n",
       "  <thead>\n",
       "    <tr style=\"text-align: right;\">\n",
       "      <th></th>\n",
       "      <th>content</th>\n",
       "      <th>description</th>\n",
       "      <th>publishedAt</th>\n",
       "      <th>title</th>\n",
       "      <th>source_name</th>\n",
       "      <th>flood_relevance</th>\n",
       "    </tr>\n",
       "  </thead>\n",
       "  <tbody>\n",
       "    <tr>\n",
       "      <th>0</th>\n",
       "      <td>Chat with us in Facebook Messenger. Find out w...</td>\n",
       "      <td>A pair of environmental reports reveal the wor...</td>\n",
       "      <td>2019-01-16T22:52:24Z</td>\n",
       "      <td>Melting ice could flood Brooklyn Bridge</td>\n",
       "      <td>CNN</td>\n",
       "      <td>0</td>\n",
       "    </tr>\n",
       "    <tr>\n",
       "      <th>1</th>\n",
       "      <td>The aid group said it had seen hundreds of cas...</td>\n",
       "      <td>With vast areas submerged by contaminated wate...</td>\n",
       "      <td>2019-03-27T15:49:20Z</td>\n",
       "      <td>Cholera Outbreak Raises New Danger in Flood-Ra...</td>\n",
       "      <td>The New York Times</td>\n",
       "      <td>0</td>\n",
       "    </tr>\n",
       "    <tr>\n",
       "      <th>2</th>\n",
       "      <td>Finding settings that amplify an operas drama ...</td>\n",
       "      <td>From left: Kristine Flood, Wanda Ferrerias, Ma...</td>\n",
       "      <td>2018-12-04T17:05:05Z</td>\n",
       "      <td>After Struggling With Homelessness, a Chorus S...</td>\n",
       "      <td>The New York Times</td>\n",
       "      <td>0</td>\n",
       "    </tr>\n",
       "    <tr>\n",
       "      <th>3</th>\n",
       "      <td>The amount the ground can soak up is limited, ...</td>\n",
       "      <td>Flooding in the town of Hamburg, Iowa, on Marc...</td>\n",
       "      <td>2019-04-08T20:58:04Z</td>\n",
       "      <td>Powerful Storm Threatens More Misery in Flood-...</td>\n",
       "      <td>The New York Times</td>\n",
       "      <td>0</td>\n",
       "    </tr>\n",
       "    <tr>\n",
       "      <th>4</th>\n",
       "      <td>Many of the levees, usually earthen and topped...</td>\n",
       "      <td>Hundreds of miles of levees in the Midwest hav...</td>\n",
       "      <td>2019-03-31T09:00:10Z</td>\n",
       "      <td>‘Breaches Everywhere’: Midwest Levees Burst, a...</td>\n",
       "      <td>The New York Times</td>\n",
       "      <td>0</td>\n",
       "    </tr>\n",
       "    <tr>\n",
       "      <th>5</th>\n",
       "      <td>Many of the works in Programmed: Rules, Codes ...</td>\n",
       "      <td>The artist’s monumental video wall, featuring ...</td>\n",
       "      <td>2019-04-04T17:45:31Z</td>\n",
       "      <td>Last Chance: Nam June Paik at the Whitney: A W...</td>\n",
       "      <td>The New York Times</td>\n",
       "      <td>0</td>\n",
       "    </tr>\n",
       "    <tr>\n",
       "      <th>6</th>\n",
       "      <td>In the states appeal, titled, as is the other ...</td>\n",
       "      <td>Republican presidents sought judges who could ...</td>\n",
       "      <td>2019-03-28T10:00:06Z</td>\n",
       "      <td>The Flood of Court Cases That Threaten Abortion</td>\n",
       "      <td>The New York Times</td>\n",
       "      <td>0</td>\n",
       "    </tr>\n",
       "    <tr>\n",
       "      <th>7</th>\n",
       "      <td>The aid group said it had seen hundreds of cas...</td>\n",
       "      <td>With vast areas submerged by contaminated wate...</td>\n",
       "      <td>2019-03-27T15:49:20Z</td>\n",
       "      <td>Cholera Outbreak Raises New Danger in Flood-Ra...</td>\n",
       "      <td>The New York Times</td>\n",
       "      <td>0</td>\n",
       "    </tr>\n",
       "    <tr>\n",
       "      <th>8</th>\n",
       "      <td>Chat with us in Facebook Messenger. Find out w...</td>\n",
       "      <td>Ellen Degeneres tweeted a video of the road to...</td>\n",
       "      <td>2019-02-04T07:42:56Z</td>\n",
       "      <td>Ellen Degeneres tweets video of flood blocking...</td>\n",
       "      <td>CNN</td>\n",
       "      <td>0</td>\n",
       "    </tr>\n",
       "    <tr>\n",
       "      <th>9</th>\n",
       "      <td>There is nothing wrong with this, or with thin...</td>\n",
       "      <td>Gov. J.B. Pritzker, center, with Bill Hadley, ...</td>\n",
       "      <td>2019-04-01T13:21:40Z</td>\n",
       "      <td>Unbuttoned: Hey, Governor, What Are You Wearing?</td>\n",
       "      <td>The New York Times</td>\n",
       "      <td>0</td>\n",
       "    </tr>\n",
       "  </tbody>\n",
       "</table>\n",
       "</div>"
      ],
      "text/plain": [
       "                                             content  \\\n",
       "0  Chat with us in Facebook Messenger. Find out w...   \n",
       "1  The aid group said it had seen hundreds of cas...   \n",
       "2  Finding settings that amplify an operas drama ...   \n",
       "3  The amount the ground can soak up is limited, ...   \n",
       "4  Many of the levees, usually earthen and topped...   \n",
       "5  Many of the works in Programmed: Rules, Codes ...   \n",
       "6  In the states appeal, titled, as is the other ...   \n",
       "7  The aid group said it had seen hundreds of cas...   \n",
       "8  Chat with us in Facebook Messenger. Find out w...   \n",
       "9  There is nothing wrong with this, or with thin...   \n",
       "\n",
       "                                         description           publishedAt  \\\n",
       "0  A pair of environmental reports reveal the wor...  2019-01-16T22:52:24Z   \n",
       "1  With vast areas submerged by contaminated wate...  2019-03-27T15:49:20Z   \n",
       "2  From left: Kristine Flood, Wanda Ferrerias, Ma...  2018-12-04T17:05:05Z   \n",
       "3  Flooding in the town of Hamburg, Iowa, on Marc...  2019-04-08T20:58:04Z   \n",
       "4  Hundreds of miles of levees in the Midwest hav...  2019-03-31T09:00:10Z   \n",
       "5  The artist’s monumental video wall, featuring ...  2019-04-04T17:45:31Z   \n",
       "6  Republican presidents sought judges who could ...  2019-03-28T10:00:06Z   \n",
       "7  With vast areas submerged by contaminated wate...  2019-03-27T15:49:20Z   \n",
       "8  Ellen Degeneres tweeted a video of the road to...  2019-02-04T07:42:56Z   \n",
       "9  Gov. J.B. Pritzker, center, with Bill Hadley, ...  2019-04-01T13:21:40Z   \n",
       "\n",
       "                                               title         source_name  \\\n",
       "0            Melting ice could flood Brooklyn Bridge                 CNN   \n",
       "1  Cholera Outbreak Raises New Danger in Flood-Ra...  The New York Times   \n",
       "2  After Struggling With Homelessness, a Chorus S...  The New York Times   \n",
       "3  Powerful Storm Threatens More Misery in Flood-...  The New York Times   \n",
       "4  ‘Breaches Everywhere’: Midwest Levees Burst, a...  The New York Times   \n",
       "5  Last Chance: Nam June Paik at the Whitney: A W...  The New York Times   \n",
       "6    The Flood of Court Cases That Threaten Abortion  The New York Times   \n",
       "7  Cholera Outbreak Raises New Danger in Flood-Ra...  The New York Times   \n",
       "8  Ellen Degeneres tweets video of flood blocking...                 CNN   \n",
       "9   Unbuttoned: Hey, Governor, What Are You Wearing?  The New York Times   \n",
       "\n",
       "   flood_relevance  \n",
       "0                0  \n",
       "1                0  \n",
       "2                0  \n",
       "3                0  \n",
       "4                0  \n",
       "5                0  \n",
       "6                0  \n",
       "7                0  \n",
       "8                0  \n",
       "9                0  "
      ]
     },
     "execution_count": 21,
     "metadata": {},
     "output_type": "execute_result"
    }
   ],
   "source": [
    "arts.head(10)"
   ]
  },
  {
   "cell_type": "code",
   "execution_count": 22,
   "metadata": {},
   "outputs": [
    {
     "data": {
      "text/plain": [
       "Index(['content', 'description', 'publishedAt', 'title', 'source_name',\n",
       "       'flood_relevance'],\n",
       "      dtype='object')"
      ]
     },
     "execution_count": 22,
     "metadata": {},
     "output_type": "execute_result"
    }
   ],
   "source": [
    "arts.columns"
   ]
  },
  {
   "cell_type": "code",
   "execution_count": 23,
   "metadata": {},
   "outputs": [
    {
     "data": {
      "text/plain": [
       "(1000, 6)"
      ]
     },
     "execution_count": 23,
     "metadata": {},
     "output_type": "execute_result"
    }
   ],
   "source": [
    "arts.shape"
   ]
  },
  {
   "cell_type": "code",
   "execution_count": 24,
   "metadata": {},
   "outputs": [],
   "source": [
    "def read_this(k):\n",
    "    print(arts.iloc[k]['content'])\n",
    "    print(arts.iloc[k]['description'])\n",
    "    print(arts.iloc[k]['title'])"
   ]
  },
  {
   "cell_type": "code",
   "execution_count": 25,
   "metadata": {},
   "outputs": [
    {
     "name": "stdout",
     "output_type": "stream",
     "text": [
      "Chat with us in Facebook Messenger. Find out what's happening in the world as it unfolds.\n",
      "A pair of environmental reports reveal the world has both the warmest oceans and the greatest loss of Antarctic ice ever measured. CNN's Jennifer Gray explains what that could mean for the world's sea levels.\n",
      "Melting ice could flood Brooklyn Bridge\n"
     ]
    }
   ],
   "source": [
    "read_this(0)"
   ]
  },
  {
   "cell_type": "code",
   "execution_count": 26,
   "metadata": {},
   "outputs": [],
   "source": [
    "# Exports files to csv format\n",
    "arts.to_csv('../datasets/floods.csv', index=False)"
   ]
  },
  {
   "cell_type": "code",
   "execution_count": null,
   "metadata": {},
   "outputs": [],
   "source": []
  }
 ],
 "metadata": {
  "kernelspec": {
   "display_name": "Python 3",
   "language": "python",
   "name": "python3"
  },
  "language_info": {
   "codemirror_mode": {
    "name": "ipython",
    "version": 3
   },
   "file_extension": ".py",
   "mimetype": "text/x-python",
   "name": "python",
   "nbconvert_exporter": "python",
   "pygments_lexer": "ipython3",
   "version": "3.6.5"
  }
 },
 "nbformat": 4,
 "nbformat_minor": 2
}
