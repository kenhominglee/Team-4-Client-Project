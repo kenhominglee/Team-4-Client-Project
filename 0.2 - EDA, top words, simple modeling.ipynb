{
 "cells": [
  {
   "cell_type": "markdown",
   "metadata": {},
   "source": [
    "## Flood CSV"
   ]
  },
  {
   "cell_type": "code",
   "execution_count": 2,
   "metadata": {},
   "outputs": [],
   "source": [
    "import pandas as pd\n",
    "import numpy as np\n",
    "import seaborn as sns\n",
    "import matplotlib.pyplot as plt\n",
    "from bs4 import BeautifulSoup\n",
    "import re\n",
    "from nltk.corpus import stopwords\n",
    "from nltk.stem import WordNetLemmatizer\n",
    "from sklearn.feature_extraction.text import CountVectorizer, TfidfVectorizer\n",
    "from scipy.stats import ttest_ind\n",
    "from sklearn.model_selection import train_test_split\n",
    "from sklearn.pipeline import Pipeline\n",
    "from sklearn.metrics import confusion_matrix\n",
    "from sklearn.naive_bayes import MultinomialNB\n",
    "from sklearn.linear_model import LogisticRegression\n",
    "\n",
    "from pactools.grid_search import GridSearchCVProgressBar\n",
    "\n",
    "%matplotlib inline"
   ]
  },
  {
   "cell_type": "code",
   "execution_count": 3,
   "metadata": {},
   "outputs": [
    {
     "data": {
      "text/html": [
       "<div>\n",
       "<style scoped>\n",
       "    .dataframe tbody tr th:only-of-type {\n",
       "        vertical-align: middle;\n",
       "    }\n",
       "\n",
       "    .dataframe tbody tr th {\n",
       "        vertical-align: top;\n",
       "    }\n",
       "\n",
       "    .dataframe thead th {\n",
       "        text-align: right;\n",
       "    }\n",
       "</style>\n",
       "<table border=\"1\" class=\"dataframe\">\n",
       "  <thead>\n",
       "    <tr style=\"text-align: right;\">\n",
       "      <th></th>\n",
       "      <th>content</th>\n",
       "      <th>description</th>\n",
       "      <th>publishedAt</th>\n",
       "      <th>title</th>\n",
       "      <th>source_name</th>\n",
       "      <th>flood_relevance</th>\n",
       "    </tr>\n",
       "  </thead>\n",
       "  <tbody>\n",
       "    <tr>\n",
       "      <th>0</th>\n",
       "      <td>Chat with us in Facebook Messenger. Find out w...</td>\n",
       "      <td>A pair of environmental reports reveal the wor...</td>\n",
       "      <td>2019-01-16T22:52:24Z</td>\n",
       "      <td>Melting ice could flood Brooklyn Bridge</td>\n",
       "      <td>CNN</td>\n",
       "      <td>0</td>\n",
       "    </tr>\n",
       "    <tr>\n",
       "      <th>3</th>\n",
       "      <td>The amount the ground can soak up is limited, ...</td>\n",
       "      <td>Flooding in the town of Hamburg, Iowa, on Marc...</td>\n",
       "      <td>2019-04-08T20:58:04Z</td>\n",
       "      <td>Powerful Storm Threatens More Misery in Flood-...</td>\n",
       "      <td>The New York Times</td>\n",
       "      <td>1</td>\n",
       "    </tr>\n",
       "    <tr>\n",
       "      <th>5</th>\n",
       "      <td>Many of the works in Programmed: Rules, Codes ...</td>\n",
       "      <td>The artist’s monumental video wall, featuring ...</td>\n",
       "      <td>2019-04-04T17:45:31Z</td>\n",
       "      <td>Last Chance: Nam June Paik at the Whitney: A W...</td>\n",
       "      <td>The New York Times</td>\n",
       "      <td>0</td>\n",
       "    </tr>\n",
       "    <tr>\n",
       "      <th>56</th>\n",
       "      <td>This means that electric utilities, in particu...</td>\n",
       "      <td>A firefighter checked out burned vehicles and ...</td>\n",
       "      <td>2019-01-29T19:09:38Z</td>\n",
       "      <td>The Very High Costs of Climate Risk</td>\n",
       "      <td>The New York Times</td>\n",
       "      <td>0</td>\n",
       "    </tr>\n",
       "    <tr>\n",
       "      <th>70</th>\n",
       "      <td>A major storm is now moving out of the Northwe...</td>\n",
       "      <td>A tornado was observed in Port Orchard, Washin...</td>\n",
       "      <td>2018-12-19T12:20:27Z</td>\n",
       "      <td>Storm that spawned tornado in Washington now m...</td>\n",
       "      <td>ABC News</td>\n",
       "      <td>1</td>\n",
       "    </tr>\n",
       "  </tbody>\n",
       "</table>\n",
       "</div>"
      ],
      "text/plain": [
       "                                              content  \\\n",
       "0   Chat with us in Facebook Messenger. Find out w...   \n",
       "3   The amount the ground can soak up is limited, ...   \n",
       "5   Many of the works in Programmed: Rules, Codes ...   \n",
       "56  This means that electric utilities, in particu...   \n",
       "70  A major storm is now moving out of the Northwe...   \n",
       "\n",
       "                                          description           publishedAt  \\\n",
       "0   A pair of environmental reports reveal the wor...  2019-01-16T22:52:24Z   \n",
       "3   Flooding in the town of Hamburg, Iowa, on Marc...  2019-04-08T20:58:04Z   \n",
       "5   The artist’s monumental video wall, featuring ...  2019-04-04T17:45:31Z   \n",
       "56  A firefighter checked out burned vehicles and ...  2019-01-29T19:09:38Z   \n",
       "70  A tornado was observed in Port Orchard, Washin...  2018-12-19T12:20:27Z   \n",
       "\n",
       "                                                title         source_name  \\\n",
       "0             Melting ice could flood Brooklyn Bridge                 CNN   \n",
       "3   Powerful Storm Threatens More Misery in Flood-...  The New York Times   \n",
       "5   Last Chance: Nam June Paik at the Whitney: A W...  The New York Times   \n",
       "56                The Very High Costs of Climate Risk  The New York Times   \n",
       "70  Storm that spawned tornado in Washington now m...            ABC News   \n",
       "\n",
       "    flood_relevance  \n",
       "0                 0  \n",
       "3                 1  \n",
       "5                 0  \n",
       "56                0  \n",
       "70                1  "
      ]
     },
     "execution_count": 3,
     "metadata": {},
     "output_type": "execute_result"
    }
   ],
   "source": [
    "df = pd.read_csv('./floods_relevance (1).csv')\n",
    "df.loc[[0,3,5,56,70], :]\n",
    "\n",
    "# this was used in our presentation to show a good snapshot of our articles and how we classified them"
   ]
  },
  {
   "cell_type": "code",
   "execution_count": 4,
   "metadata": {},
   "outputs": [
    {
     "data": {
      "text/plain": [
       "0    0.634\n",
       "1    0.366\n",
       "Name: flood_relevance, dtype: float64"
      ]
     },
     "execution_count": 4,
     "metadata": {},
     "output_type": "execute_result"
    }
   ],
   "source": [
    "df['flood_relevance'].value_counts( normalize = True)"
   ]
  },
  {
   "cell_type": "markdown",
   "metadata": {},
   "source": [
    "A few things I'm curious about:\n",
    "1. Does the length of the article (word count) have any correlation with relevance?\n",
    "2. What are the most frequent words?\n"
   ]
  },
  {
   "cell_type": "code",
   "execution_count": 5,
   "metadata": {},
   "outputs": [
    {
     "data": {
      "text/plain": [
       "content            object\n",
       "description        object\n",
       "publishedAt        object\n",
       "title              object\n",
       "source_name        object\n",
       "flood_relevance     int64\n",
       "dtype: object"
      ]
     },
     "execution_count": 5,
     "metadata": {},
     "output_type": "execute_result"
    }
   ],
   "source": [
    "df.dtypes"
   ]
  },
  {
   "cell_type": "code",
   "execution_count": 6,
   "metadata": {},
   "outputs": [
    {
     "data": {
      "text/plain": [
       "0    6\n",
       "1    8\n",
       "2    9\n",
       "3    8\n",
       "4    9\n",
       "Name: title_word_count, dtype: int64"
      ]
     },
     "execution_count": 6,
     "metadata": {},
     "output_type": "execute_result"
    }
   ],
   "source": [
    "df['title_word_count'] = df['title'].map(lambda x: len(x.split()))\n",
    "df['title_word_count'].head()"
   ]
  },
  {
   "cell_type": "code",
   "execution_count": 7,
   "metadata": {},
   "outputs": [],
   "source": [
    "# throwing an error because some entries are (weirdly) floats, not strings:\n",
    "df[['content']] = df[['content']].applymap(str)"
   ]
  },
  {
   "cell_type": "code",
   "execution_count": 8,
   "metadata": {},
   "outputs": [
    {
     "data": {
      "text/plain": [
       "0     16\n",
       "1    216\n",
       "2    222\n",
       "3    315\n",
       "4    440\n",
       "Name: article_word_count, dtype: int64"
      ]
     },
     "execution_count": 8,
     "metadata": {},
     "output_type": "execute_result"
    }
   ],
   "source": [
    "df['article_word_count'] = df['content'].map(lambda x: len(x.split()))\n",
    "df['article_word_count'].head()"
   ]
  },
  {
   "cell_type": "code",
   "execution_count": 9,
   "metadata": {},
   "outputs": [
    {
     "data": {
      "text/html": [
       "<div>\n",
       "<style scoped>\n",
       "    .dataframe tbody tr th:only-of-type {\n",
       "        vertical-align: middle;\n",
       "    }\n",
       "\n",
       "    .dataframe tbody tr th {\n",
       "        vertical-align: top;\n",
       "    }\n",
       "\n",
       "    .dataframe thead th {\n",
       "        text-align: right;\n",
       "    }\n",
       "</style>\n",
       "<table border=\"1\" class=\"dataframe\">\n",
       "  <thead>\n",
       "    <tr style=\"text-align: right;\">\n",
       "      <th></th>\n",
       "      <th>content</th>\n",
       "      <th>description</th>\n",
       "      <th>publishedAt</th>\n",
       "      <th>title</th>\n",
       "      <th>source_name</th>\n",
       "      <th>flood_relevance</th>\n",
       "      <th>title_word_count</th>\n",
       "      <th>article_word_count</th>\n",
       "    </tr>\n",
       "  </thead>\n",
       "  <tbody>\n",
       "    <tr>\n",
       "      <th>0</th>\n",
       "      <td>Chat with us in Facebook Messenger. Find out w...</td>\n",
       "      <td>A pair of environmental reports reveal the wor...</td>\n",
       "      <td>2019-01-16T22:52:24Z</td>\n",
       "      <td>Melting ice could flood Brooklyn Bridge</td>\n",
       "      <td>CNN</td>\n",
       "      <td>0</td>\n",
       "      <td>6</td>\n",
       "      <td>16</td>\n",
       "    </tr>\n",
       "    <tr>\n",
       "      <th>1</th>\n",
       "      <td>The aid group said it had seen hundreds of cas...</td>\n",
       "      <td>With vast areas submerged by contaminated wate...</td>\n",
       "      <td>2019-03-27T15:49:20Z</td>\n",
       "      <td>Cholera Outbreak Raises New Danger in Flood-Ra...</td>\n",
       "      <td>The New York Times</td>\n",
       "      <td>0</td>\n",
       "      <td>8</td>\n",
       "      <td>216</td>\n",
       "    </tr>\n",
       "    <tr>\n",
       "      <th>2</th>\n",
       "      <td>Finding settings that amplify an operas drama ...</td>\n",
       "      <td>From left: Kristine Flood, Wanda Ferrerias, Ma...</td>\n",
       "      <td>2018-12-04T17:05:05Z</td>\n",
       "      <td>After Struggling With Homelessness, a Chorus S...</td>\n",
       "      <td>The New York Times</td>\n",
       "      <td>0</td>\n",
       "      <td>9</td>\n",
       "      <td>222</td>\n",
       "    </tr>\n",
       "    <tr>\n",
       "      <th>3</th>\n",
       "      <td>The amount the ground can soak up is limited, ...</td>\n",
       "      <td>Flooding in the town of Hamburg, Iowa, on Marc...</td>\n",
       "      <td>2019-04-08T20:58:04Z</td>\n",
       "      <td>Powerful Storm Threatens More Misery in Flood-...</td>\n",
       "      <td>The New York Times</td>\n",
       "      <td>1</td>\n",
       "      <td>8</td>\n",
       "      <td>315</td>\n",
       "    </tr>\n",
       "    <tr>\n",
       "      <th>4</th>\n",
       "      <td>Many of the levees, usually earthen and topped...</td>\n",
       "      <td>Hundreds of miles of levees in the Midwest hav...</td>\n",
       "      <td>2019-03-31T09:00:10Z</td>\n",
       "      <td>‘Breaches Everywhere’: Midwest Levees Burst, a...</td>\n",
       "      <td>The New York Times</td>\n",
       "      <td>0</td>\n",
       "      <td>9</td>\n",
       "      <td>440</td>\n",
       "    </tr>\n",
       "  </tbody>\n",
       "</table>\n",
       "</div>"
      ],
      "text/plain": [
       "                                             content  \\\n",
       "0  Chat with us in Facebook Messenger. Find out w...   \n",
       "1  The aid group said it had seen hundreds of cas...   \n",
       "2  Finding settings that amplify an operas drama ...   \n",
       "3  The amount the ground can soak up is limited, ...   \n",
       "4  Many of the levees, usually earthen and topped...   \n",
       "\n",
       "                                         description           publishedAt  \\\n",
       "0  A pair of environmental reports reveal the wor...  2019-01-16T22:52:24Z   \n",
       "1  With vast areas submerged by contaminated wate...  2019-03-27T15:49:20Z   \n",
       "2  From left: Kristine Flood, Wanda Ferrerias, Ma...  2018-12-04T17:05:05Z   \n",
       "3  Flooding in the town of Hamburg, Iowa, on Marc...  2019-04-08T20:58:04Z   \n",
       "4  Hundreds of miles of levees in the Midwest hav...  2019-03-31T09:00:10Z   \n",
       "\n",
       "                                               title         source_name  \\\n",
       "0            Melting ice could flood Brooklyn Bridge                 CNN   \n",
       "1  Cholera Outbreak Raises New Danger in Flood-Ra...  The New York Times   \n",
       "2  After Struggling With Homelessness, a Chorus S...  The New York Times   \n",
       "3  Powerful Storm Threatens More Misery in Flood-...  The New York Times   \n",
       "4  ‘Breaches Everywhere’: Midwest Levees Burst, a...  The New York Times   \n",
       "\n",
       "   flood_relevance  title_word_count  article_word_count  \n",
       "0                0                 6                  16  \n",
       "1                0                 8                 216  \n",
       "2                0                 9                 222  \n",
       "3                1                 8                 315  \n",
       "4                0                 9                 440  "
      ]
     },
     "execution_count": 9,
     "metadata": {},
     "output_type": "execute_result"
    }
   ],
   "source": [
    "df.head()"
   ]
  },
  {
   "cell_type": "code",
   "execution_count": 10,
   "metadata": {},
   "outputs": [
    {
     "data": {
      "text/plain": [
       "<matplotlib.axes._subplots.AxesSubplot at 0x106be7a20>"
      ]
     },
     "execution_count": 10,
     "metadata": {},
     "output_type": "execute_result"
    },
    {
     "data": {
      "text/plain": [
       "<Figure size 720x576 with 0 Axes>"
      ]
     },
     "metadata": {},
     "output_type": "display_data"
    },
    {
     "data": {
      "image/png": "[encoded data removed]",
      "text/plain": [
       "<Figure size 432x288 with 1 Axes>"
      ]
     },
     "metadata": {},
     "output_type": "display_data"
    }
   ],
   "source": [
    "# quick visualization of relevance vs length of article (in words)\n",
    "\n",
    "plt.figure(figsize=(10,8))\n",
    "df.plot.scatter('flood_relevance','article_word_count', alpha = 0.1 )"
   ]
  },
  {
   "cell_type": "markdown",
   "metadata": {},
   "source": [
    "Visually, we can see that all articles flagged as relevant were around 100 words or less. Every article more than around 1500 words was not relevant to a disaster.\n",
    "\n",
    "Let's move on to finding the top words in each category:"
   ]
  },
  {
   "cell_type": "code",
   "execution_count": 11,
   "metadata": {},
   "outputs": [],
   "source": [
    "cvec = CountVectorizer(stop_words = 'english',\n",
    "                      min_df = 5,\n",
    "                      max_df = 1.0)"
   ]
  },
  {
   "cell_type": "code",
   "execution_count": 12,
   "metadata": {},
   "outputs": [],
   "source": [
    "word_df =pd.DataFrame(cvec.fit_transform(df['content']).toarray(), columns = cvec.get_feature_names())"
   ]
  },
  {
   "cell_type": "code",
   "execution_count": 13,
   "metadata": {},
   "outputs": [
    {
     "data": {
      "text/html": [
       "<div>\n",
       "<style scoped>\n",
       "    .dataframe tbody tr th:only-of-type {\n",
       "        vertical-align: middle;\n",
       "    }\n",
       "\n",
       "    .dataframe tbody tr th {\n",
       "        vertical-align: top;\n",
       "    }\n",
       "\n",
       "    .dataframe thead th {\n",
       "        text-align: right;\n",
       "    }\n",
       "</style>\n",
       "<table border=\"1\" class=\"dataframe\">\n",
       "  <thead>\n",
       "    <tr style=\"text-align: right;\">\n",
       "      <th></th>\n",
       "      <th>00</th>\n",
       "      <th>000</th>\n",
       "      <th>02</th>\n",
       "      <th>05</th>\n",
       "      <th>09</th>\n",
       "      <th>10</th>\n",
       "      <th>100</th>\n",
       "      <th>106</th>\n",
       "      <th>107</th>\n",
       "      <th>10th</th>\n",
       "      <th>...</th>\n",
       "      <th>zarif</th>\n",
       "      <th>zealand</th>\n",
       "      <th>zero</th>\n",
       "      <th>zimbabwe</th>\n",
       "      <th>zinc</th>\n",
       "      <th>zone</th>\n",
       "      <th>zones</th>\n",
       "      <th>zoo</th>\n",
       "      <th>zookeeper</th>\n",
       "      <th>zookeepers</th>\n",
       "    </tr>\n",
       "  </thead>\n",
       "  <tbody>\n",
       "    <tr>\n",
       "      <th>0</th>\n",
       "      <td>0</td>\n",
       "      <td>0</td>\n",
       "      <td>0</td>\n",
       "      <td>0</td>\n",
       "      <td>0</td>\n",
       "      <td>0</td>\n",
       "      <td>0</td>\n",
       "      <td>0</td>\n",
       "      <td>0</td>\n",
       "      <td>0</td>\n",
       "      <td>...</td>\n",
       "      <td>0</td>\n",
       "      <td>0</td>\n",
       "      <td>0</td>\n",
       "      <td>0</td>\n",
       "      <td>0</td>\n",
       "      <td>0</td>\n",
       "      <td>0</td>\n",
       "      <td>0</td>\n",
       "      <td>0</td>\n",
       "      <td>0</td>\n",
       "    </tr>\n",
       "    <tr>\n",
       "      <th>1</th>\n",
       "      <td>0</td>\n",
       "      <td>0</td>\n",
       "      <td>0</td>\n",
       "      <td>0</td>\n",
       "      <td>0</td>\n",
       "      <td>0</td>\n",
       "      <td>0</td>\n",
       "      <td>0</td>\n",
       "      <td>0</td>\n",
       "      <td>0</td>\n",
       "      <td>...</td>\n",
       "      <td>0</td>\n",
       "      <td>0</td>\n",
       "      <td>0</td>\n",
       "      <td>1</td>\n",
       "      <td>0</td>\n",
       "      <td>0</td>\n",
       "      <td>0</td>\n",
       "      <td>0</td>\n",
       "      <td>0</td>\n",
       "      <td>0</td>\n",
       "    </tr>\n",
       "    <tr>\n",
       "      <th>2</th>\n",
       "      <td>0</td>\n",
       "      <td>0</td>\n",
       "      <td>0</td>\n",
       "      <td>0</td>\n",
       "      <td>0</td>\n",
       "      <td>0</td>\n",
       "      <td>0</td>\n",
       "      <td>0</td>\n",
       "      <td>0</td>\n",
       "      <td>0</td>\n",
       "      <td>...</td>\n",
       "      <td>0</td>\n",
       "      <td>0</td>\n",
       "      <td>0</td>\n",
       "      <td>0</td>\n",
       "      <td>0</td>\n",
       "      <td>0</td>\n",
       "      <td>0</td>\n",
       "      <td>1</td>\n",
       "      <td>0</td>\n",
       "      <td>0</td>\n",
       "    </tr>\n",
       "    <tr>\n",
       "      <th>3</th>\n",
       "      <td>0</td>\n",
       "      <td>0</td>\n",
       "      <td>0</td>\n",
       "      <td>0</td>\n",
       "      <td>0</td>\n",
       "      <td>0</td>\n",
       "      <td>0</td>\n",
       "      <td>0</td>\n",
       "      <td>0</td>\n",
       "      <td>0</td>\n",
       "      <td>...</td>\n",
       "      <td>0</td>\n",
       "      <td>0</td>\n",
       "      <td>0</td>\n",
       "      <td>0</td>\n",
       "      <td>0</td>\n",
       "      <td>0</td>\n",
       "      <td>0</td>\n",
       "      <td>0</td>\n",
       "      <td>0</td>\n",
       "      <td>0</td>\n",
       "    </tr>\n",
       "    <tr>\n",
       "      <th>4</th>\n",
       "      <td>0</td>\n",
       "      <td>0</td>\n",
       "      <td>0</td>\n",
       "      <td>0</td>\n",
       "      <td>0</td>\n",
       "      <td>1</td>\n",
       "      <td>0</td>\n",
       "      <td>0</td>\n",
       "      <td>0</td>\n",
       "      <td>0</td>\n",
       "      <td>...</td>\n",
       "      <td>0</td>\n",
       "      <td>0</td>\n",
       "      <td>0</td>\n",
       "      <td>0</td>\n",
       "      <td>0</td>\n",
       "      <td>0</td>\n",
       "      <td>0</td>\n",
       "      <td>0</td>\n",
       "      <td>0</td>\n",
       "      <td>0</td>\n",
       "    </tr>\n",
       "  </tbody>\n",
       "</table>\n",
       "<p>5 rows × 6872 columns</p>\n",
       "</div>"
      ],
      "text/plain": [
       "   00  000  02  05  09  10  100  106  107  10th     ...      zarif  zealand  \\\n",
       "0   0    0   0   0   0   0    0    0    0     0     ...          0        0   \n",
       "1   0    0   0   0   0   0    0    0    0     0     ...          0        0   \n",
       "2   0    0   0   0   0   0    0    0    0     0     ...          0        0   \n",
       "3   0    0   0   0   0   0    0    0    0     0     ...          0        0   \n",
       "4   0    0   0   0   0   1    0    0    0     0     ...          0        0   \n",
       "\n",
       "   zero  zimbabwe  zinc  zone  zones  zoo  zookeeper  zookeepers  \n",
       "0     0         0     0     0      0    0          0           0  \n",
       "1     0         1     0     0      0    0          0           0  \n",
       "2     0         0     0     0      0    1          0           0  \n",
       "3     0         0     0     0      0    0          0           0  \n",
       "4     0         0     0     0      0    0          0           0  \n",
       "\n",
       "[5 rows x 6872 columns]"
      ]
     },
     "execution_count": 13,
     "metadata": {},
     "output_type": "execute_result"
    }
   ],
   "source": [
    "word_df.head()"
   ]
  },
  {
   "cell_type": "code",
   "execution_count": 14,
   "metadata": {},
   "outputs": [
    {
     "data": {
      "text/plain": [
       "array([0, 1])"
      ]
     },
     "execution_count": 14,
     "metadata": {},
     "output_type": "execute_result"
    }
   ],
   "source": [
    "df['flood_relevance'].unique()"
   ]
  },
  {
   "cell_type": "code",
   "execution_count": 15,
   "metadata": {},
   "outputs": [
    {
     "data": {
      "text/html": [
       "<div>\n",
       "<style scoped>\n",
       "    .dataframe tbody tr th:only-of-type {\n",
       "        vertical-align: middle;\n",
       "    }\n",
       "\n",
       "    .dataframe tbody tr th {\n",
       "        vertical-align: top;\n",
       "    }\n",
       "\n",
       "    .dataframe thead th {\n",
       "        text-align: right;\n",
       "    }\n",
       "</style>\n",
       "<table border=\"1\" class=\"dataframe\">\n",
       "  <thead>\n",
       "    <tr style=\"text-align: right;\">\n",
       "      <th></th>\n",
       "      <th>flood_relevance</th>\n",
       "      <th>00</th>\n",
       "      <th>000</th>\n",
       "      <th>02</th>\n",
       "      <th>05</th>\n",
       "      <th>09</th>\n",
       "      <th>10</th>\n",
       "      <th>100</th>\n",
       "      <th>106</th>\n",
       "      <th>107</th>\n",
       "      <th>...</th>\n",
       "      <th>zarif</th>\n",
       "      <th>zealand</th>\n",
       "      <th>zero</th>\n",
       "      <th>zimbabwe</th>\n",
       "      <th>zinc</th>\n",
       "      <th>zone</th>\n",
       "      <th>zones</th>\n",
       "      <th>zoo</th>\n",
       "      <th>zookeeper</th>\n",
       "      <th>zookeepers</th>\n",
       "    </tr>\n",
       "  </thead>\n",
       "  <tbody>\n",
       "    <tr>\n",
       "      <th>0</th>\n",
       "      <td>0</td>\n",
       "      <td>0</td>\n",
       "      <td>0</td>\n",
       "      <td>0</td>\n",
       "      <td>0</td>\n",
       "      <td>0</td>\n",
       "      <td>0</td>\n",
       "      <td>0</td>\n",
       "      <td>0</td>\n",
       "      <td>0</td>\n",
       "      <td>...</td>\n",
       "      <td>0</td>\n",
       "      <td>0</td>\n",
       "      <td>0</td>\n",
       "      <td>0</td>\n",
       "      <td>0</td>\n",
       "      <td>0</td>\n",
       "      <td>0</td>\n",
       "      <td>0</td>\n",
       "      <td>0</td>\n",
       "      <td>0</td>\n",
       "    </tr>\n",
       "    <tr>\n",
       "      <th>1</th>\n",
       "      <td>0</td>\n",
       "      <td>0</td>\n",
       "      <td>0</td>\n",
       "      <td>0</td>\n",
       "      <td>0</td>\n",
       "      <td>0</td>\n",
       "      <td>0</td>\n",
       "      <td>0</td>\n",
       "      <td>0</td>\n",
       "      <td>0</td>\n",
       "      <td>...</td>\n",
       "      <td>0</td>\n",
       "      <td>0</td>\n",
       "      <td>0</td>\n",
       "      <td>1</td>\n",
       "      <td>0</td>\n",
       "      <td>0</td>\n",
       "      <td>0</td>\n",
       "      <td>0</td>\n",
       "      <td>0</td>\n",
       "      <td>0</td>\n",
       "    </tr>\n",
       "    <tr>\n",
       "      <th>2</th>\n",
       "      <td>0</td>\n",
       "      <td>0</td>\n",
       "      <td>0</td>\n",
       "      <td>0</td>\n",
       "      <td>0</td>\n",
       "      <td>0</td>\n",
       "      <td>0</td>\n",
       "      <td>0</td>\n",
       "      <td>0</td>\n",
       "      <td>0</td>\n",
       "      <td>...</td>\n",
       "      <td>0</td>\n",
       "      <td>0</td>\n",
       "      <td>0</td>\n",
       "      <td>0</td>\n",
       "      <td>0</td>\n",
       "      <td>0</td>\n",
       "      <td>0</td>\n",
       "      <td>1</td>\n",
       "      <td>0</td>\n",
       "      <td>0</td>\n",
       "    </tr>\n",
       "    <tr>\n",
       "      <th>3</th>\n",
       "      <td>1</td>\n",
       "      <td>0</td>\n",
       "      <td>0</td>\n",
       "      <td>0</td>\n",
       "      <td>0</td>\n",
       "      <td>0</td>\n",
       "      <td>0</td>\n",
       "      <td>0</td>\n",
       "      <td>0</td>\n",
       "      <td>0</td>\n",
       "      <td>...</td>\n",
       "      <td>0</td>\n",
       "      <td>0</td>\n",
       "      <td>0</td>\n",
       "      <td>0</td>\n",
       "      <td>0</td>\n",
       "      <td>0</td>\n",
       "      <td>0</td>\n",
       "      <td>0</td>\n",
       "      <td>0</td>\n",
       "      <td>0</td>\n",
       "    </tr>\n",
       "    <tr>\n",
       "      <th>4</th>\n",
       "      <td>0</td>\n",
       "      <td>0</td>\n",
       "      <td>0</td>\n",
       "      <td>0</td>\n",
       "      <td>0</td>\n",
       "      <td>0</td>\n",
       "      <td>1</td>\n",
       "      <td>0</td>\n",
       "      <td>0</td>\n",
       "      <td>0</td>\n",
       "      <td>...</td>\n",
       "      <td>0</td>\n",
       "      <td>0</td>\n",
       "      <td>0</td>\n",
       "      <td>0</td>\n",
       "      <td>0</td>\n",
       "      <td>0</td>\n",
       "      <td>0</td>\n",
       "      <td>0</td>\n",
       "      <td>0</td>\n",
       "      <td>0</td>\n",
       "    </tr>\n",
       "  </tbody>\n",
       "</table>\n",
       "<p>5 rows × 6873 columns</p>\n",
       "</div>"
      ],
      "text/plain": [
       "   flood_relevance  00  000  02  05  09  10  100  106  107     ...      zarif  \\\n",
       "0                0   0    0   0   0   0   0    0    0    0     ...          0   \n",
       "1                0   0    0   0   0   0   0    0    0    0     ...          0   \n",
       "2                0   0    0   0   0   0   0    0    0    0     ...          0   \n",
       "3                1   0    0   0   0   0   0    0    0    0     ...          0   \n",
       "4                0   0    0   0   0   0   1    0    0    0     ...          0   \n",
       "\n",
       "   zealand  zero  zimbabwe  zinc  zone  zones  zoo  zookeeper  zookeepers  \n",
       "0        0     0         0     0     0      0    0          0           0  \n",
       "1        0     0         1     0     0      0    0          0           0  \n",
       "2        0     0         0     0     0      0    1          0           0  \n",
       "3        0     0         0     0     0      0    0          0           0  \n",
       "4        0     0         0     0     0      0    0          0           0  \n",
       "\n",
       "[5 rows x 6873 columns]"
      ]
     },
     "execution_count": 15,
     "metadata": {},
     "output_type": "execute_result"
    }
   ],
   "source": [
    "target = df['flood_relevance']\n",
    "word_df.insert(0, 'flood_relevance', target)\n",
    "word_df.head()"
   ]
  },
  {
   "cell_type": "code",
   "execution_count": 16,
   "metadata": {},
   "outputs": [
    {
     "data": {
      "text/plain": [
       "array([0, 1])"
      ]
     },
     "execution_count": 16,
     "metadata": {},
     "output_type": "execute_result"
    }
   ],
   "source": [
    "word_df['flood_relevance'].unique()"
   ]
  },
  {
   "cell_type": "code",
   "execution_count": 17,
   "metadata": {},
   "outputs": [
    {
     "data": {
      "text/html": [
       "<div>\n",
       "<style scoped>\n",
       "    .dataframe tbody tr th:only-of-type {\n",
       "        vertical-align: middle;\n",
       "    }\n",
       "\n",
       "    .dataframe tbody tr th {\n",
       "        vertical-align: top;\n",
       "    }\n",
       "\n",
       "    .dataframe thead th {\n",
       "        text-align: right;\n",
       "    }\n",
       "</style>\n",
       "<table border=\"1\" class=\"dataframe\">\n",
       "  <thead>\n",
       "    <tr style=\"text-align: right;\">\n",
       "      <th>flood_relevance</th>\n",
       "      <th>0</th>\n",
       "      <th>1</th>\n",
       "    </tr>\n",
       "  </thead>\n",
       "  <tbody>\n",
       "    <tr>\n",
       "      <th>said</th>\n",
       "      <td>3.790221</td>\n",
       "      <td>2.653005</td>\n",
       "    </tr>\n",
       "    <tr>\n",
       "      <th>playing</th>\n",
       "      <td>2.872240</td>\n",
       "      <td>5.071038</td>\n",
       "    </tr>\n",
       "    <tr>\n",
       "      <th>trump</th>\n",
       "      <td>1.656151</td>\n",
       "      <td>0.278689</td>\n",
       "    </tr>\n",
       "    <tr>\n",
       "      <th>new</th>\n",
       "      <td>1.452681</td>\n",
       "      <td>0.816940</td>\n",
       "    </tr>\n",
       "    <tr>\n",
       "      <th>year</th>\n",
       "      <td>1.397476</td>\n",
       "      <td>0.590164</td>\n",
       "    </tr>\n",
       "    <tr>\n",
       "      <th>people</th>\n",
       "      <td>1.321767</td>\n",
       "      <td>1.133880</td>\n",
       "    </tr>\n",
       "    <tr>\n",
       "      <th>flood</th>\n",
       "      <td>1.238170</td>\n",
       "      <td>1.642077</td>\n",
       "    </tr>\n",
       "    <tr>\n",
       "      <th>president</th>\n",
       "      <td>1.089905</td>\n",
       "      <td>0.166667</td>\n",
       "    </tr>\n",
       "    <tr>\n",
       "      <th>house</th>\n",
       "      <td>0.884858</td>\n",
       "      <td>0.133880</td>\n",
       "    </tr>\n",
       "    <tr>\n",
       "      <th>news</th>\n",
       "      <td>0.865931</td>\n",
       "      <td>0.677596</td>\n",
       "    </tr>\n",
       "  </tbody>\n",
       "</table>\n",
       "</div>"
      ],
      "text/plain": [
       "flood_relevance         0         1\n",
       "said             3.790221  2.653005\n",
       "playing          2.872240  5.071038\n",
       "trump            1.656151  0.278689\n",
       "new              1.452681  0.816940\n",
       "year             1.397476  0.590164\n",
       "people           1.321767  1.133880\n",
       "flood            1.238170  1.642077\n",
       "president        1.089905  0.166667\n",
       "house            0.884858  0.133880\n",
       "news             0.865931  0.677596"
      ]
     },
     "execution_count": 17,
     "metadata": {},
     "output_type": "execute_result"
    }
   ],
   "source": [
    "word_df.groupby('flood_relevance').mean().T.sort_values(0, ascending = False).head(10)"
   ]
  },
  {
   "cell_type": "code",
   "execution_count": 18,
   "metadata": {},
   "outputs": [
    {
     "data": {
      "text/html": [
       "<div>\n",
       "<style scoped>\n",
       "    .dataframe tbody tr th:only-of-type {\n",
       "        vertical-align: middle;\n",
       "    }\n",
       "\n",
       "    .dataframe tbody tr th {\n",
       "        vertical-align: top;\n",
       "    }\n",
       "\n",
       "    .dataframe thead th {\n",
       "        text-align: right;\n",
       "    }\n",
       "</style>\n",
       "<table border=\"1\" class=\"dataframe\">\n",
       "  <thead>\n",
       "    <tr style=\"text-align: right;\">\n",
       "      <th>flood_relevance</th>\n",
       "      <th>0</th>\n",
       "      <th>1</th>\n",
       "    </tr>\n",
       "  </thead>\n",
       "  <tbody>\n",
       "    <tr>\n",
       "      <th>playing</th>\n",
       "      <td>2.872240</td>\n",
       "      <td>5.071038</td>\n",
       "    </tr>\n",
       "    <tr>\n",
       "      <th>said</th>\n",
       "      <td>3.790221</td>\n",
       "      <td>2.653005</td>\n",
       "    </tr>\n",
       "    <tr>\n",
       "      <th>rain</th>\n",
       "      <td>0.331230</td>\n",
       "      <td>2.136612</td>\n",
       "    </tr>\n",
       "    <tr>\n",
       "      <th>storm</th>\n",
       "      <td>0.307571</td>\n",
       "      <td>1.882514</td>\n",
       "    </tr>\n",
       "    <tr>\n",
       "      <th>snow</th>\n",
       "      <td>0.238170</td>\n",
       "      <td>1.781421</td>\n",
       "    </tr>\n",
       "    <tr>\n",
       "      <th>flooding</th>\n",
       "      <td>0.274448</td>\n",
       "      <td>1.710383</td>\n",
       "    </tr>\n",
       "    <tr>\n",
       "      <th>flood</th>\n",
       "      <td>1.238170</td>\n",
       "      <td>1.642077</td>\n",
       "    </tr>\n",
       "    <tr>\n",
       "      <th>weather</th>\n",
       "      <td>0.269716</td>\n",
       "      <td>1.262295</td>\n",
       "    </tr>\n",
       "    <tr>\n",
       "      <th>people</th>\n",
       "      <td>1.321767</td>\n",
       "      <td>1.133880</td>\n",
       "    </tr>\n",
       "    <tr>\n",
       "      <th>river</th>\n",
       "      <td>0.170347</td>\n",
       "      <td>1.125683</td>\n",
       "    </tr>\n",
       "  </tbody>\n",
       "</table>\n",
       "</div>"
      ],
      "text/plain": [
       "flood_relevance         0         1\n",
       "playing          2.872240  5.071038\n",
       "said             3.790221  2.653005\n",
       "rain             0.331230  2.136612\n",
       "storm            0.307571  1.882514\n",
       "snow             0.238170  1.781421\n",
       "flooding         0.274448  1.710383\n",
       "flood            1.238170  1.642077\n",
       "weather          0.269716  1.262295\n",
       "people           1.321767  1.133880\n",
       "river            0.170347  1.125683"
      ]
     },
     "execution_count": 18,
     "metadata": {},
     "output_type": "execute_result"
    }
   ],
   "source": [
    "word_df.groupby('flood_relevance').mean().T.sort_values(1, ascending = False).head(10)"
   ]
  },
  {
   "cell_type": "code",
   "execution_count": 19,
   "metadata": {},
   "outputs": [
    {
     "data": {
      "text/plain": [
       "['said',\n",
       " 'playing',\n",
       " 'trump',\n",
       " 'new',\n",
       " 'year',\n",
       " 'people',\n",
       " 'flood',\n",
       " 'president',\n",
       " 'house',\n",
       " 'news',\n",
       " 'years',\n",
       " 'like',\n",
       " 'government',\n",
       " 'time',\n",
       " 'just']"
      ]
     },
     "execution_count": 19,
     "metadata": {},
     "output_type": "execute_result"
    }
   ],
   "source": [
    "top_relevant_words = list(word_df.groupby('flood_relevance').mean().T.sort_values(0, ascending = False).head(15).index)\n",
    "top_relevant_words\n"
   ]
  },
  {
   "cell_type": "code",
   "execution_count": 20,
   "metadata": {},
   "outputs": [
    {
     "data": {
      "text/plain": [
       "['playing',\n",
       " 'said',\n",
       " 'rain',\n",
       " 'storm',\n",
       " 'snow',\n",
       " 'flooding',\n",
       " 'flood',\n",
       " 'weather',\n",
       " 'people',\n",
       " 'river',\n",
       " 'heavy',\n",
       " 'inches',\n",
       " 'water',\n",
       " 'california',\n",
       " 'expected']"
      ]
     },
     "execution_count": 20,
     "metadata": {},
     "output_type": "execute_result"
    }
   ],
   "source": [
    "top_nonrelevant_words = list(word_df.groupby('flood_relevance').mean().T.sort_values(1, ascending = False).head(15).index)\n",
    "top_nonrelevant_words\n"
   ]
  },
  {
   "cell_type": "markdown",
   "metadata": {},
   "source": [
    "Very cool! Let's do a t-test, then we will formulate some theories."
   ]
  },
  {
   "cell_type": "code",
   "execution_count": 21,
   "metadata": {},
   "outputs": [
    {
     "data": {
      "text/plain": [
       "['people', 'flood', 'playing', 'said']"
      ]
     },
     "execution_count": 21,
     "metadata": {},
     "output_type": "execute_result"
    }
   ],
   "source": [
    "top_words_overlap = list(set(top_relevant_words).intersection(set(top_nonrelevant_words)))\n",
    "top_words_overlap"
   ]
  },
  {
   "cell_type": "code",
   "execution_count": 22,
   "metadata": {},
   "outputs": [
    {
     "data": {
      "text/plain": [
       "{'people': Ttest_indResult(statistic=-1.3450397816120276, pvalue=0.17891794892478996),\n",
       " 'flood': Ttest_indResult(statistic=4.559694316255861, pvalue=5.758249404969066e-06),\n",
       " 'playing': Ttest_indResult(statistic=4.3858017502498825, pvalue=1.2782522175960028e-05),\n",
       " 'said': Ttest_indResult(statistic=-3.875522318922617, pvalue=0.00011334402338665962)}"
      ]
     },
     "execution_count": 22,
     "metadata": {},
     "output_type": "execute_result"
    }
   ],
   "source": [
    "ttest_dict = {}\n",
    "\n",
    "for word in top_words_overlap:\n",
    "    ttest_dict[word] = ttest_ind(word_df[word_df['flood_relevance']==1][word],\n",
    "                                word_df[word_df['flood_relevance']==0][word])\n",
    "ttest_dict"
   ]
  },
  {
   "cell_type": "markdown",
   "metadata": {},
   "source": [
    "We reject the null hypothesis for the words 'flood', 'playing', and 'said' - the means between the two groups are statistically significant.\n",
    "\n",
    "Let's take a quick look at the counts of \"playing\" in these articles:"
   ]
  },
  {
   "cell_type": "code",
   "execution_count": 23,
   "metadata": {},
   "outputs": [
    {
     "data": {
      "text/plain": [
       "0     794\n",
       "20    172\n",
       "1      19\n",
       "19      9\n",
       "2       4\n",
       "21      1\n",
       "18      1\n",
       "Name: playing, dtype: int64"
      ]
     },
     "execution_count": 23,
     "metadata": {},
     "output_type": "execute_result"
    }
   ],
   "source": [
    "word_df['playing'].value_counts()"
   ]
  },
  {
   "cell_type": "markdown",
   "metadata": {},
   "source": [
    "The fact that there are 172 articles that contain the word \"playing\" 20 times should be a bit of a red flag. These are probably arggrate articles that say something like \"now playing\" in regards to an embedded video. These were statistcally significantly flagged as not relevant. "
   ]
  },
  {
   "cell_type": "markdown",
   "metadata": {},
   "source": [
    "## Modeling Using CountVectorizer and Multinomial Naive Bayes"
   ]
  },
  {
   "cell_type": "code",
   "execution_count": 24,
   "metadata": {},
   "outputs": [
    {
     "data": {
      "text/plain": [
       "0    634\n",
       "1    366\n",
       "Name: flood_relevance, dtype: int64"
      ]
     },
     "execution_count": 24,
     "metadata": {},
     "output_type": "execute_result"
    }
   ],
   "source": [
    "X = df['content']\n",
    "y = df['flood_relevance']\n",
    "y.value_counts()"
   ]
  },
  {
   "cell_type": "code",
   "execution_count": 125,
   "metadata": {},
   "outputs": [],
   "source": [
    "X_train, X_test, y_train, y_test = train_test_split(X, y,\n",
    "                                                        test_size = 0.25,\n",
    "                                                        stratify = y,\n",
    "                                                        random_state = 25)"
   ]
  },
  {
   "cell_type": "code",
   "execution_count": 126,
   "metadata": {},
   "outputs": [],
   "source": [
    "def metrics(model, X_test):\n",
    "    pred_test = model.predict(X_test)\n",
    "    cm = confusion_matrix(y_test, pred_test)\n",
    "    tn, fp, fn, tp = cm.ravel()\n",
    "\n",
    "    spec = tn / (tn + fp)\n",
    "    print(f'Specificity: {round(spec,4)}')\n",
    "\n",
    "    sens = tp / (tp + fn)\n",
    "    print(f'Sensitivity: {round(sens,4)}')\n",
    "\n",
    "    acc = (tp + tn)/ (tp + tn + fp + fn)\n",
    "    print(f'Accuracy: {round(acc,4)}')\n",
    "\n",
    "    mis = 1-acc\n",
    "    print(f'Misclassification Rate: {round(mis,4)}')\n",
    "\n",
    "    prec = tp / (tp+fp)\n",
    "    print(f'Precision: {round(prec,4)}')\n",
    "\n",
    "    cm_df = pd.DataFrame(cm, columns =['pred neg', 'pred pos'], index = ['act neg', 'act post'])\n",
    "    return cm_df"
   ]
  },
  {
   "cell_type": "code",
   "execution_count": 129,
   "metadata": {},
   "outputs": [
    {
     "name": "stdout",
     "output_type": "stream",
     "text": [
      "[........................................] 100% | 179.61 sec | GridSearchCV \n"
     ]
    }
   ],
   "source": [
    "pipe = Pipeline([\n",
    "    ('cvec', CountVectorizer()),\n",
    "    ('nb', MultinomialNB())\n",
    "])\n",
    "\n",
    "params = {\n",
    "    'cvec__max_features': [1000,2000,3000,5000],\n",
    "    'cvec__stop_words': [None, 'english'],\n",
    "    'cvec__max_df':[1.0, 0.99],\n",
    "    'cvec__min_df':[1, .01],\n",
    "    'nb__alpha':[1, 1.2, 0.8]\n",
    "}\n",
    "\n",
    "#max_df=1.0, min_df=1,\n",
    "\n",
    "gs = GridSearchCVProgressBar(pipe, params, cv = 3)\n",
    "\n",
    "gs.fit(X_train, y_train);"
   ]
  },
  {
   "cell_type": "code",
   "execution_count": 130,
   "metadata": {},
   "outputs": [
    {
     "name": "stdout",
     "output_type": "stream",
     "text": [
      "{'cvec__max_df': 1.0, 'cvec__max_features': 1000, 'cvec__min_df': 0.01, 'cvec__stop_words': 'english', 'nb__alpha': 0.8}\n",
      "Train Accuracy (all): 0.8226666666666667\n",
      "Test Accuracy (all): 0.82\n",
      "\n",
      "Specificity: 0.7862\n",
      "Sensitivity: 0.8791\n",
      "Accuracy: 0.82\n",
      "Misclassification Rate: 0.18\n",
      "Precision: 0.7018\n"
     ]
    },
    {
     "data": {
      "text/html": [
       "<div>\n",
       "<style scoped>\n",
       "    .dataframe tbody tr th:only-of-type {\n",
       "        vertical-align: middle;\n",
       "    }\n",
       "\n",
       "    .dataframe tbody tr th {\n",
       "        vertical-align: top;\n",
       "    }\n",
       "\n",
       "    .dataframe thead th {\n",
       "        text-align: right;\n",
       "    }\n",
       "</style>\n",
       "<table border=\"1\" class=\"dataframe\">\n",
       "  <thead>\n",
       "    <tr style=\"text-align: right;\">\n",
       "      <th></th>\n",
       "      <th>pred neg</th>\n",
       "      <th>pred pos</th>\n",
       "    </tr>\n",
       "  </thead>\n",
       "  <tbody>\n",
       "    <tr>\n",
       "      <th>act neg</th>\n",
       "      <td>125</td>\n",
       "      <td>34</td>\n",
       "    </tr>\n",
       "    <tr>\n",
       "      <th>act post</th>\n",
       "      <td>11</td>\n",
       "      <td>80</td>\n",
       "    </tr>\n",
       "  </tbody>\n",
       "</table>\n",
       "</div>"
      ],
      "text/plain": [
       "          pred neg  pred pos\n",
       "act neg        125        34\n",
       "act post        11        80"
      ]
     },
     "execution_count": 130,
     "metadata": {},
     "output_type": "execute_result"
    }
   ],
   "source": [
    "print(gs.best_params_)\n",
    "print('Train Accuracy (all):', gs.score(X_train, y_train))\n",
    "print('Test Accuracy (all):', gs.score(X_test, y_test))\n",
    "print('')\n",
    "metrics(gs, X_test)"
   ]
  },
  {
   "cell_type": "markdown",
   "metadata": {},
   "source": [
    "## Modeling Using TfidfVectorizer and Logistic Regression"
   ]
  },
  {
   "cell_type": "code",
   "execution_count": 135,
   "metadata": {},
   "outputs": [
    {
     "name": "stdout",
     "output_type": "stream",
     "text": [
      "[........................................] 100% | 344.07 sec | GridSearchCV \n"
     ]
    }
   ],
   "source": [
    "pipe = Pipeline([\n",
    "    ('tvec', TfidfVectorizer()),\n",
    "    ('lr', LogisticRegression())    \n",
    "])\n",
    "\n",
    "params = {\n",
    "    'tvec__stop_words': [None, 'english'],\n",
    "    'tvec__max_features': [200, 500, 1000,2000, None],\n",
    "    'tvec__max_df':[1.0, 0.99, 0.98],\n",
    "    'tvec__min_df':[1, .01, .02],\n",
    "    'lr__penalty':['l1','l2']\n",
    "}\n",
    "gs2 = GridSearchCVProgressBar(pipe, params, cv = 3)\n",
    "\n",
    "gs2.fit(X_train, y_train);"
   ]
  },
  {
   "cell_type": "code",
   "execution_count": 136,
   "metadata": {},
   "outputs": [
    {
     "name": "stdout",
     "output_type": "stream",
     "text": [
      "{'lr__penalty': 'l2', 'tvec__max_df': 1.0, 'tvec__max_features': 1000, 'tvec__min_df': 0.02, 'tvec__stop_words': 'english'}\n",
      "0.8373333333333334\n",
      "Train Accuracy (all): 0.8746666666666667\n",
      "Test Accuracy (all): 0.836\n",
      "\n",
      "Specificity: 0.8679\n",
      "Sensitivity: 0.7802\n",
      "Accuracy: 0.836\n",
      "Misclassification Rate: 0.164\n",
      "Precision: 0.7717\n"
     ]
    },
    {
     "data": {
      "text/html": [
       "<div>\n",
       "<style scoped>\n",
       "    .dataframe tbody tr th:only-of-type {\n",
       "        vertical-align: middle;\n",
       "    }\n",
       "\n",
       "    .dataframe tbody tr th {\n",
       "        vertical-align: top;\n",
       "    }\n",
       "\n",
       "    .dataframe thead th {\n",
       "        text-align: right;\n",
       "    }\n",
       "</style>\n",
       "<table border=\"1\" class=\"dataframe\">\n",
       "  <thead>\n",
       "    <tr style=\"text-align: right;\">\n",
       "      <th></th>\n",
       "      <th>pred neg</th>\n",
       "      <th>pred pos</th>\n",
       "    </tr>\n",
       "  </thead>\n",
       "  <tbody>\n",
       "    <tr>\n",
       "      <th>act neg</th>\n",
       "      <td>138</td>\n",
       "      <td>21</td>\n",
       "    </tr>\n",
       "    <tr>\n",
       "      <th>act post</th>\n",
       "      <td>20</td>\n",
       "      <td>71</td>\n",
       "    </tr>\n",
       "  </tbody>\n",
       "</table>\n",
       "</div>"
      ],
      "text/plain": [
       "          pred neg  pred pos\n",
       "act neg        138        21\n",
       "act post        20        71"
      ]
     },
     "execution_count": 136,
     "metadata": {},
     "output_type": "execute_result"
    }
   ],
   "source": [
    "print(gs2.best_params_)\n",
    "print(gs2.best_score_)\n",
    "print('Train Accuracy (all):', gs2.score(X_train, y_train))\n",
    "print('Test Accuracy (all):', gs2.score(X_test, y_test))\n",
    "print('')\n",
    "metrics(gs2, X_test)"
   ]
  },
  {
   "cell_type": "markdown",
   "metadata": {},
   "source": [
    "Both these models aren't necessarily the worst but we can do better. We would also really like to minimize false negatives - we don't want any relevant articles to  make it through our filter.\n",
    "\n",
    "With logreg, lets see what words were the largest determiners of relevance:"
   ]
  },
  {
   "cell_type": "code",
   "execution_count": 137,
   "metadata": {},
   "outputs": [
    {
     "data": {
      "text/html": [
       "<div>\n",
       "<style scoped>\n",
       "    .dataframe tbody tr th:only-of-type {\n",
       "        vertical-align: middle;\n",
       "    }\n",
       "\n",
       "    .dataframe tbody tr th {\n",
       "        vertical-align: top;\n",
       "    }\n",
       "\n",
       "    .dataframe thead th {\n",
       "        text-align: right;\n",
       "    }\n",
       "</style>\n",
       "<table border=\"1\" class=\"dataframe\">\n",
       "  <thead>\n",
       "    <tr style=\"text-align: right;\">\n",
       "      <th></th>\n",
       "      <th>feature</th>\n",
       "      <th>coef</th>\n",
       "    </tr>\n",
       "  </thead>\n",
       "  <tbody>\n",
       "    <tr>\n",
       "      <th>0</th>\n",
       "      <td>000</td>\n",
       "      <td>0.262573</td>\n",
       "    </tr>\n",
       "    <tr>\n",
       "      <th>1</th>\n",
       "      <td>10</td>\n",
       "      <td>-0.260637</td>\n",
       "    </tr>\n",
       "    <tr>\n",
       "      <th>2</th>\n",
       "      <td>100</td>\n",
       "      <td>-0.256040</td>\n",
       "    </tr>\n",
       "    <tr>\n",
       "      <th>3</th>\n",
       "      <td>11</td>\n",
       "      <td>0.328781</td>\n",
       "    </tr>\n",
       "    <tr>\n",
       "      <th>4</th>\n",
       "      <td>12</td>\n",
       "      <td>0.129593</td>\n",
       "    </tr>\n",
       "  </tbody>\n",
       "</table>\n",
       "</div>"
      ],
      "text/plain": [
       "  feature      coef\n",
       "0     000  0.262573\n",
       "1      10 -0.260637\n",
       "2     100 -0.256040\n",
       "3      11  0.328781\n",
       "4      12  0.129593"
      ]
     },
     "execution_count": 137,
     "metadata": {},
     "output_type": "execute_result"
    }
   ],
   "source": [
    "df_features = pd.DataFrame({'feature': gs2.best_estimator_.named_steps.tvec.get_feature_names(),\n",
    "                           'coef': gs2.best_estimator_.named_steps.lr.coef_[0] })\n",
    "df_features.head()"
   ]
  },
  {
   "cell_type": "code",
   "execution_count": 141,
   "metadata": {},
   "outputs": [],
   "source": [
    "df_features['exp(coef)'] = df_features['coef'].map(lambda x: np.exp(x))\n",
    "df_features['abs_coef'] = df_features['coef'].map(lambda x: abs(x))\n"
   ]
  },
  {
   "cell_type": "code",
   "execution_count": 142,
   "metadata": {},
   "outputs": [
    {
     "data": {
      "text/html": [
       "<div>\n",
       "<style scoped>\n",
       "    .dataframe tbody tr th:only-of-type {\n",
       "        vertical-align: middle;\n",
       "    }\n",
       "\n",
       "    .dataframe tbody tr th {\n",
       "        vertical-align: top;\n",
       "    }\n",
       "\n",
       "    .dataframe thead th {\n",
       "        text-align: right;\n",
       "    }\n",
       "</style>\n",
       "<table border=\"1\" class=\"dataframe\">\n",
       "  <thead>\n",
       "    <tr style=\"text-align: right;\">\n",
       "      <th></th>\n",
       "      <th>feature</th>\n",
       "      <th>coef</th>\n",
       "      <th>exp(coef)</th>\n",
       "      <th>abs_coef</th>\n",
       "    </tr>\n",
       "  </thead>\n",
       "  <tbody>\n",
       "    <tr>\n",
       "      <th>352</th>\n",
       "      <td>flooding</td>\n",
       "      <td>2.155003</td>\n",
       "      <td>8.627916</td>\n",
       "      <td>2.155003</td>\n",
       "    </tr>\n",
       "    <tr>\n",
       "      <th>717</th>\n",
       "      <td>rain</td>\n",
       "      <td>1.573900</td>\n",
       "      <td>4.825432</td>\n",
       "      <td>1.573900</td>\n",
       "    </tr>\n",
       "    <tr>\n",
       "      <th>763</th>\n",
       "      <td>river</td>\n",
       "      <td>1.515790</td>\n",
       "      <td>4.553018</td>\n",
       "      <td>1.515790</td>\n",
       "    </tr>\n",
       "    <tr>\n",
       "      <th>615</th>\n",
       "      <td>nebraska</td>\n",
       "      <td>1.417996</td>\n",
       "      <td>4.128836</td>\n",
       "      <td>1.417996</td>\n",
       "    </tr>\n",
       "    <tr>\n",
       "      <th>858</th>\n",
       "      <td>storm</td>\n",
       "      <td>1.306395</td>\n",
       "      <td>3.692837</td>\n",
       "      <td>1.306395</td>\n",
       "    </tr>\n",
       "    <tr>\n",
       "      <th>446</th>\n",
       "      <td>inches</td>\n",
       "      <td>1.259436</td>\n",
       "      <td>3.523434</td>\n",
       "      <td>1.259436</td>\n",
       "    </tr>\n",
       "    <tr>\n",
       "      <th>827</th>\n",
       "      <td>snow</td>\n",
       "      <td>1.244404</td>\n",
       "      <td>3.470865</td>\n",
       "      <td>1.244404</td>\n",
       "    </tr>\n",
       "    <tr>\n",
       "      <th>996</th>\n",
       "      <td>year</td>\n",
       "      <td>-1.238877</td>\n",
       "      <td>0.289709</td>\n",
       "      <td>1.238877</td>\n",
       "    </tr>\n",
       "    <tr>\n",
       "      <th>677</th>\n",
       "      <td>playing</td>\n",
       "      <td>1.234805</td>\n",
       "      <td>3.437708</td>\n",
       "      <td>1.234805</td>\n",
       "    </tr>\n",
       "    <tr>\n",
       "      <th>347</th>\n",
       "      <td>flash</td>\n",
       "      <td>1.218770</td>\n",
       "      <td>3.383025</td>\n",
       "      <td>1.218770</td>\n",
       "    </tr>\n",
       "    <tr>\n",
       "      <th>413</th>\n",
       "      <td>heavy</td>\n",
       "      <td>1.217608</td>\n",
       "      <td>3.379096</td>\n",
       "      <td>1.217608</td>\n",
       "    </tr>\n",
       "    <tr>\n",
       "      <th>353</th>\n",
       "      <td>floods</td>\n",
       "      <td>1.175809</td>\n",
       "      <td>3.240762</td>\n",
       "      <td>1.175809</td>\n",
       "    </tr>\n",
       "    <tr>\n",
       "      <th>997</th>\n",
       "      <td>years</td>\n",
       "      <td>-1.024634</td>\n",
       "      <td>0.358928</td>\n",
       "      <td>1.024634</td>\n",
       "    </tr>\n",
       "    <tr>\n",
       "      <th>573</th>\n",
       "      <td>midwest</td>\n",
       "      <td>1.014647</td>\n",
       "      <td>2.758389</td>\n",
       "      <td>1.014647</td>\n",
       "    </tr>\n",
       "    <tr>\n",
       "      <th>585</th>\n",
       "      <td>missouri</td>\n",
       "      <td>0.982314</td>\n",
       "      <td>2.670630</td>\n",
       "      <td>0.982314</td>\n",
       "    </tr>\n",
       "    <tr>\n",
       "      <th>963</th>\n",
       "      <td>waters</td>\n",
       "      <td>0.975359</td>\n",
       "      <td>2.652120</td>\n",
       "      <td>0.975359</td>\n",
       "    </tr>\n",
       "    <tr>\n",
       "      <th>836</th>\n",
       "      <td>southern</td>\n",
       "      <td>0.889696</td>\n",
       "      <td>2.434389</td>\n",
       "      <td>0.889696</td>\n",
       "    </tr>\n",
       "    <tr>\n",
       "      <th>622</th>\n",
       "      <td>new</td>\n",
       "      <td>-0.887493</td>\n",
       "      <td>0.411686</td>\n",
       "      <td>0.887493</td>\n",
       "    </tr>\n",
       "    <tr>\n",
       "      <th>764</th>\n",
       "      <td>rivers</td>\n",
       "      <td>0.886229</td>\n",
       "      <td>2.425965</td>\n",
       "      <td>0.886229</td>\n",
       "    </tr>\n",
       "    <tr>\n",
       "      <th>313</th>\n",
       "      <td>expected</td>\n",
       "      <td>0.885352</td>\n",
       "      <td>2.423839</td>\n",
       "      <td>0.885352</td>\n",
       "    </tr>\n",
       "    <tr>\n",
       "      <th>800</th>\n",
       "      <td>service</td>\n",
       "      <td>0.871997</td>\n",
       "      <td>2.391683</td>\n",
       "      <td>0.871997</td>\n",
       "    </tr>\n",
       "    <tr>\n",
       "      <th>749</th>\n",
       "      <td>rescue</td>\n",
       "      <td>0.870307</td>\n",
       "      <td>2.387643</td>\n",
       "      <td>0.870307</td>\n",
       "    </tr>\n",
       "    <tr>\n",
       "      <th>664</th>\n",
       "      <td>percent</td>\n",
       "      <td>-0.870207</td>\n",
       "      <td>0.418865</td>\n",
       "      <td>0.870207</td>\n",
       "    </tr>\n",
       "    <tr>\n",
       "      <th>658</th>\n",
       "      <td>parts</td>\n",
       "      <td>0.854393</td>\n",
       "      <td>2.349947</td>\n",
       "      <td>0.854393</td>\n",
       "    </tr>\n",
       "    <tr>\n",
       "      <th>584</th>\n",
       "      <td>mississippi</td>\n",
       "      <td>0.847472</td>\n",
       "      <td>2.333739</td>\n",
       "      <td>0.847472</td>\n",
       "    </tr>\n",
       "    <tr>\n",
       "      <th>692</th>\n",
       "      <td>president</td>\n",
       "      <td>-0.784308</td>\n",
       "      <td>0.456435</td>\n",
       "      <td>0.784308</td>\n",
       "    </tr>\n",
       "    <tr>\n",
       "      <th>577</th>\n",
       "      <td>million</td>\n",
       "      <td>-0.783920</td>\n",
       "      <td>0.456612</td>\n",
       "      <td>0.783920</td>\n",
       "    </tr>\n",
       "    <tr>\n",
       "      <th>719</th>\n",
       "      <td>rains</td>\n",
       "      <td>0.781155</td>\n",
       "      <td>2.183994</td>\n",
       "      <td>0.781155</td>\n",
       "    </tr>\n",
       "    <tr>\n",
       "      <th>125</th>\n",
       "      <td>california</td>\n",
       "      <td>0.780340</td>\n",
       "      <td>2.182214</td>\n",
       "      <td>0.780340</td>\n",
       "    </tr>\n",
       "    <tr>\n",
       "      <th>982</th>\n",
       "      <td>winds</td>\n",
       "      <td>0.778239</td>\n",
       "      <td>2.177635</td>\n",
       "      <td>0.778239</td>\n",
       "    </tr>\n",
       "  </tbody>\n",
       "</table>\n",
       "</div>"
      ],
      "text/plain": [
       "         feature      coef  exp(coef)  abs_coef\n",
       "352     flooding  2.155003   8.627916  2.155003\n",
       "717         rain  1.573900   4.825432  1.573900\n",
       "763        river  1.515790   4.553018  1.515790\n",
       "615     nebraska  1.417996   4.128836  1.417996\n",
       "858        storm  1.306395   3.692837  1.306395\n",
       "446       inches  1.259436   3.523434  1.259436\n",
       "827         snow  1.244404   3.470865  1.244404\n",
       "996         year -1.238877   0.289709  1.238877\n",
       "677      playing  1.234805   3.437708  1.234805\n",
       "347        flash  1.218770   3.383025  1.218770\n",
       "413        heavy  1.217608   3.379096  1.217608\n",
       "353       floods  1.175809   3.240762  1.175809\n",
       "997        years -1.024634   0.358928  1.024634\n",
       "573      midwest  1.014647   2.758389  1.014647\n",
       "585     missouri  0.982314   2.670630  0.982314\n",
       "963       waters  0.975359   2.652120  0.975359\n",
       "836     southern  0.889696   2.434389  0.889696\n",
       "622          new -0.887493   0.411686  0.887493\n",
       "764       rivers  0.886229   2.425965  0.886229\n",
       "313     expected  0.885352   2.423839  0.885352\n",
       "800      service  0.871997   2.391683  0.871997\n",
       "749       rescue  0.870307   2.387643  0.870307\n",
       "664      percent -0.870207   0.418865  0.870207\n",
       "658        parts  0.854393   2.349947  0.854393\n",
       "584  mississippi  0.847472   2.333739  0.847472\n",
       "692    president -0.784308   0.456435  0.784308\n",
       "577      million -0.783920   0.456612  0.783920\n",
       "719        rains  0.781155   2.183994  0.781155\n",
       "125   california  0.780340   2.182214  0.780340\n",
       "982        winds  0.778239   2.177635  0.778239"
      ]
     },
     "execution_count": 142,
     "metadata": {},
     "output_type": "execute_result"
    }
   ],
   "source": [
    "df_features.sort_values(by = 'abs_coef',ascending = False).head(30)"
   ]
  },
  {
   "cell_type": "markdown",
   "metadata": {},
   "source": [
    "A few things to notice here - some of the top determining words are STATES or LOCATIONS (nebraska, midwest, missouri, southern). We don't want these in our model - it should not be sesntitive to locations, since floods can happen anywhere, and we don't want to train our model to the wrong things. With this in mind, we will add these stop words to our model with the best overall scores, which is Anna's using SVD."
   ]
  },
  {
   "cell_type": "code",
   "execution_count": null,
   "metadata": {},
   "outputs": [],
   "source": []
  }
 ],
 "metadata": {
  "kernelspec": {
   "display_name": "Python 3",
   "language": "python",
   "name": "python3"
  },
  "language_info": {
   "codemirror_mode": {
    "name": "ipython",
    "version": 3
   },
   "file_extension": ".py",
   "mimetype": "text/x-python",
   "name": "python",
   "nbconvert_exporter": "python",
   "pygments_lexer": "ipython3",
   "version": "3.6.5"
  }
 },
 "nbformat": 4,
 "nbformat_minor": 2
}
